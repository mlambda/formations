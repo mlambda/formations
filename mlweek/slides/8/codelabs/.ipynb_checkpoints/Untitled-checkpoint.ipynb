{
 "cells": [
  {
   "cell_type": "code",
   "execution_count": 1,
   "metadata": {},
   "outputs": [],
   "source": [
    "%matplotlib notebook"
   ]
  },
  {
   "cell_type": "markdown",
   "metadata": {},
   "source": [
    "# Etudier un dataset de manière non-supervisé\n",
    "\n",
    "Choissisez un dataset et utilisez les outils vus en cours pour étudier un dataset.\n",
    "\n",
    "Affichez tous les graphiques et métriques que vous estimerez nécessaire.\n"
   ]
  },
  {
   "cell_type": "code",
   "execution_count": null,
   "metadata": {},
   "outputs": [],
   "source": [
    "import numpy as np\n",
    "import matplotlib.pyplot as plt\n",
    "\n",
    "print(\"put your code here\")\n"
   ]
  },
  {
   "cell_type": "markdown",
   "metadata": {},
   "source": [
    "# Trouver une caractéristique pertinente que l'on voudrait inférer à partir des autres\n",
    "Dans certain dataset une tâche est déjà énoncé.\n",
    "Pour fifa19 par exemple, on pourrait vouloir inférer le salaire d'un joueur à partir de ses mensurations.\n",
    "\n",
    "# Train/Valid/Test\n",
    "\n",
    "# Comparez les résultats de SVM et Random Forest.\n",
    "\n",
    "Faites jouer les méta-paramètres à disposition.\n",
    "\n",
    "\n",
    "\n",
    "\n",
    "\n"
   ]
  }
 ],
 "metadata": {
  "kernelspec": {
   "display_name": "Python 3",
   "language": "python",
   "name": "python3"
  },
  "language_info": {
   "codemirror_mode": {
    "name": "ipython",
    "version": 3
   },
   "file_extension": ".py",
   "mimetype": "text/x-python",
   "name": "python",
   "nbconvert_exporter": "python",
   "pygments_lexer": "ipython3",
   "version": "3.5.3"
  }
 },
 "nbformat": 4,
 "nbformat_minor": 2
}
