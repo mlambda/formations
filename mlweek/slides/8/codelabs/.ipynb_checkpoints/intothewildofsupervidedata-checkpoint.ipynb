{
 "cells": [
  {
   "cell_type": "code",
   "execution_count": null,
   "metadata": {},
   "outputs": [],
   "source": [
    "%matplotlib notebook"
   ]
  },
  {
   "cell_type": "markdown",
   "metadata": {},
   "source": [
    "# Etudier un dataset de manière Supervisé\n",
    "\n",
    "- Trouver une caractéristique pertinente que l'on voudrait inférer à partir des autres\n",
    "    - Dans certain dataset une tâche est déjà énoncé.\n",
    "    - Pour fifa19 par exemple, on pourrait vouloir inférer le salaire d'un joueur à partir de ses mensurations.\n",
    "\n",
    "- Train/Valid/Test\n",
    "    - Ne trichez pas ! \n",
    "    - On apprend sur Train, on optimize la performance sur Valid et enfin on teste sur l'ensemble de Test.\n",
    "\n",
    "- Comparez les résultats de SVM et Random Forest.\n",
    "    - Affichez des résultats comparables.\n",
    "    - Si on relance le script, obtient-on les mêmes résultats ?\n",
    "    - Combien de temps dure un appel à .fit() ?\n",
    "    - Combien de run pour optimiser les méta-paramètres ?\n"
   ]
  },
  {
   "cell_type": "code",
   "execution_count": null,
   "metadata": {},
   "outputs": [],
   "source": [
    "import numpy as np\n",
    "import matplotlib.pyplot as plt\n",
    "\n",
    "d=np.genfromtxt('data/toy-problems/Aggregation.txt', delimiter='\\t')\n",
    "print(np.shape(d))\n",
    "print(d)\n",
    "\n",
    "print(\"put your code here\")"
   ]
  }
 ],
 "metadata": {
  "kernelspec": {
   "display_name": "Python 3",
   "language": "python",
   "name": "python3"
  },
  "language_info": {
   "codemirror_mode": {
    "name": "ipython",
    "version": 3
   },
   "file_extension": ".py",
   "mimetype": "text/x-python",
   "name": "python",
   "nbconvert_exporter": "python",
   "pygments_lexer": "ipython3",
   "version": "3.5.3"
  }
 },
 "nbformat": 4,
 "nbformat_minor": 2
}
