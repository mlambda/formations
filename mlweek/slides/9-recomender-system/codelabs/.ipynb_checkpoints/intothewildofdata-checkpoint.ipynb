{
 "cells": [
  {
   "cell_type": "code",
   "execution_count": 1,
   "metadata": {},
   "outputs": [],
   "source": [
    "%matplotlib notebook"
   ]
  },
  {
   "cell_type": "markdown",
   "metadata": {},
   "source": [
    "# Etudier un dataset de manière non-supervisé\n",
    "\n",
    "Choissisez un dataset et utilisez les outils vus en cours pour étudier un dataset.\n",
    "\n",
    "Affichez tous les graphiques et métriques que vous estimerez nécessaire.\n"
   ]
  },
  {
   "cell_type": "code",
   "execution_count": null,
   "metadata": {},
   "outputs": [],
   "source": [
    "import numpy as np\n",
    "import matplotlib.pyplot as plt\n",
    "\n",
    "print(\"put your code here\")\n"
   ]
  },
  {
   "cell_type": "markdown",
   "metadata": {},
   "source": [
    "# Trouver une caractéristique pertinente que l'on voudrait inférer à partir des autres\n",
    "Dans certain dataset une tâche est déjà énoncé.\n",
    "Pour fifa19 par exemple, on pourrait vouloir inférer le salaire d'un joueur à partir de ses mensurations.\n",
    "\n",
    "# Train/Valid/Test\n",
    "Ne trichez pas ! \n",
    "On apprend sur Train, on optimize la performance sur Valid et enfin on teste sur l'ensemble de Test.\n",
    "\n",
    "# Comparez les résultats de SVM et Random Forest.\n",
    "\n",
    "Affichez des résultats comparables.\n",
    "Si on relance le script, obtient-on les mêmes résultats ?\n",
    "Combien de temps dure un appel à .fit() ?\n",
    "Combien de run pour optimiser les méta-paramètres ?\n",
    "\n",
    "\n",
    "\n",
    "\n",
    "\n",
    "\n"
   ]
  }
 ],
 "metadata": {
  "kernelspec": {
   "display_name": "Python 3",
   "language": "python",
   "name": "python3"
  },
  "language_info": {
   "codemirror_mode": {
    "name": "ipython",
    "version": 3
   },
   "file_extension": ".py",
   "mimetype": "text/x-python",
   "name": "python",
   "nbconvert_exporter": "python",
   "pygments_lexer": "ipython3",
   "version": "3.5.3"
  }
 },
 "nbformat": 4,
 "nbformat_minor": 2
}
