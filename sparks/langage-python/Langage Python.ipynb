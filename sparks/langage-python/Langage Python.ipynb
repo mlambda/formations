{
 "cells": [
  {
   "cell_type": "markdown",
   "metadata": {},
   "source": [
    "# Python en ligne de commande"
   ]
  },
  {
   "cell_type": "markdown",
   "metadata": {},
   "source": [
    "## L'interpréteur Python"
   ]
  },
  {
   "cell_type": "markdown",
   "metadata": {},
   "source": [
    "## Différences avec le mode script"
   ]
  },
  {
   "cell_type": "markdown",
   "metadata": {},
   "source": [
    "## Les interpréteurs iPython et bPython"
   ]
  },
  {
   "cell_type": "markdown",
   "metadata": {},
   "source": [
    "# Maîtriser les types et objets de bases"
   ]
  },
  {
   "cell_type": "markdown",
   "metadata": {},
   "source": [
    "## Les chaînes\n",
    "\n",
    "Python délimite des chaînes de caractères avec des `\"`, des `'`, et des `\"\"\"` pour les chaînes multilignes."
   ]
  },
  {
   "cell_type": "code",
   "execution_count": 32,
   "metadata": {},
   "outputs": [
    {
     "name": "stdout",
     "output_type": "stream",
     "text": [
      "Une première chaîne\n",
      "\n",
      "Une deuxième chaîne\n",
      "\n",
      "Une troisième chaîne\n",
      "Sur plusieurs lignes\n",
      "\n",
      "Une chaîne avec des caractères spéciaux.\n",
      "Qui ont leur sens spécial\n",
      "\n",
      "Une chaîne brute avec des caractères spéciaux\\nQui n'ont plus leur sens spécial\n"
     ]
    }
   ],
   "source": [
    "print(\"Une première chaîne\")\n",
    "print()\n",
    "\n",
    "print('Une deuxième chaîne')\n",
    "print()\n",
    "\n",
    "print(\"\"\"Une troisième chaîne\n",
    "Sur plusieurs lignes\"\"\")\n",
    "print()\n",
    "\n",
    "print(\"Une chaîne avec des caractères spéciaux.\\nQui ont leur sens spécial\")\n",
    "print()\n",
    "\n",
    "print(r\"Une chaîne brute avec des caractères spéciaux\\nQui n'ont plus leur sens spécial\")"
   ]
  },
  {
   "cell_type": "markdown",
   "metadata": {},
   "source": [
    "### Fonctions sur les chaînes"
   ]
  },
  {
   "cell_type": "markdown",
   "metadata": {},
   "source": [
    "### Formater des variables à l'intérieur de chaînes de caractères\n",
    "\n",
    "Il est possible, comme en C et d'autres langages, de formater"
   ]
  },
  {
   "cell_type": "code",
   "execution_count": 35,
   "metadata": {},
   "outputs": [
    {
     "name": "stdout",
     "output_type": "stream",
     "text": [
      "Il fait 14 degrés aujourd'hui\n",
      "Il fait 14 degrés aujourd'hui\n",
      "Il fait 14 degrés aujourd'hui\n"
     ]
    }
   ],
   "source": [
    "print(\"Il fait %d degrés aujourd'hui\" % 14)  # Python >= 2\n",
    "print(\"Il fait {degrés} degrés aujourd'hui\".format(degrés=14))  # Python >= 3\n",
    "degrés = 14\n",
    "print(f\"Il fait {degrés} degrés aujourd'hui\")  # Python >= 3.6"
   ]
  },
  {
   "cell_type": "markdown",
   "metadata": {},
   "source": [
    "Un bon site de référence pour toutes les options de format est https://pyformat.info/."
   ]
  },
  {
   "cell_type": "markdown",
   "metadata": {},
   "source": [
    "## Les tableaux indicés (tuples et listes)\n",
    "\n",
    "Un outil incontournable dans n'importe quel langage de programmation. Les listes Python sont de véritables couteaux suisses."
   ]
  },
  {
   "cell_type": "code",
   "execution_count": null,
   "metadata": {},
   "outputs": [],
   "source": [
    "homogene = [1, 2, 3]  # conseillé\n",
    "hétérogène = []"
   ]
  },
  {
   "cell_type": "markdown",
   "metadata": {},
   "source": [
    "## Les tableaux associatifs (dictionnaires)"
   ]
  },
  {
   "cell_type": "markdown",
   "metadata": {},
   "source": [
    "## Les nombres Python et leurs particularités"
   ]
  },
  {
   "cell_type": "markdown",
   "metadata": {},
   "source": [
    "## Les booléens"
   ]
  },
  {
   "cell_type": "markdown",
   "metadata": {},
   "source": [
    "## Les autres types avancés de Python (sets, fractions, …)"
   ]
  },
  {
   "cell_type": "markdown",
   "metadata": {},
   "source": [
    "## Introspection (dir, help)"
   ]
  },
  {
   "cell_type": "markdown",
   "metadata": {},
   "source": [
    "## Gestion de la mémoire, objets muables et immuables : bien comprendre comment cela fonctionne"
   ]
  },
  {
   "cell_type": "markdown",
   "metadata": {
    "id": "8Ywqu85h3fVZ"
   },
   "source": [
    "# Structuration du code"
   ]
  },
  {
   "cell_type": "markdown",
   "metadata": {
    "id": "8Ywqu85h3fVZ"
   },
   "source": [
    "## if, for, while, émuler un switch_case"
   ]
  },
  {
   "cell_type": "markdown",
   "metadata": {},
   "source": [
    "## Les fonctions (paramètres et passage d'arguments)"
   ]
  },
  {
   "cell_type": "markdown",
   "metadata": {},
   "source": [
    "## Visibilité des variables"
   ]
  },
  {
   "cell_type": "markdown",
   "metadata": {},
   "source": [
    "# Gérer les exceptions et les erreurs"
   ]
  },
  {
   "cell_type": "markdown",
   "metadata": {},
   "source": [
    "## try except finally"
   ]
  },
  {
   "cell_type": "markdown",
   "metadata": {},
   "source": [
    "## raise"
   ]
  },
  {
   "cell_type": "markdown",
   "metadata": {},
   "source": [
    "## Exception"
   ]
  },
  {
   "cell_type": "markdown",
   "metadata": {},
   "source": [
    "## assert"
   ]
  },
  {
   "cell_type": "markdown",
   "metadata": {},
   "source": [
    "## traceback"
   ]
  },
  {
   "cell_type": "markdown",
   "metadata": {},
   "source": [
    "## pdb"
   ]
  },
  {
   "cell_type": "markdown",
   "metadata": {},
   "source": [
    "# Mots clefs et fonctions utiles\n",
    "\n",
    "with, map, lambda, filter, any, all etc."
   ]
  },
  {
   "cell_type": "markdown",
   "metadata": {},
   "source": [
    "# Conventions de codage et de nommage"
   ]
  },
  {
   "cell_type": "markdown",
   "metadata": {},
   "source": [
    "## pep-0008"
   ]
  },
  {
   "cell_type": "markdown",
   "metadata": {},
   "source": [
    "## pep-0257"
   ]
  },
  {
   "cell_type": "markdown",
   "metadata": {},
   "source": [
    "## pylint"
   ]
  },
  {
   "cell_type": "markdown",
   "metadata": {},
   "source": [
    "# Développer des librairies"
   ]
  },
  {
   "cell_type": "markdown",
   "metadata": {},
   "source": [
    "## Les packages et modules"
   ]
  },
  {
   "cell_type": "markdown",
   "metadata": {},
   "source": [
    "## Les techniques et règles d'importation des librairies tierces"
   ]
  },
  {
   "cell_type": "markdown",
   "metadata": {},
   "source": [
    "## Écrire ses tests sans gêner les imports"
   ]
  },
  {
   "cell_type": "markdown",
   "metadata": {},
   "source": [
    "## Installer une librairie avec pip"
   ]
  },
  {
   "cell_type": "markdown",
   "metadata": {},
   "source": [
    "# Programmation Orientée Objets (P.O.O.)"
   ]
  },
  {
   "cell_type": "markdown",
   "metadata": {},
   "source": [
    "## Présentation des concepts de la Programmation Orientée Objets"
   ]
  },
  {
   "cell_type": "markdown",
   "metadata": {},
   "source": [
    "## Attributs et méthodes de classe/instance"
   ]
  },
  {
   "cell_type": "markdown",
   "metadata": {},
   "source": [
    "## Les méthodes spéciales (surcharges d'opérateurs, casting, constructeur, destructeur, …)"
   ]
  },
  {
   "cell_type": "markdown",
   "metadata": {},
   "source": [
    "## Héritage, surcharge, polymorphisme, la classe object"
   ]
  },
  {
   "cell_type": "markdown",
   "metadata": {},
   "source": [
    "## L'héritage multiple et le MRO (Method Resolution Order)"
   ]
  },
  {
   "cell_type": "markdown",
   "metadata": {},
   "source": [
    "## Bonnes pratiques de la programmation objet avec Python"
   ]
  },
  {
   "cell_type": "markdown",
   "metadata": {},
   "source": [
    "# La stdlib"
   ]
  },
  {
   "cell_type": "markdown",
   "metadata": {},
   "source": [
    "## gestion de fichiers"
   ]
  },
  {
   "cell_type": "markdown",
   "metadata": {},
   "source": [
    "## argparse"
   ]
  },
  {
   "cell_type": "markdown",
   "metadata": {},
   "source": [
    "## logging"
   ]
  },
  {
   "cell_type": "markdown",
   "metadata": {},
   "source": [
    "## configparser"
   ]
  },
  {
   "cell_type": "markdown",
   "metadata": {},
   "source": [
    "## os"
   ]
  },
  {
   "cell_type": "markdown",
   "metadata": {},
   "source": [
    "## subprocess"
   ]
  },
  {
   "cell_type": "markdown",
   "metadata": {},
   "source": [
    "## re (expressions rationnelles)"
   ]
  },
  {
   "cell_type": "markdown",
   "metadata": {},
   "source": [
    "# Aller plus loin"
   ]
  },
  {
   "cell_type": "markdown",
   "metadata": {},
   "source": [
    "## décorateurs"
   ]
  },
  {
   "cell_type": "markdown",
   "metadata": {},
   "source": [
    "## itérateurs et générateurs"
   ]
  },
  {
   "cell_type": "markdown",
   "metadata": {},
   "source": [
    "## context managers"
   ]
  },
  {
   "cell_type": "markdown",
   "metadata": {},
   "source": [
    "## unittest et docstests"
   ]
  },
  {
   "cell_type": "markdown",
   "metadata": {},
   "source": [
    "## documenter avec sphinx"
   ]
  },
  {
   "cell_type": "markdown",
   "metadata": {},
   "source": [
    "### Codage d'une appli testée et documentée\n",
    "\n",
    "La dernière demi-journée est consacrée au codage d'un cas pratique testé et documenté en pair-programming (ou individuellement) avec revue de code collective.\n",
    "Les cas pratiques fournis permettent de\n",
    "reprendre l'ensemble des points clefs évoqués."
   ]
  },
  {
   "cell_type": "markdown",
   "metadata": {
    "id": "UkZZX1aPg6t7"
   },
   "source": [
    "## Notebooks\n",
    "\n",
    "Les notebooks sont des environnements intéractifs de travail, vous pouvez y exécuter du code et y afficher du texte. Ils sont très pratiques pour :\n",
    "\n",
    "1. Itérer rapidement sur du code et des données en phase de prototypage d'une étude ou d'un projet\n",
    "1. Présenter les résultats de travaux avec tout l'avantage de code exécutable au service de graphiques / représentations.\n",
    "\n",
    "Un notebook est une suite de cellules. Vous pouvez à tout moment supprimer ou ajouter des cellules, puis les exécuter (si vous avez les droits d'édition)."
   ]
  },
  {
   "cell_type": "markdown",
   "metadata": {
    "id": "NX4ibsANibLt"
   },
   "source": [
    "### Cellules textuelles\n",
    "\n",
    "Une cellule textuelle permet d'afficher du texte, des images ou des tableaux.\n",
    "\n",
    "La syntaxe est celle du Markdown, un language très simple permettant de décrire du texte formatté. Un [guide officiel](https://colab.research.google.com/notebooks/markdown_guide.ipynb) est disponible pour tous les détails (vous pouvez aussi dérouler cette cellule pour avoir des détails dans ce notebook)."
   ]
  },
  {
   "cell_type": "markdown",
   "metadata": {
    "id": "La4bR9R5YCNk"
   },
   "source": [
    "#### Listes non ordonnées\n",
    "\n",
    "On crée une liste avec des tirets ou des étoiles :\n",
    "\n",
    "```\n",
    "- premier item\n",
    "- deuxième item\n",
    "- troisème item\n",
    "```\n",
    "est rendu\n",
    "\n",
    "- premier item\n",
    "- deuxième item\n",
    "- troisème item\n",
    "\n",
    "#### Listes ordonnées\n",
    "\n",
    "On crée une liste ordonnées avec des chiffres suivis d'un point :\n",
    "\n",
    "```\n",
    "1. premier item\n",
    "2. deuxième item\n",
    "3. troisième item\n",
    "```\n",
    "\n",
    "est rendu\n",
    "\n",
    "1. premier item\n",
    "2. deuxième item\n",
    "3. troisième item\n",
    "\n",
    "#### Liens\n",
    "\n",
    "Un lien est créé avec son texte entre crochets suivi de son adresse entre parenthèses :\n",
    "\n",
    "```markdown\n",
    "[texte du lien](https://adresse-du-lien.com)\n",
    "```\n",
    "est rendu\n",
    "\n",
    "[texte du lien](https://adresse-du-lien.com)\n",
    "\n",
    "#### Images\n",
    "\n",
    "On peut insérer une image, en utilisant la syntaxe d'un lien préfixée d'un point d'exclamation, le texte de lien devient alors le texte de remplacement de l'image :\n",
    "\n",
    "```markdown\n",
    "![xkcd sur le Machine Learning](img/xkcd.png)\n",
    "```\n",
    "\n",
    "est rendu\n",
    "\n",
    "![xkcd sur le Machine Learning](img/xkcd.png)\n",
    "\n",
    "#### Tableaux\n",
    "\n",
    "```\n",
    "| a | b | c |\n",
    "| - | - | - |\n",
    "| 1 | 2 | 3 |\n",
    "```\n",
    "est rendu\n",
    "\n",
    "| a | b | c |\n",
    "| - | - | - |\n",
    "| 1 | 2 | 3 |"
   ]
  },
  {
   "cell_type": "markdown",
   "metadata": {
    "id": "HTM16Al-Zdkf"
   },
   "source": [
    "### Cellules de code\n",
    "\n",
    "L'autre grand type de cellule est la cellule de code : elle permet d'intéragir avec l'interpréteur du notebook. Par exemple, on peut exécuter la cellule suivante :"
   ]
  },
  {
   "cell_type": "code",
   "execution_count": 3,
   "metadata": {
    "id": "RwlthoNRZi8L"
   },
   "outputs": [
    {
     "name": "stdout",
     "output_type": "stream",
     "text": [
      "quotient : 1, reste : 2\n"
     ]
    }
   ],
   "source": [
    "a = 5\n",
    "b = 3\n",
    "\n",
    "print(f\"quotient : {a // b}, reste : {a % b}\")"
   ]
  },
  {
   "cell_type": "markdown",
   "metadata": {
    "id": "c_kIRMR5cBd2"
   },
   "source": [
    "## Python\n",
    "\n",
    "Python est un langage interprété, très utilisé en Machine Learning et Data Science car il combine l'expressivité d'un langage de très haut niveau à la syntaxe simple avec l'efficacité d'un langage bas niveau (ses librairies critiques sont écrites en C ou d'autres langages optimisés).\n",
    "\n",
    "Découvrons quelques éléments de syntaxes !"
   ]
  },
  {
   "cell_type": "markdown",
   "metadata": {
    "id": "Ul64I7HrcC7g"
   },
   "source": [
    "### Variables"
   ]
  },
  {
   "cell_type": "markdown",
   "metadata": {
    "id": "tSl7VOkXhlDX"
   },
   "source": [
    "#### Définition et types"
   ]
  },
  {
   "cell_type": "code",
   "execution_count": 4,
   "metadata": {
    "id": "d-MhJGn3cFgn"
   },
   "outputs": [],
   "source": [
    "entier = 5\n",
    "flottant = 5.4\n",
    "string = \"chaîne de caractères\"\n",
    "booleen = True"
   ]
  },
  {
   "cell_type": "markdown",
   "metadata": {
    "id": "vf9iMmVthfM8"
   },
   "source": [
    "#### Scope\n",
    "\n",
    "Le scope des variables (là où elles sont visibles) est particulier en Python : une variable n'est pas visible seulement dans son bloc mais dans toute la fonction où elle est définie."
   ]
  },
  {
   "cell_type": "code",
   "execution_count": 5,
   "metadata": {
    "id": "DDNhyCaPhfjH"
   },
   "outputs": [
    {
     "name": "stdout",
     "output_type": "stream",
     "text": [
      "False\n",
      "Hello World!\n"
     ]
    }
   ],
   "source": [
    "booleen = True\n",
    "\n",
    "if True:\n",
    "  booleen = False\n",
    "\n",
    "def fonction():\n",
    "  booleen = True\n",
    "\n",
    "fonction()\n",
    "\n",
    "print(booleen)\n",
    "\n",
    "if True:\n",
    "  nouvelle_variable = \"Hello World!\"\n",
    "\n",
    "# Hors du bloc de définition, ne compilerait pas en Java par exemple\n",
    "print(nouvelle_variable)"
   ]
  },
  {
   "cell_type": "markdown",
   "metadata": {
    "id": "eVZMiXlckwUf"
   },
   "source": [
    "### Structures de données"
   ]
  },
  {
   "cell_type": "markdown",
   "metadata": {
    "id": "-VUBptQbkyn4"
   },
   "source": [
    "#### Listes"
   ]
  },
  {
   "cell_type": "code",
   "execution_count": 6,
   "metadata": {
    "id": "BiHfuOAYky0q"
   },
   "outputs": [
    {
     "name": "stdout",
     "output_type": "stream",
     "text": [
      "4\n",
      "5\n",
      "6\n",
      "7\n",
      "Taille : 4\n"
     ]
    }
   ],
   "source": [
    "homogene = [1, 2, 3, 4]\n",
    "\n",
    "# FORTEMENT déconseillé, liste hétérogène\n",
    "heterogene = [1, \"a\", 4.5]\n",
    "\n",
    "for i in homogene:\n",
    "  print(i + 3)\n",
    "\n",
    "print(\"Taille :\", len(homogene))"
   ]
  },
  {
   "cell_type": "markdown",
   "metadata": {
    "id": "tKih6xA7kzCk"
   },
   "source": [
    "#### Dictionnaire"
   ]
  },
  {
   "cell_type": "code",
   "execution_count": 7,
   "metadata": {
    "id": "7LbVchSnkzQr"
   },
   "outputs": [
    {
     "name": "stdout",
     "output_type": "stream",
     "text": [
      "a 3\n",
      "b 4\n",
      "a 1\n",
      "b 2\n",
      "Taille : 2\n"
     ]
    }
   ],
   "source": [
    "d = {\"a\": 1, \"b\": 2}\n",
    "\n",
    "for key in d:\n",
    "  print(key, d[key] + 2)\n",
    "\n",
    "# Mieux\n",
    "for key, value in d.items():\n",
    "  print(key, value)\n",
    "\n",
    "print(\"Taille :\", len(d))"
   ]
  },
  {
   "cell_type": "markdown",
   "metadata": {
    "id": "Xlsux3lmkzdX"
   },
   "source": [
    "#### Ensembles"
   ]
  },
  {
   "cell_type": "code",
   "execution_count": 8,
   "metadata": {
    "id": "npqXkeZgkzql"
   },
   "outputs": [
    {
     "name": "stdout",
     "output_type": "stream",
     "text": [
      "1\n",
      "2\n",
      "3\n",
      "Taille : 3\n"
     ]
    }
   ],
   "source": [
    "ensemble = {1, 2, 3, 3}\n",
    "\n",
    "for i in ensemble:\n",
    "  print(i)\n",
    "\n",
    "print(\"Taille :\", len(ensemble))"
   ]
  },
  {
   "cell_type": "markdown",
   "metadata": {
    "id": "Q31-MLtHd9Qn"
   },
   "source": [
    "### Structures de contrôle"
   ]
  },
  {
   "cell_type": "markdown",
   "metadata": {
    "id": "HCzZ6jvLgjs9"
   },
   "source": [
    "#### Conditionnelle simple"
   ]
  },
  {
   "cell_type": "code",
   "execution_count": 9,
   "metadata": {
    "id": "KgDqL262ccJR"
   },
   "outputs": [
    {
     "name": "stdout",
     "output_type": "stream",
     "text": [
      "Branche else\n"
     ]
    }
   ],
   "source": [
    "cond1 = len(\"abc\") > 3\n",
    "cond2 = len(\"abc\") < 3\n",
    "\n",
    "if cond1:\n",
    "  print(\"Branche if\")\n",
    "elif cond2:\n",
    "  print(\"Branche elif\")\n",
    "else:\n",
    "  print(\"Branche else\")"
   ]
  },
  {
   "cell_type": "markdown",
   "metadata": {
    "id": "QVBVQeBhg5Mu"
   },
   "source": [
    "#### Boucle « tant que »"
   ]
  },
  {
   "cell_type": "code",
   "execution_count": 10,
   "metadata": {
    "id": "pOmtr9aGdBCk"
   },
   "outputs": [
    {
     "name": "stdout",
     "output_type": "stream",
     "text": [
      "0 0\n",
      "1 1\n",
      "2 4\n",
      "3 9\n",
      "4 16\n",
      "5 25\n",
      "6 36\n",
      "7 49\n",
      "8 64\n",
      "9 81\n"
     ]
    }
   ],
   "source": [
    "i = 0\n",
    "while i < 10:\n",
    "  print(i, i ** 2)\n",
    "  i += 1"
   ]
  },
  {
   "cell_type": "markdown",
   "metadata": {
    "id": "vgVScj0yhBSd"
   },
   "source": [
    "#### Boucle « pour … dans … »"
   ]
  },
  {
   "cell_type": "code",
   "execution_count": 11,
   "metadata": {
    "id": "Q1sBASwodMQ_"
   },
   "outputs": [
    {
     "name": "stdout",
     "output_type": "stream",
     "text": [
      "0 0\n",
      "1 1\n",
      "2 4\n",
      "3 9\n",
      "4 16\n",
      "5 25\n",
      "6 36\n",
      "7 49\n",
      "8 64\n",
      "9 81\n"
     ]
    }
   ],
   "source": [
    "for i in range(10):\n",
    "  print(i, i ** 2)"
   ]
  },
  {
   "cell_type": "markdown",
   "metadata": {
    "id": "LeVs3w3cd6JA"
   },
   "source": [
    "### Fonctions"
   ]
  },
  {
   "cell_type": "code",
   "execution_count": 12,
   "metadata": {
    "id": "11CggsQgdWr0"
   },
   "outputs": [
    {
     "name": "stdout",
     "output_type": "stream",
     "text": [
      "0 0\n",
      "1 1\n",
      "2 4\n",
      "3 9\n",
      "4 16\n",
      "5 25\n",
      "6 36\n",
      "7 49\n",
      "8 64\n",
      "9 81\n"
     ]
    }
   ],
   "source": [
    "def square(x):\n",
    "  return x ** 2\n",
    "\n",
    "for i in range(10):\n",
    "  print(i, square(i))"
   ]
  },
  {
   "cell_type": "markdown",
   "metadata": {
    "id": "CM3enuSqeJ-s"
   },
   "source": [
    "### Compréhensions de listes et générateurs"
   ]
  },
  {
   "cell_type": "markdown",
   "metadata": {
    "id": "i1Lvj-0teqHX"
   },
   "source": [
    "On peut définir des listes très rapidement grâce aux *compréhensions de listes* en Python. Elles utilisent la syntaxe\n",
    "\n",
    "```python\n",
    "[resultat for variable in liste if condition]\n",
    "```\n",
    "où `resultat` et `condition` utilisent `variable`."
   ]
  },
  {
   "cell_type": "code",
   "execution_count": 13,
   "metadata": {
    "id": "wm7nEheZeKRR"
   },
   "outputs": [
    {
     "name": "stdout",
     "output_type": "stream",
     "text": [
      "[0, 1, 4, 9, 16, 25, 36, 49, 64, 81]\n",
      "[0, 4, 16, 36, 64]\n",
      "0 0\n",
      "1 1\n",
      "2 4\n",
      "3 9\n",
      "4 16\n",
      "5 25\n",
      "6 36\n",
      "7 49\n",
      "8 64\n",
      "9 81\n"
     ]
    }
   ],
   "source": [
    "squares = [k ** 2 for k in range(10)]\n",
    "print(squares)\n",
    "\n",
    "even_squares = [k for k in squares if k % 2 == 0]\n",
    "print(even_squares)\n",
    "\n",
    "for i, j in [(k, k ** 2) for k in range(10)]:\n",
    "  print(i, j)"
   ]
  },
  {
   "cell_type": "markdown",
   "metadata": {
    "id": "49-UzbQYeKij"
   },
   "source": [
    "Un générateur est défini comme une compréhension de liste mais avec des parenthèses au lieu des crochets.\n",
    "\n",
    "La différence est que la liste définie par le générateur est calculée seulement quand elle est utilisée, et ne peut être utilisée qu'une fois (elle n'est pas stockée en mémoire mais calculée à la volée)."
   ]
  },
  {
   "cell_type": "code",
   "execution_count": 14,
   "metadata": {
    "id": "Hb2Y88EYeKx7"
   },
   "outputs": [
    {
     "name": "stdout",
     "output_type": "stream",
     "text": [
      "0\n",
      "4\n",
      "16\n",
      "36\n",
      "64\n"
     ]
    }
   ],
   "source": [
    "even_squares = (k ** 2 for k in range(10) if k % 2 == 0)\n",
    "\n",
    "for square in even_squares:\n",
    "  print(square)\n",
    "\n",
    "# Ne fait rien : le générateur a déjà été utilisé\n",
    "for square in even_squares:\n",
    "  print(square)"
   ]
  },
  {
   "cell_type": "markdown",
   "metadata": {
    "id": "juqS5hPEjKnk"
   },
   "source": [
    "### Import de librairies"
   ]
  },
  {
   "cell_type": "markdown",
   "metadata": {
    "id": "zQUTdxHWjRo5"
   },
   "source": [
    "De nombreuses librairies sont disponibles sur [PyPi](https://pypi.org/), le répertoire officiel Python.\n",
    "\n",
    "On peut les installer et les importer facilement (au même titre que les librairies du standard Python forcément disponibles avec tout interpréteur Python)."
   ]
  },
  {
   "cell_type": "code",
   "execution_count": 15,
   "metadata": {
    "id": "-n_-pXWOjO9R"
   },
   "outputs": [
    {
     "data": {
      "text/plain": [
       "[<matplotlib.lines.Line2D at 0x7fdae651bd30>]"
      ]
     },
     "execution_count": 15,
     "metadata": {},
     "output_type": "execute_result"
    },
    {
     "data": {
      "image/png": "[encoded data removed]",
      "text/plain": [
       "<Figure size 432x288 with 1 Axes>"
      ]
     },
     "metadata": {
      "needs_background": "light"
     },
     "output_type": "display_data"
    }
   ],
   "source": [
    "import matplotlib.pyplot as plt\n",
    "\n",
    "plt.plot([1, 2, 3], [4, 5, 6])"
   ]
  },
  {
   "cell_type": "markdown",
   "metadata": {
    "id": "HD9bMzmSkEo8"
   },
   "source": [
    "On peut aussi importer seulement des éléments précis d'un paquet :"
   ]
  },
  {
   "cell_type": "code",
   "execution_count": 16,
   "metadata": {
    "id": "L6xM2_0fkTpW"
   },
   "outputs": [
    {
     "name": "stdout",
     "output_type": "stream",
     "text": [
      "[{'a': 1, 'b': 2}, {'c': 3, 'd': 4}]\n"
     ]
    }
   ],
   "source": [
    "from pprint import pprint\n",
    "\n",
    "pprint([{\"a\": 1, \"b\": 2}, {\"c\": 3, \"d\": 4}])"
   ]
  },
  {
   "cell_type": "markdown",
   "metadata": {
    "id": "hfBvsnlQf-GV"
   },
   "source": [
    "### Manipulation de fichier"
   ]
  },
  {
   "cell_type": "markdown",
   "metadata": {
    "id": "X4s6HlfheK-z"
   },
   "source": [
    "Pour manipuler des fichiers, on utilise un bloc `with`, qui s'assure que la ressource est bien refermée même en présence d'exceptions."
   ]
  },
  {
   "cell_type": "code",
   "execution_count": 17,
   "metadata": {
    "id": "wj3pz-nteLLa"
   },
   "outputs": [
    {
     "name": "stdout",
     "output_type": "stream",
     "text": [
      "# README\n",
      "\n",
      "This is a sample README.md, written in markdown.\n",
      "\n"
     ]
    }
   ],
   "source": [
    "from pathlib import Path\n",
    "\n",
    "with Path(\"data/README.md\").open(encoding=\"utf8\") as fh:\n",
    "  content = fh.read()\n",
    "\n",
    "print(content)"
   ]
  },
  {
   "cell_type": "markdown",
   "metadata": {
    "id": "n1iT3pIreLdm"
   },
   "source": [
    "Pour lire le mécanisme est le même mais on précise le mode *writing* `w` :"
   ]
  },
  {
   "cell_type": "code",
   "execution_count": 18,
   "metadata": {
    "id": "hawAMbfZeLp1"
   },
   "outputs": [
    {
     "name": "stdout",
     "output_type": "stream",
     "text": [
      "Python is great for Machine Learning!\n"
     ]
    }
   ],
   "source": [
    "from pathlib import Path\n",
    "\n",
    "with Path(\"output.txt\").open(encoding=\"utf8\", mode=\"w\") as fh:\n",
    "  fh.write(\"Python is great for Machine Learning!\")\n",
    "\n",
    "print(Path(\"output.txt\").read_text())"
   ]
  },
  {
   "cell_type": "markdown",
   "metadata": {
    "id": "XDJPPx1id3o2"
   },
   "source": [
    "### Annotations de type\n",
    "\n",
    "Complètement en option : ces annotations ne changent pas le sens du code exécuté. Elles peuvent être ajoutées pour documenter le sens d'une fonction et pour améliorer l'efficatité des outils d'aide au développement."
   ]
  },
  {
   "cell_type": "code",
   "execution_count": 19,
   "metadata": {
    "id": "q4-WpWkQdp6y"
   },
   "outputs": [
    {
     "name": "stdout",
     "output_type": "stream",
     "text": [
      "0 0\n",
      "1 1\n",
      "2 4\n",
      "3 9\n",
      "4 16\n",
      "5 25\n",
      "6 36\n",
      "7 49\n",
      "8 64\n",
      "9 81\n"
     ]
    }
   ],
   "source": [
    "def square(x: int) -> int:\n",
    "  return x ** 2\n",
    "\n",
    "for i in range(10):\n",
    "  print(i, square(i))"
   ]
  }
 ],
 "metadata": {
  "colab": {
   "collapsed_sections": [
    "NX4ibsANibLt"
   ],
   "name": "Introduction à Python et aux notebooks.ipynb",
   "private_outputs": true,
   "provenance": [],
   "toc_visible": true
  },
  "kernelspec": {
   "display_name": "Python 3",
   "language": "python",
   "name": "python3"
  },
  "language_info": {
   "codemirror_mode": {
    "name": "ipython",
    "version": 3
   },
   "file_extension": ".py",
   "mimetype": "text/x-python",
   "name": "python",
   "nbconvert_exporter": "python",
   "pygments_lexer": "ipython3",
   "version": "3.8.3"
  }
 },
 "nbformat": 4,
 "nbformat_minor": 4
}
