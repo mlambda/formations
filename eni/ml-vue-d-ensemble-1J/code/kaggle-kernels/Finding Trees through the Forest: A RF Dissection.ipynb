{
 "cells": [
  {
   "cell_type": "code",
   "execution_count": 1,
   "metadata": {
    "_cell_guid": "1aab2ed5-e5ed-4e73-8dd2-5c2a21565db7",
    "_kg_hide-input": true,
    "_kg_hide-output": true,
    "_uuid": "96f13354f14a121b8daadedc3d3f5a8c210b8681"
   },
   "outputs": [
    {
     "name": "stdout",
     "output_type": "stream",
     "text": [
      "data_description.txt\n",
      "sample_submission.csv\n",
      "test.csv\n",
      "train.csv\n",
      "\n"
     ]
    }
   ],
   "source": [
    "# This Python 3 environment comes with many helpful analytics libraries installed\n",
    "# It is defined by the kaggle/python docker image: https://github.com/kaggle/docker-python\n",
    "# For example, here's several helpful packages to load in \n",
    "\n",
    "import pandas as pd\n",
    "import numpy as np\n",
    "import IPython\n",
    "import graphviz\n",
    "import re\n",
    "from IPython.display import display\n",
    "from sklearn.tree import DecisionTreeClassifier, DecisionTreeRegressor, export_graphviz\n",
    "\n",
    "\n",
    "# Input data files are available in the \"../input/\" directory.\n",
    "# For example, running this (by clicking run or pressing Shift+Enter) will list the files in the input directory\n",
    "\n",
    "from subprocess import check_output\n",
    "print(check_output([\"ls\", \"../data/ames\"]).decode(\"utf8\"))\n",
    "\n",
    "# Any results you write to the current directory are saved as output."
   ]
  },
  {
   "cell_type": "markdown",
   "metadata": {
    "_cell_guid": "8428b647-b58c-4e26-8c69-42645ce08f8e",
    "_uuid": "17f0250c95241b965299c376298da737c1226ca0"
   },
   "source": [
    "# **Random Forests are Great, but how do they work?**\n",
    "\n",
    "<img src='http://www.earthtimes.org/newsimage/rising-temperatures-affect-forests-carbon-storage-role-study_265.jpg' />\n",
    "\n",
    "**Wikipedia** defines random forests as: Random forests or random decision forests are an ensemble learning method for classification, regression and other tasks, that operate by constructing a multitude of decision trees at training time and outputting the class that is the mode of the classes (classification) or mean prediction (regression) of the individual trees. \n",
    "\n",
    "## Table of Contents:\n",
    "\n",
    "**1. [Decision Tree - Baby Steps](#section1)**  <br>\n",
    "**2. [Real Data](#section2)**<br>\n",
    "**3. [Decision Tree from scratch](#section3)**<br>\n",
    "**4. [Nested Tree - TBD](#section4)**<br>\n",
    "**5. [Ensemble of Trees- TBD](#section5)**<br>\n",
    "**6. [Tree Confidence Intervals](#section6)**<br>\n",
    "**7. [Feature Importance](#section7)**<br>\n",
    "**8. [More or Less Features?](#section8)**<br>\n",
    "**10. [Feature Contribution](#section10)**<br>\n",
    "\n",
    "**Updated 12/7/2017 - added tree variance and feature importance at the bottom **\n",
    "\n",
    "### **Summary: A Random Forest, like a real forest is made of trees** \n",
    "\n",
    "<img src='https://i1.wp.com/dataaspirant.com/wp-content/uploads/2017/04/Random-Forest-Introduction.jpg?resize=690%2C345' />\n",
    "## **What is a Decision Tree?**\n",
    "Decision tree learning uses a decision tree (as a predictive model) to go from observations about an item (represented in the branches) to conclusions about the item's target value (represented in the leaves). It is one of the predictive modelling approaches used in statistics, data mining and machine learning. Tree models where the target variable can take a discrete set of values are called classification trees; in these tree structures, leaves represent class labels and branches represent conjunctions of features that lead to those class labels. Decision trees where the target variable can take continuous values (typically real numbers) are called regression trees.\n",
    "\n",
    "### **Best way to understand one is to build one from scratch! Let's go!**"
   ]
  },
  {
   "cell_type": "markdown",
   "metadata": {
    "_cell_guid": "5b1d399d-68a7-430d-88f9-0e9c36115a7f",
    "_uuid": "a25f3d1968b336e58d9e766818d04f486b7c266d"
   },
   "source": [
    "<a id='section1'></a>\n",
    "# **1. Decision Tree by Hand**\n",
    "<img src='https://eight2late.files.wordpress.com/2016/02/7214525854_733237dd83_z1.jpg?w=700' />\n",
    "### **For our baby case lets work through a tiny dataset**\n",
    "\n",
    "## **x = [1,2,3,4,5,6]**\n",
    "## **y = [1,1,0,1,0,0]**"
   ]
  },
  {
   "cell_type": "code",
   "execution_count": 2,
   "metadata": {
    "_cell_guid": "5cf461da-997e-4efc-a3f3-21cb82d99fba",
    "_uuid": "3e4ec79b9bec20ab21894dfefd1115904a8bb64e"
   },
   "outputs": [],
   "source": [
    "x = pd.DataFrame({'feature':[1,2,3,4,5,6]})\n",
    "x_vec = np.array([1,2,3,4,5,6], dtype=int)\n",
    "y = np.array([1,1,0,1,0,0], dtype=int)"
   ]
  },
  {
   "cell_type": "markdown",
   "metadata": {
    "_cell_guid": "28029067-5e81-4642-9ff6-1271ccfccd43",
    "_uuid": "9b7ed144adaa1b207e919ec1a3f9ce754185ec5a"
   },
   "source": [
    "###  **The Decision Tree Algorithm - in English**\n",
    "\n",
    "1. Target: Looking for a division of the dataset where the groups are most evenly split. in this baby example, the ideal split has mostly `1`'s on one side and mostly `0`'s on other side\n",
    "2. Will check every element and separate the set into a left handed group and a right handed group and calculate a 'purity' score\n",
    "3. will loop and search for the **lowest** score\n",
    "\n",
    "### **Let's go from scratch, step by step**\n",
    "<img src='https://godmoneyandme.files.wordpress.com/2012/01/pencil-and-paper.jpg' />\n",
    "\n",
    "\n",
    "### **i=1, Split at 1st element**\n",
    "\n",
    "### **x = [1] // [2,3,4,5,6]**\n",
    "### **y = [1] // [1,0,1,0,0]**\n"
   ]
  },
  {
   "cell_type": "code",
   "execution_count": 3,
   "metadata": {
    "_cell_guid": "4f6e20fb-2a60-46ca-91b1-a8e69189c221",
    "_uuid": "32655e5044f3ccbf0442bdc6f2df266ea8cb224a"
   },
   "outputs": [
    {
     "name": "stdout",
     "output_type": "stream",
     "text": [
      "[ True False False False False False] [False  True  True  True  True  True] [1] [1 0 1 0 0]\n"
     ]
    }
   ],
   "source": [
    "lhs_x = x_vec<=x_vec[0]\n",
    "rhs_x = x_vec>x_vec[0]\n",
    "lhs_y = y[lhs_x]\n",
    "rhs_y = y[rhs_x]\n",
    "\n",
    "print(lhs_x, rhs_x,lhs_y,rhs_y)"
   ]
  },
  {
   "cell_type": "markdown",
   "metadata": {
    "_cell_guid": "33fefc6f-a1a0-42b8-864e-f9fb9ebf4da4",
    "_uuid": "6ef8b9217dd8813ea3dc419bb717429add061f7a"
   },
   "source": [
    "### **i=1, Calculate the purity score**\n",
    "\n",
    "$$\\sigma_{ylhs}n_{xlhs} + \\sigma_{yrhs}n_{xrhs} $$\n",
    "\n",
    "The score is roughly the standard deviation of the y times the number of samples. Lets consider the extremes:\n",
    "\n",
    "1. If the split is perfect, one side will have all 1's and the other will have all 0's, the deviations will equal =0 and the score will be zero\n",
    "2. If the split is terrible, we will have a huge deviation times a large number of points that will give a very large score"
   ]
  },
  {
   "cell_type": "code",
   "execution_count": 4,
   "metadata": {
    "_cell_guid": "eacb3903-bc9a-4d23-ae0d-317b300a754b",
    "_uuid": "86ea0abfd2bf1f7469af4b4568e9afdc7107f0e8"
   },
   "outputs": [
    {
     "data": {
      "text/plain": [
       "2.4494897427831783"
      ]
     },
     "execution_count": 4,
     "metadata": {},
     "output_type": "execute_result"
    }
   ],
   "source": [
    "np.std(lhs_y) * sum(lhs_x) + np.std(rhs_y) * sum(rhs_x)"
   ]
  },
  {
   "cell_type": "markdown",
   "metadata": {
    "_cell_guid": "f35ed440-6ce2-4cdc-b96d-6b817608a95f",
    "_uuid": "5af511e98e9a5e04b34364fd280ddcb25ca8593b"
   },
   "source": [
    "\n",
    "### **i=2, Calculate the purity score**\n",
    "\n",
    "### **x = [1,2] // [3,4,5,6]**\n",
    "### **y = [1,1] // [0,1,0,0]**\n"
   ]
  },
  {
   "cell_type": "code",
   "execution_count": 5,
   "metadata": {
    "_cell_guid": "7666d2ec-749f-47f6-96fc-0a2aa34873c5",
    "_uuid": "ca0938753215b507bc1f69f1134b5e5a3b3887b2"
   },
   "outputs": [
    {
     "name": "stdout",
     "output_type": "stream",
     "text": [
      "[ True  True False False False False] [False False  True  True  True  True] [1 1] [0 1 0 0]\n"
     ]
    }
   ],
   "source": [
    "lhs_x = x_vec<=x_vec[1]\n",
    "rhs_x = x_vec>x_vec[1]\n",
    "lhs_y = y[lhs_x]\n",
    "rhs_y = y[rhs_x]\n",
    "\n",
    "print(lhs_x, rhs_x,lhs_y,rhs_y)"
   ]
  },
  {
   "cell_type": "code",
   "execution_count": 6,
   "metadata": {
    "_cell_guid": "1224a671-4df3-486e-a358-77d74b456e14",
    "_uuid": "639f8a723bf8bfdec48d69cdfcdfd1c712bf1463"
   },
   "outputs": [
    {
     "data": {
      "text/plain": [
       "1.7320508075688772"
      ]
     },
     "execution_count": 6,
     "metadata": {},
     "output_type": "execute_result"
    }
   ],
   "source": [
    "np.std(lhs_y) * sum(lhs_x) + np.std(rhs_y) * sum(rhs_x)"
   ]
  },
  {
   "cell_type": "markdown",
   "metadata": {
    "_cell_guid": "f4923772-735d-40b4-a7a6-5192792df78c",
    "_uuid": "ec33f1d236b6db279259869796f2f26b19e072f0"
   },
   "source": [
    "### **i=3, Split at 3rd element**\n",
    "\n",
    "\n",
    "### **x = [1,2,3] // [4,5,6]**\n",
    "### **y = [1,1,0] // [1,0,0]**\n"
   ]
  },
  {
   "cell_type": "code",
   "execution_count": 7,
   "metadata": {
    "_cell_guid": "991be7ea-6947-4b94-af1f-c1d048e1b96d",
    "_uuid": "d5a25e80ae2aab9821b69fb55604da0e8df8c436"
   },
   "outputs": [
    {
     "name": "stdout",
     "output_type": "stream",
     "text": [
      "[ True  True  True False False False] [False False False  True  True  True] [1 1 0] [1 0 0]\n"
     ]
    },
    {
     "data": {
      "text/plain": [
       "2.82842712474619"
      ]
     },
     "execution_count": 7,
     "metadata": {},
     "output_type": "execute_result"
    }
   ],
   "source": [
    "lhs_x = x_vec<=x_vec[2]\n",
    "rhs_x = x_vec>x_vec[2]\n",
    "lhs_y = y[lhs_x]\n",
    "rhs_y = y[rhs_x]\n",
    "\n",
    "print(lhs_x, rhs_x,lhs_y,rhs_y)\n",
    "np.std(lhs_y) * sum(lhs_x) + np.std(rhs_y) * sum(rhs_x)"
   ]
  },
  {
   "cell_type": "markdown",
   "metadata": {
    "_cell_guid": "75e9f09b-bc2c-41ac-9a62-162b887ba1a8",
    "_uuid": "8e47513e807908d0b619fa6513f48b619a2cc185"
   },
   "source": [
    "### **Conclusion: it seems that element 2~3 is a good split, with 2 samples going left, and 4 going right!**\n",
    "\n",
    "### **Let's compare to sklearn! We will use 1 decision tree with depth 1**\n"
   ]
  },
  {
   "cell_type": "code",
   "execution_count": 8,
   "metadata": {
    "_cell_guid": "22228cd5-d82a-40b3-ab18-be517c7b300f",
    "_uuid": "fe8ec880308f025cc06ec60d27c13d292d045066",
    "scrolled": true
   },
   "outputs": [
    {
     "data": {
      "text/plain": [
       "DecisionTreeRegressor(criterion='mse', max_depth=1, max_features=None,\n",
       "           max_leaf_nodes=None, min_impurity_decrease=0.0,\n",
       "           min_impurity_split=None, min_samples_leaf=1,\n",
       "           min_samples_split=2, min_weight_fraction_leaf=0.0,\n",
       "           presort=False, random_state=None, splitter='best')"
      ]
     },
     "execution_count": 8,
     "metadata": {},
     "output_type": "execute_result"
    }
   ],
   "source": [
    "dtr = DecisionTreeRegressor(max_depth=1)\n",
    "dtr.fit(x,y)"
   ]
  },
  {
   "cell_type": "markdown",
   "metadata": {
    "_cell_guid": "f398956f-e9bd-4756-a3c6-1d1b6770e590",
    "_uuid": "21f9114ad0059a97c9668d8c5a0b09bdd4583a93"
   },
   "source": [
    "### **Tree Drawing function**"
   ]
  },
  {
   "cell_type": "code",
   "execution_count": 9,
   "metadata": {
    "_cell_guid": "496e9195-74e9-47d4-92cb-f7f81e4e2ed4",
    "_uuid": "e2f2eec9dbc427245bfd140a471a54babde2ff97"
   },
   "outputs": [
    {
     "data": {
      "image/svg+xml": [
       "<?xml version=\"1.0\" encoding=\"UTF-8\" standalone=\"no\"?>\n",
       "<!DOCTYPE svg PUBLIC \"-//W3C//DTD SVG 1.1//EN\"\n",
       " \"http://www.w3.org/Graphics/SVG/1.1/DTD/svg11.dtd\">\n",
       "<!-- Generated by graphviz version 2.38.0 (20140413.2041)\n",
       " -->\n",
       "<!-- Title: Tree Pages: 1 -->\n",
       "<svg width=\"215pt\" height=\"132pt\"\n",
       " viewBox=\"0.00 0.00 214.67 132.00\" xmlns=\"http://www.w3.org/2000/svg\" xmlns:xlink=\"http://www.w3.org/1999/xlink\">\n",
       "<g id=\"graph0\" class=\"graph\" transform=\"scale(1 1) rotate(0) translate(4 128)\">\n",
       "<title>Tree</title>\n",
       "<polygon fill=\"white\" stroke=\"none\" points=\"-4,4 -4,-128 210.667,-128 210.667,4 -4,4\"/>\n",
       "<!-- 0 -->\n",
       "<g id=\"node1\" class=\"node\"><title>0</title>\n",
       "<polygon fill=\"#e58139\" fill-opacity=\"0.333333\" stroke=\"black\" points=\"86.6667,-95.5 0.666667,-95.5 0.666667,-27.5 86.6667,-27.5 86.6667,-95.5\"/>\n",
       "<text text-anchor=\"start\" x=\"8.66667\" y=\"-80.3\" font-family=\"Times,serif\" font-size=\"14.00\">feature ≤ 2.5</text>\n",
       "<text text-anchor=\"start\" x=\"13.6667\" y=\"-65.3\" font-family=\"Times,serif\" font-size=\"14.00\">mse = 0.25</text>\n",
       "<text text-anchor=\"start\" x=\"11.1667\" y=\"-50.3\" font-family=\"Times,serif\" font-size=\"14.00\">samples = 6</text>\n",
       "<text text-anchor=\"start\" x=\"13.6667\" y=\"-35.3\" font-family=\"Times,serif\" font-size=\"14.00\">value = 0.5</text>\n",
       "</g>\n",
       "<!-- 1 -->\n",
       "<g id=\"node2\" class=\"node\"><title>1</title>\n",
       "<polygon fill=\"#e58139\" stroke=\"black\" points=\"205.167,-124 124.167,-124 124.167,-71 205.167,-71 205.167,-124\"/>\n",
       "<text text-anchor=\"start\" x=\"138.167\" y=\"-108.8\" font-family=\"Times,serif\" font-size=\"14.00\">mse = 0.0</text>\n",
       "<text text-anchor=\"start\" x=\"132.167\" y=\"-93.8\" font-family=\"Times,serif\" font-size=\"14.00\">samples = 2</text>\n",
       "<text text-anchor=\"start\" x=\"134.667\" y=\"-78.8\" font-family=\"Times,serif\" font-size=\"14.00\">value = 1.0</text>\n",
       "</g>\n",
       "<!-- 0&#45;&gt;1 -->\n",
       "<g id=\"edge1\" class=\"edge\"><title>0&#45;&gt;1</title>\n",
       "<path fill=\"none\" stroke=\"black\" d=\"M86.9567,-74.2936C95.7874,-76.9651 105.172,-79.804 114.235,-82.5458\"/>\n",
       "<polygon fill=\"black\" stroke=\"black\" points=\"113.317,-85.9247 123.902,-85.4703 115.344,-79.2246 113.317,-85.9247\"/>\n",
       "<text text-anchor=\"middle\" x=\"101.863\" y=\"-93.5719\" font-family=\"Times,serif\" font-size=\"14.00\">True</text>\n",
       "</g>\n",
       "<!-- 2 -->\n",
       "<g id=\"node3\" class=\"node\"><title>2</title>\n",
       "<polygon fill=\"none\" stroke=\"black\" points=\"206.167,-53 123.167,-53 123.167,-0 206.167,-0 206.167,-53\"/>\n",
       "<text text-anchor=\"start\" x=\"131.167\" y=\"-37.8\" font-family=\"Times,serif\" font-size=\"14.00\">mse = 0.188</text>\n",
       "<text text-anchor=\"start\" x=\"132.167\" y=\"-22.8\" font-family=\"Times,serif\" font-size=\"14.00\">samples = 4</text>\n",
       "<text text-anchor=\"start\" x=\"131.167\" y=\"-7.8\" font-family=\"Times,serif\" font-size=\"14.00\">value = 0.25</text>\n",
       "</g>\n",
       "<!-- 0&#45;&gt;2 -->\n",
       "<g id=\"edge2\" class=\"edge\"><title>0&#45;&gt;2</title>\n",
       "<path fill=\"none\" stroke=\"black\" d=\"M86.9567,-49.0618C95.4993,-46.5492 104.56,-43.8844 113.347,-41.3\"/>\n",
       "<polygon fill=\"black\" stroke=\"black\" points=\"114.503,-44.6083 123.109,-38.4288 112.528,-37.8927 114.503,-44.6083\"/>\n",
       "<text text-anchor=\"middle\" x=\"101.161\" y=\"-22.7575\" font-family=\"Times,serif\" font-size=\"14.00\">False</text>\n",
       "</g>\n",
       "</g>\n",
       "</svg>\n"
      ],
      "text/plain": [
       "<graphviz.files.Source at 0x7fc53636af28>"
      ]
     },
     "metadata": {},
     "output_type": "display_data"
    }
   ],
   "source": [
    "def draw_tree(t, df, size=10, ratio=0.6, precision=0):\n",
    "    \"\"\" Draws a representation of a random forest in IPython.\n",
    "    Parameters:\n",
    "    -----------\n",
    "    t: The tree you wish to draw\n",
    "    df: The data used to train the tree. This is used to get the names of the features.\n",
    "    \"\"\"\n",
    "    s=export_graphviz(t, out_file=None, feature_names=df.columns, filled=True,\n",
    "                      special_characters=True, rotate=True, precision=precision)\n",
    "    IPython.display.display(graphviz.Source(re.sub('Tree {',\n",
    "       f'Tree {{ size={size}; ratio={ratio}', s)))\n",
    "draw_tree(dtr, x, precision=3)"
   ]
  },
  {
   "cell_type": "markdown",
   "metadata": {
    "_cell_guid": "1e1c6adc-5670-460d-80ae-39214e3fd649",
    "_uuid": "f63addb03df178d220508b1cf08d7c4cacc123b0"
   },
   "source": [
    "### **We see we are consistent with sklearn**"
   ]
  },
  {
   "cell_type": "markdown",
   "metadata": {
    "_cell_guid": "bc983194-6d9f-42c8-b6ca-443b5799460e",
    "_uuid": "55734be2a55fdab9a87cc323091e95d81190ad21"
   },
   "source": [
    "<a id='section2'></a>\n",
    "\n",
    "# **2. On to the real Data:**\n",
    "\n",
    "### **We will use Iowa Housing Data from this kaggle competition for the rest of our exploration**\n",
    "<img src='https://www.reno.gov/Home/ShowImage?id=7739&t=635620964226970000' />"
   ]
  },
  {
   "cell_type": "code",
   "execution_count": 10,
   "metadata": {
    "_cell_guid": "35f61dfc-7e9a-42fa-963e-52b639840762",
    "_uuid": "ab0c0c9d756b58f9b174ade7f5414d39df3b26e9"
   },
   "outputs": [],
   "source": [
    "train_df = pd.read_csv('../data/ames/train.csv')\n",
    "df_test = pd.read_csv('../data/ames/test.csv')"
   ]
  },
  {
   "cell_type": "markdown",
   "metadata": {
    "_cell_guid": "b5f3386c-d5d9-4035-88d4-30c287a95756",
    "_uuid": "abd7f24ebf1dca0d3f67c33b3ebc1f6a6b4732dd"
   },
   "source": [
    "### **For simplicity lets choose only a few features**"
   ]
  },
  {
   "cell_type": "code",
   "execution_count": 11,
   "metadata": {
    "_cell_guid": "e9c928c2-104c-409b-88a5-6bed0314c55c",
    "_uuid": "dd5387ebd309c3e24347ff8a74db2edb93df285d"
   },
   "outputs": [
    {
     "data": {
      "text/plain": [
       "Index(['Id', 'MSSubClass', 'MSZoning', 'LotFrontage', 'LotArea', 'Street',\n",
       "       'Alley', 'LotShape', 'LandContour', 'Utilities', 'LotConfig',\n",
       "       'LandSlope', 'Neighborhood', 'Condition1', 'Condition2', 'BldgType',\n",
       "       'HouseStyle', 'OverallQual', 'OverallCond', 'YearBuilt', 'YearRemodAdd',\n",
       "       'RoofStyle', 'RoofMatl', 'Exterior1st', 'Exterior2nd', 'MasVnrType',\n",
       "       'MasVnrArea', 'ExterQual', 'ExterCond', 'Foundation', 'BsmtQual',\n",
       "       'BsmtCond', 'BsmtExposure', 'BsmtFinType1', 'BsmtFinSF1',\n",
       "       'BsmtFinType2', 'BsmtFinSF2', 'BsmtUnfSF', 'TotalBsmtSF', 'Heating',\n",
       "       'HeatingQC', 'CentralAir', 'Electrical', '1stFlrSF', '2ndFlrSF',\n",
       "       'LowQualFinSF', 'GrLivArea', 'BsmtFullBath', 'BsmtHalfBath', 'FullBath',\n",
       "       'HalfBath', 'BedroomAbvGr', 'KitchenAbvGr', 'KitchenQual',\n",
       "       'TotRmsAbvGrd', 'Functional', 'Fireplaces', 'FireplaceQu', 'GarageType',\n",
       "       'GarageYrBlt', 'GarageFinish', 'GarageCars', 'GarageArea', 'GarageQual',\n",
       "       'GarageCond', 'PavedDrive', 'WoodDeckSF', 'OpenPorchSF',\n",
       "       'EnclosedPorch', '3SsnPorch', 'ScreenPorch', 'PoolArea', 'PoolQC',\n",
       "       'Fence', 'MiscFeature', 'MiscVal', 'MoSold', 'YrSold', 'SaleType',\n",
       "       'SaleCondition', 'SalePrice'],\n",
       "      dtype='object')"
      ]
     },
     "execution_count": 11,
     "metadata": {},
     "output_type": "execute_result"
    }
   ],
   "source": [
    "train_df.columns"
   ]
  },
  {
   "cell_type": "code",
   "execution_count": 12,
   "metadata": {
    "_cell_guid": "7263cf42-a33f-47cf-8f9f-07524a4d1328",
    "_uuid": "4fe679a0dc36394d6886fff77b320d93e3d32541"
   },
   "outputs": [
    {
     "data": {
      "text/html": [
       "<div>\n",
       "<style scoped>\n",
       "    .dataframe tbody tr th:only-of-type {\n",
       "        vertical-align: middle;\n",
       "    }\n",
       "\n",
       "    .dataframe tbody tr th {\n",
       "        vertical-align: top;\n",
       "    }\n",
       "\n",
       "    .dataframe thead th {\n",
       "        text-align: right;\n",
       "    }\n",
       "</style>\n",
       "<table border=\"1\" class=\"dataframe\">\n",
       "  <thead>\n",
       "    <tr style=\"text-align: right;\">\n",
       "      <th></th>\n",
       "      <th>SalePrice</th>\n",
       "      <th>YrSold</th>\n",
       "      <th>GrLivArea</th>\n",
       "      <th>TotRmsAbvGrd</th>\n",
       "    </tr>\n",
       "  </thead>\n",
       "  <tbody>\n",
       "    <tr>\n",
       "      <th>0</th>\n",
       "      <td>208500</td>\n",
       "      <td>2008</td>\n",
       "      <td>1710</td>\n",
       "      <td>8</td>\n",
       "    </tr>\n",
       "    <tr>\n",
       "      <th>1</th>\n",
       "      <td>181500</td>\n",
       "      <td>2007</td>\n",
       "      <td>1262</td>\n",
       "      <td>6</td>\n",
       "    </tr>\n",
       "    <tr>\n",
       "      <th>2</th>\n",
       "      <td>223500</td>\n",
       "      <td>2008</td>\n",
       "      <td>1786</td>\n",
       "      <td>6</td>\n",
       "    </tr>\n",
       "    <tr>\n",
       "      <th>3</th>\n",
       "      <td>140000</td>\n",
       "      <td>2006</td>\n",
       "      <td>1717</td>\n",
       "      <td>7</td>\n",
       "    </tr>\n",
       "    <tr>\n",
       "      <th>4</th>\n",
       "      <td>250000</td>\n",
       "      <td>2008</td>\n",
       "      <td>2198</td>\n",
       "      <td>9</td>\n",
       "    </tr>\n",
       "  </tbody>\n",
       "</table>\n",
       "</div>"
      ],
      "text/plain": [
       "   SalePrice  YrSold  GrLivArea  TotRmsAbvGrd\n",
       "0     208500    2008       1710             8\n",
       "1     181500    2007       1262             6\n",
       "2     223500    2008       1786             6\n",
       "3     140000    2006       1717             7\n",
       "4     250000    2008       2198             9"
      ]
     },
     "execution_count": 12,
     "metadata": {},
     "output_type": "execute_result"
    }
   ],
   "source": [
    "sample_df = train_df[['SalePrice','YrSold','GrLivArea','TotRmsAbvGrd']].copy()\n",
    "sample_df.head()"
   ]
  },
  {
   "cell_type": "markdown",
   "metadata": {
    "_cell_guid": "972dce24-3745-4f16-8a3f-58bf4a226d62",
    "_uuid": "4ac4c182a8ebb2a06d5ad9b26cec650206bacda9"
   },
   "source": [
    "### **Split into X and y variables**\n"
   ]
  },
  {
   "cell_type": "code",
   "execution_count": 13,
   "metadata": {
    "_cell_guid": "1b3859b9-f697-4911-9d61-65c69145cdf1",
    "_uuid": "ba0b0a56c6d7036d65922b578df00da08369e038"
   },
   "outputs": [
    {
     "name": "stdout",
     "output_type": "stream",
     "text": [
      "(1460,) (1460, 3)\n"
     ]
    }
   ],
   "source": [
    "y_train = sample_df['SalePrice']\n",
    "X_train = sample_df[[x for x in sample_df.columns if x != 'SalePrice']]\n",
    "print(y_train.shape, X_train.shape)"
   ]
  },
  {
   "cell_type": "markdown",
   "metadata": {
    "_cell_guid": "a2a3b676-af4d-4b57-8370-90cbaee64206",
    "_uuid": "dd589e7205c67f14a4b128dfa516cc86a1acdad1"
   },
   "source": [
    "<a id='section2'></a>\n",
    "# **3. Make a 1-level Decision Tree**\n",
    "### **Sklearn: Make a Decision Tree with Depth 1**"
   ]
  },
  {
   "cell_type": "code",
   "execution_count": 14,
   "metadata": {
    "_cell_guid": "bb233d3a-778c-4304-9dc4-1af7de6375b7",
    "_uuid": "19e618bd3070c08bfe54ccade18c345432113982"
   },
   "outputs": [
    {
     "data": {
      "text/plain": [
       "DecisionTreeRegressor(criterion='mse', max_depth=1, max_features=None,\n",
       "           max_leaf_nodes=None, min_impurity_decrease=0.0,\n",
       "           min_impurity_split=None, min_samples_leaf=1,\n",
       "           min_samples_split=2, min_weight_fraction_leaf=0.0,\n",
       "           presort=False, random_state=None, splitter='best')"
      ]
     },
     "execution_count": 14,
     "metadata": {},
     "output_type": "execute_result"
    }
   ],
   "source": [
    "dtr = DecisionTreeRegressor(max_depth=1)\n",
    "dtr.fit(X_train,y_train)"
   ]
  },
  {
   "cell_type": "code",
   "execution_count": 15,
   "metadata": {
    "_cell_guid": "51772e3f-3ebf-4bcc-9f4c-f3e97a56d063",
    "_uuid": "7cb07cf62033e4b0410f739d1fe9c9c16ae8c507"
   },
   "outputs": [
    {
     "data": {
      "image/svg+xml": [
       "<?xml version=\"1.0\" encoding=\"UTF-8\" standalone=\"no\"?>\n",
       "<!DOCTYPE svg PUBLIC \"-//W3C//DTD SVG 1.1//EN\"\n",
       " \"http://www.w3.org/Graphics/SVG/1.1/DTD/svg11.dtd\">\n",
       "<!-- Generated by graphviz version 2.38.0 (20140413.2041)\n",
       " -->\n",
       "<!-- Title: Tree Pages: 1 -->\n",
       "<svg width=\"318pt\" height=\"194pt\"\n",
       " viewBox=\"0.00 0.00 318.00 194.00\" xmlns=\"http://www.w3.org/2000/svg\" xmlns:xlink=\"http://www.w3.org/1999/xlink\">\n",
       "<g id=\"graph0\" class=\"graph\" transform=\"scale(1 1) rotate(0) translate(4 190)\">\n",
       "<title>Tree</title>\n",
       "<polygon fill=\"white\" stroke=\"none\" points=\"-4,4 -4,-190 314,-190 314,4 -4,4\"/>\n",
       "<!-- 0 -->\n",
       "<g id=\"node1\" class=\"node\"><title>0</title>\n",
       "<polygon fill=\"#e58139\" fill-opacity=\"0.474510\" stroke=\"black\" points=\"136.5,-125.75 -0.5,-125.75 -0.5,-57.75 136.5,-57.75 136.5,-125.75\"/>\n",
       "<text text-anchor=\"start\" x=\"11\" y=\"-110.55\" font-family=\"Times,serif\" font-size=\"14.00\">GrLivArea ≤ 1488.0</text>\n",
       "<text text-anchor=\"start\" x=\"7.5\" y=\"-95.55\" font-family=\"Times,serif\" font-size=\"14.00\">mse = 6306788585.35</text>\n",
       "<text text-anchor=\"start\" x=\"25.5\" y=\"-80.55\" font-family=\"Times,serif\" font-size=\"14.00\">samples = 1460</text>\n",
       "<text text-anchor=\"start\" x=\"21\" y=\"-65.55\" font-family=\"Times,serif\" font-size=\"14.00\">value = 180921.2</text>\n",
       "</g>\n",
       "<!-- 1 -->\n",
       "<g id=\"node2\" class=\"node\"><title>1</title>\n",
       "<polygon fill=\"none\" stroke=\"black\" points=\"309.5,-172.25 172.5,-172.25 172.5,-119.25 309.5,-119.25 309.5,-172.25\"/>\n",
       "<text text-anchor=\"start\" x=\"180.5\" y=\"-157.05\" font-family=\"Times,serif\" font-size=\"14.00\">mse = 1408525823.77</text>\n",
       "<text text-anchor=\"start\" x=\"201.5\" y=\"-142.05\" font-family=\"Times,serif\" font-size=\"14.00\">samples = 767</text>\n",
       "<text text-anchor=\"start\" x=\"191\" y=\"-127.05\" font-family=\"Times,serif\" font-size=\"14.00\">value = 137687.23</text>\n",
       "</g>\n",
       "<!-- 0&#45;&gt;1 -->\n",
       "<g id=\"edge1\" class=\"edge\"><title>0&#45;&gt;1</title>\n",
       "<path fill=\"none\" stroke=\"black\" d=\"M136.584,-113.092C145.13,-115.791 153.926,-118.569 162.61,-121.311\"/>\n",
       "<polygon fill=\"black\" stroke=\"black\" points=\"161.757,-124.712 172.347,-124.386 163.865,-118.037 161.757,-124.712\"/>\n",
       "<text text-anchor=\"middle\" x=\"150.167\" y=\"-132.22\" font-family=\"Times,serif\" font-size=\"14.00\">True</text>\n",
       "</g>\n",
       "<!-- 2 -->\n",
       "<g id=\"node3\" class=\"node\"><title>2</title>\n",
       "<polygon fill=\"#e58139\" stroke=\"black\" points=\"306,-66.25 176,-66.25 176,-13.25 306,-13.25 306,-66.25\"/>\n",
       "<text text-anchor=\"start\" x=\"184\" y=\"-51.05\" font-family=\"Times,serif\" font-size=\"14.00\">mse = 7369649464.1</text>\n",
       "<text text-anchor=\"start\" x=\"201.5\" y=\"-36.05\" font-family=\"Times,serif\" font-size=\"14.00\">samples = 693</text>\n",
       "<text text-anchor=\"start\" x=\"191\" y=\"-21.05\" font-family=\"Times,serif\" font-size=\"14.00\">value = 228771.78</text>\n",
       "</g>\n",
       "<!-- 0&#45;&gt;2 -->\n",
       "<g id=\"edge2\" class=\"edge\"><title>0&#45;&gt;2</title>\n",
       "<path fill=\"none\" stroke=\"black\" d=\"M136.584,-71.1982C146.316,-68.2387 156.372,-65.1806 166.218,-62.1868\"/>\n",
       "<polygon fill=\"black\" stroke=\"black\" points=\"167.423,-65.4784 175.972,-59.2204 165.387,-58.7812 167.423,-65.4784\"/>\n",
       "<text text-anchor=\"middle\" x=\"153.916\" y=\"-43.7505\" font-family=\"Times,serif\" font-size=\"14.00\">False</text>\n",
       "</g>\n",
       "</g>\n",
       "</svg>\n"
      ],
      "text/plain": [
       "<graphviz.files.Source at 0x7fc53636a470>"
      ]
     },
     "metadata": {},
     "output_type": "display_data"
    }
   ],
   "source": [
    "draw_tree(dtr, X_train, precision=2)"
   ]
  },
  {
   "cell_type": "markdown",
   "metadata": {
    "_cell_guid": "61e24549-2d3c-4bd7-bd6f-89f32d8fae3f",
    "_uuid": "2db3b9dcb1535b59bf5f7c60cd39c26d7332d1a3"
   },
   "source": [
    "## **Splitting Algorithm : A simple loop**\n",
    "\n"
   ]
  },
  {
   "cell_type": "markdown",
   "metadata": {
    "_cell_guid": "fb3b4ba5-4dea-4276-9f24-9448ac6b814d",
    "_uuid": "d13c684ead3e69b36a0b4cbf9fcdd5b66ea4777e"
   },
   "source": [
    "###  **English**\n",
    "1. Target: Looking for a division of the dataset where mostly 1's on one side and mostly 0's on other side\n",
    "2. Will check every element and separate the set into a left handed group and a right handed group and calculate a 'purity' score\n",
    "3. will loop and search for the lowest score\n",
    "\n",
    "### **Score Calculation**:\n",
    "\n",
    "    - left_grp_Ytrain_deviation * left_Xtrain_sum + right_grp_Ytrain_deviation * right_Xtrain_sum\n",
    "\n",
    "### **Python Explicit Code: Setup**\n",
    "- `feature_idx =1` : we can choose which feature we want to look at \n",
    "- `stored_score = float('inf')` : choose a very high starter score\n",
    "- `stored_split_feature = 0` this is redundant right now, but it would be the idea feature to split on\n",
    "- `stored_split_value = 0` - this is the actual data-frame value to split on, for us `GrLivArea` is in ft\n",
    "- `all_indexes = [x for x in X_train.index]` : makes list of all possible indexes\n",
    "- `feature_list = X_train.columns` - feature list of column names, for labeling\n",
    "\n",
    "### **Datasetup**\n",
    "\n",
    "- `x,y = X_train.iloc[all_indexes,feature_idx],y_train.values[all_indexes]` pulls out the actual values\n",
    "\n",
    "### **Split logic: for a given index**\n",
    "\n",
    "#### **X values split**\n",
    "- `lhs_x = x<=x[split_index]` : for whatever split value you are at, how many values are less\n",
    "- `rhs_x = x>x[split_index]` : how many values are above the selected value\n",
    "\n",
    "#### **y values split**\n",
    "- `lhs_y_std = y[lhs_x].std()` : the stdev of the left hand y values\n",
    "- `rhs_x_std = y[rhs_x].std()` : the stdev of the right hand y values\n",
    "\n",
    "#### **Calc the score**\n",
    "- `curr_score = lhs_y_std*lhs_x.sum() + rhs_x_std*rhs_x.sum()` \n",
    "\n",
    "#### **If score is better, store the data**\n",
    "\n",
    "```python\n",
    "if curr_score<stored_score: \n",
    "    print('split index :%d lhs ct: %d | rhs ct: %d| %f' % (\n",
    "        split_index,\n",
    "        len(lhs_x),\n",
    "        len(rhs_x),\n",
    "        curr_score))\n",
    "    stored_split_feature = feature_idx\n",
    "    stored_score = curr_score\n",
    "    stored_split_value = x[split_index]\n",
    "```\n"
   ]
  },
  {
   "cell_type": "markdown",
   "metadata": {
    "_cell_guid": "9b5292b7-6d43-475b-8e53-7c09620c304a",
    "_uuid": "776b2860720aea183bb9de1f49588b7cecb71ab5"
   },
   "source": [
    "## **3.1 Our Loop representation of a 1-level Tree**\n",
    "<img src='http://www.onlineteachinghub.com/wp-content/uploads/2015/09/prog101-2.jpg' />"
   ]
  },
  {
   "cell_type": "code",
   "execution_count": 16,
   "metadata": {
    "_cell_guid": "ec70f468-1409-44b1-8294-85232cf74bde",
    "_uuid": "40cef8c8b191d24fdb41149a933ab1494cc5b551"
   },
   "outputs": [
    {
     "name": "stdout",
     "output_type": "stream",
     "text": [
      "start loop\n",
      "split index :1 lhs ct: 512 | rhs ct: 948| score: 93281398.205757\n",
      "split index :2 lhs ct: 1101 | rhs ct: 359| score: 91804469.340026\n",
      "split index :3 lhs ct: 1037 | rhs ct: 423| score: 91487146.514272\n",
      "split index :5 lhs ct: 618 | rhs ct: 842| score: 90970171.513650\n",
      "split index :6 lhs ct: 1008 | rhs ct: 452| score: 90944631.172519\n",
      "split index :13 lhs ct: 778 | rhs ct: 682| score: 88899549.318965\n",
      "split index :67 lhs ct: 755 | rhs ct: 705| score: 88506980.330170\n",
      "split index :239 lhs ct: 767 | rhs ct: 693| score: 88277501.801643\n",
      "88277501.80164349 GrLivArea 1487\n"
     ]
    }
   ],
   "source": [
    "feature_idx =1\n",
    "stored_score = float('inf')\n",
    "stored_split_feature = 0\n",
    "stored_split_value = 0\n",
    "\n",
    "all_indexes = [x for x in X_train.index]\n",
    "\n",
    "feature_list = X_train.columns\n",
    "x,y = X_train.iloc[all_indexes,feature_idx],y_train.values[all_indexes]\n",
    "\n",
    "print('start loop')\n",
    "for split_index in range(1, x.shape[0]-1):\n",
    "    lhs_x = x<=x[split_index]\n",
    "    rhs_x = x>x[split_index]\n",
    "\n",
    "    if rhs_x.sum()==0:\n",
    "        continue\n",
    "    else:\n",
    "        lhs_y_std = y[lhs_x].std()\n",
    "        rhs_y_std = y[rhs_x].std()\n",
    "\n",
    "        curr_score = lhs_y_std*lhs_x.sum() + rhs_y_std*rhs_x.sum()\n",
    "        \n",
    "        if curr_score<stored_score: \n",
    "            print('split index :%d lhs ct: %d | rhs ct: %d| score: %f' % (split_index, sum(lhs_x),sum(rhs_x), curr_score))\n",
    "            stored_split_feature = feature_idx\n",
    "            stored_score = curr_score\n",
    "            stored_split_value = x[split_index]\n",
    "\n",
    "\n",
    "print(stored_score, feature_list[stored_split_feature], stored_split_value)"
   ]
  },
  {
   "cell_type": "markdown",
   "metadata": {
    "_cell_guid": "34ee82fa-7546-417e-87a9-98678d3879bb",
    "_uuid": "4fb06507746da837435e4b539220bd6073d2a94c"
   },
   "source": [
    "### **We see we have the same answer! GrLiv Area around 1487 sqft!**"
   ]
  },
  {
   "cell_type": "markdown",
   "metadata": {
    "_cell_guid": "9bec9d85-8647-4020-980b-61d895d37fb3",
    "_uuid": "b777df6dd3dfc71599cace8c1043be03113326df"
   },
   "source": [
    "### **3.2 the Class version: Lets turn it into a class with a single function (still only doing 1 feature)**\n",
    "\n",
    "<img src='http://4.bp.blogspot.com/-ANYNUQrNZug/T4FMIgqFMlI/AAAAAAAAACo/al-4GKDFawM/s1600/oop%5B1%5D.jpg' />\n",
    "\n",
    "- **Tricky hard to change `variables` to `self.variables`:** be sure to keep track of these, its hard to find and replace all of them. I highly recommend restartting your kernel to make sure old variable values don't remain from a previous calculation and then fail to throw an error when prototyping your tree \n",
    "\n",
    "- **Dont repeat yourself** try to streamline as much as possible\n",
    "\n",
    "- **Don't send data to functions in the same class**: when acting on the data, always use the `self.` versions. The persistence between functions (all functions can access the same data) will help avoid version issues and naming problems"
   ]
  },
  {
   "cell_type": "code",
   "execution_count": 17,
   "metadata": {
    "_cell_guid": "89b89ebc-7409-4196-a428-40c5fad308d1",
    "_uuid": "6a5ac209e0b292d21f0d5091285f7f3073083f89"
   },
   "outputs": [],
   "source": [
    "\n",
    "class myIndecisionTree():\n",
    "    def __init__(self,x,y):\n",
    "        self.indexes = x.index\n",
    "        self.x = x\n",
    "        self.y = y\n",
    "        self.feature_idx =1\n",
    "        self.stored_score = float('inf')\n",
    "        self.stored_split_feature = 0\n",
    "        self.stored_split_value = 0\n",
    "        self.feature_list = x.columns\n",
    "    \n",
    "    def find_split_in_single_feature(self, feature_idx):\n",
    "        X_train = self.x\n",
    "        y_train = self.y\n",
    "\n",
    "        x,y = X_train.iloc[self.indexes,feature_idx],y_train.values[self.indexes]\n",
    "        print('start loop')\n",
    "        for split_index in range(1, self.x.shape[0]-1):\n",
    "            lhs_x = x<=x[split_index]\n",
    "            rhs_x = x>x[split_index]\n",
    "\n",
    "            if rhs_x.sum()==0:\n",
    "                print(self.stored_score, feature_list[self.stored_split_feature], self.stored_split_value)\n",
    "            else:\n",
    "                lhs_y_std = y[lhs_x].std()\n",
    "                rhs_x_std = y[rhs_x].std()\n",
    "\n",
    "                curr_score = lhs_y_std*lhs_x.sum() + rhs_x_std*rhs_x.sum()\n",
    "                if curr_score<self.stored_score: \n",
    "                    print('split index :%d lhs ct: %d | rhs ct: %d| score: %f' % (split_index, sum(lhs_x),sum(rhs_x), curr_score))\n",
    "                    self.stored_split_feature = feature_idx\n",
    "                    self.stored_score = curr_score\n",
    "                    self.stored_split_value = x[split_index]\n",
    "\n",
    "        print(self.stored_score, self.feature_list[self.stored_split_feature], self.stored_split_value)\n"
   ]
  },
  {
   "cell_type": "code",
   "execution_count": 18,
   "metadata": {
    "_cell_guid": "e3a5ec70-1b6f-49a1-9fd6-92d0c9565f33",
    "_uuid": "6a0636f6c6516703db3122cf1870081f8360e6b7"
   },
   "outputs": [
    {
     "name": "stdout",
     "output_type": "stream",
     "text": [
      "start loop\n",
      "split index :1 lhs ct: 512 | rhs ct: 948| score: 93281398.205757\n",
      "split index :2 lhs ct: 1101 | rhs ct: 359| score: 91804469.340026\n",
      "split index :3 lhs ct: 1037 | rhs ct: 423| score: 91487146.514272\n",
      "split index :5 lhs ct: 618 | rhs ct: 842| score: 90970171.513650\n",
      "split index :6 lhs ct: 1008 | rhs ct: 452| score: 90944631.172519\n",
      "split index :13 lhs ct: 778 | rhs ct: 682| score: 88899549.318965\n",
      "split index :67 lhs ct: 755 | rhs ct: 705| score: 88506980.330170\n",
      "split index :239 lhs ct: 767 | rhs ct: 693| score: 88277501.801643\n",
      "88277501.80164349 GrLivArea 1487\n",
      "88277501.80164349 GrLivArea 1487\n"
     ]
    }
   ],
   "source": [
    "myTree = myIndecisionTree(X_train,y_train)\n",
    "myTree.find_split_in_single_feature(1)"
   ]
  },
  {
   "cell_type": "markdown",
   "metadata": {
    "_cell_guid": "bbfc63cb-8aea-4e37-a4c0-20f78662b296",
    "_uuid": "54d312aa3e2ffe37b4536fa51a3b71eb79f1c652"
   },
   "source": [
    "### **3.3: Make a function for all features**\n",
    "\n",
    "<img src='https://upload.wikimedia.org/wikipedia/commons/thumb/8/82/CPT-OOP-interfaces.svg/300px-CPT-OOP-interfaces.svg.png' />\n",
    "\n",
    "Note that when we call this function we don't have to keep passing around updated scores or split values. That is taken care of by using the `self.` notation. "
   ]
  },
  {
   "cell_type": "code",
   "execution_count": 19,
   "metadata": {
    "_cell_guid": "d4a258be-b635-46d6-a235-b339ffdf1bb5",
    "_uuid": "f782f5d6262ead0fb1a1693448427e512a896fb7"
   },
   "outputs": [],
   "source": [
    "class myIndecisionTree():\n",
    "    def __init__(self,x,y):\n",
    "        self.indexes = x.index\n",
    "        self.x = x\n",
    "        self.y = y\n",
    "        # self.feature_idx =1\n",
    "        self.stored_score = float('inf')\n",
    "        self.stored_split_feature = 0\n",
    "        self.stored_split_value = 0\n",
    "        self.feature_list = x.columns\n",
    "\n",
    "    \n",
    "    # ======== NEW FUNCTION =========================\n",
    "    def check_all_features(self):\n",
    "        for i in range(len(feature_list)-1):\n",
    "            self.find_split_in_single_feature(i)  \n",
    "            \n",
    "        print(self.stored_score, self.feature_list[self.stored_split_feature], self.stored_split_value)\n",
    "    # ======== NEW FUNCTION =========================    \n",
    "    \n",
    "    def find_split_in_single_feature(self, feature_idx):\n",
    "        X_train = self.x\n",
    "        y_train = self.y\n",
    "\n",
    "        x,y = X_train.iloc[self.indexes,feature_idx],y_train.values[self.indexes]\n",
    "        print('start loop')\n",
    "        for split_index in range(1, self.x.shape[0]-1):\n",
    "            lhs_x = x<=x[split_index]\n",
    "            rhs_x = x>x[split_index]\n",
    "\n",
    "            if rhs_x.sum()==0:\n",
    "                continue\n",
    "            else:\n",
    "                lhs_y_std = y[lhs_x].std()\n",
    "                rhs_x_std = y[rhs_x].std()\n",
    "\n",
    "                curr_score = lhs_y_std*lhs_x.sum() + rhs_x_std*rhs_x.sum()\n",
    "                if curr_score<self.stored_score: \n",
    "                    print('split index :%d lhs ct: %d | rhs ct: %d| score: %f' % (split_index, sum(lhs_x),sum(rhs_x), curr_score))\n",
    "                    self.stored_split_feature = feature_idx\n",
    "                    self.stored_score = curr_score\n",
    "                    self.stored_split_value = x[split_index]\n",
    "\n",
    "        \n"
   ]
  },
  {
   "cell_type": "markdown",
   "metadata": {
    "_cell_guid": "a04e5470-9dd8-40b9-910c-0f853d2e3501",
    "_uuid": "f87c1c21b40552451323ea59ffa014f74c903b1a"
   },
   "source": [
    "### **Test it with a different data set - Single Decision Tree**"
   ]
  },
  {
   "cell_type": "code",
   "execution_count": 20,
   "metadata": {
    "_cell_guid": "9108a4ce-e419-4172-ab59-67cc701c62d4",
    "_uuid": "156f6a808994ec6c2a549c0a5fd54aa5bd0e589f"
   },
   "outputs": [],
   "source": [
    "y_train = sample_df['SalePrice']\n",
    "#X_train = sample_df[['GrLivArea']]\n",
    "X_train = sample_df[[x for x in sample_df.columns if x not in ['SalePrice','GrLivArea']]]"
   ]
  },
  {
   "cell_type": "code",
   "execution_count": 21,
   "metadata": {
    "_cell_guid": "46b7f1e0-e876-4686-8009-581777f9679a",
    "_uuid": "0884ed9b27c956f1942ce8bbb689e6f9f83acf71"
   },
   "outputs": [
    {
     "data": {
      "text/plain": [
       "DecisionTreeRegressor(criterion='mse', max_depth=1, max_features=None,\n",
       "           max_leaf_nodes=None, min_impurity_decrease=0.0,\n",
       "           min_impurity_split=None, min_samples_leaf=1,\n",
       "           min_samples_split=2, min_weight_fraction_leaf=0.0,\n",
       "           presort=False, random_state=None, splitter='best')"
      ]
     },
     "execution_count": 21,
     "metadata": {},
     "output_type": "execute_result"
    }
   ],
   "source": [
    "dtr = DecisionTreeRegressor(max_depth=1)\n",
    "dtr.fit(X_train,y_train)\n"
   ]
  },
  {
   "cell_type": "markdown",
   "metadata": {
    "_cell_guid": "0b281fbf-3cdc-4c9d-9d67-23594cc48313",
    "_uuid": "c15f5e7895edef9ff5ccc6f1aa810566a5011681"
   },
   "source": [
    "### **Sklearn**"
   ]
  },
  {
   "cell_type": "code",
   "execution_count": 22,
   "metadata": {
    "_cell_guid": "4fb44344-73d3-436a-9911-4cc2ae66ac09",
    "_uuid": "f536b667ea2439ee52a5db17969eb5dcccef9963"
   },
   "outputs": [
    {
     "data": {
      "image/svg+xml": [
       "<?xml version=\"1.0\" encoding=\"UTF-8\" standalone=\"no\"?>\n",
       "<!DOCTYPE svg PUBLIC \"-//W3C//DTD SVG 1.1//EN\"\n",
       " \"http://www.w3.org/Graphics/SVG/1.1/DTD/svg11.dtd\">\n",
       "<!-- Generated by graphviz version 2.38.0 (20140413.2041)\n",
       " -->\n",
       "<!-- Title: Tree Pages: 1 -->\n",
       "<svg width=\"321pt\" height=\"196pt\"\n",
       " viewBox=\"0.00 0.00 321.00 195.80\" xmlns=\"http://www.w3.org/2000/svg\" xmlns:xlink=\"http://www.w3.org/1999/xlink\">\n",
       "<g id=\"graph0\" class=\"graph\" transform=\"scale(1 1) rotate(0) translate(4 191.8)\">\n",
       "<title>Tree</title>\n",
       "<polygon fill=\"white\" stroke=\"none\" points=\"-4,4 -4,-191.8 317,-191.8 317,4 -4,4\"/>\n",
       "<!-- 0 -->\n",
       "<g id=\"node1\" class=\"node\"><title>0</title>\n",
       "<polygon fill=\"#e58139\" fill-opacity=\"0.458824\" stroke=\"black\" points=\"140,-127.135 0,-127.135 0,-59.1347 140,-59.1347 140,-127.135\"/>\n",
       "<text text-anchor=\"start\" x=\"8\" y=\"-111.935\" font-family=\"Times,serif\" font-size=\"14.00\">TotRmsAbvGrd ≤ 6.5</text>\n",
       "<text text-anchor=\"start\" x=\"9.5\" y=\"-96.9347\" font-family=\"Times,serif\" font-size=\"14.00\">mse = 6306788585.35</text>\n",
       "<text text-anchor=\"start\" x=\"27.5\" y=\"-81.9347\" font-family=\"Times,serif\" font-size=\"14.00\">samples = 1460</text>\n",
       "<text text-anchor=\"start\" x=\"23\" y=\"-66.9347\" font-family=\"Times,serif\" font-size=\"14.00\">value = 180921.2</text>\n",
       "</g>\n",
       "<!-- 1 -->\n",
       "<g id=\"node2\" class=\"node\"><title>1</title>\n",
       "<polygon fill=\"none\" stroke=\"black\" points=\"312.5,-174.635 175.5,-174.635 175.5,-121.635 312.5,-121.635 312.5,-174.635\"/>\n",
       "<text text-anchor=\"start\" x=\"183.5\" y=\"-159.435\" font-family=\"Times,serif\" font-size=\"14.00\">mse = 2512260840.62</text>\n",
       "<text text-anchor=\"start\" x=\"204.5\" y=\"-144.435\" font-family=\"Times,serif\" font-size=\"14.00\">samples = 792</text>\n",
       "<text text-anchor=\"start\" x=\"194\" y=\"-129.435\" font-family=\"Times,serif\" font-size=\"14.00\">value = 148505.44</text>\n",
       "</g>\n",
       "<!-- 0&#45;&gt;1 -->\n",
       "<g id=\"edge1\" class=\"edge\"><title>0&#45;&gt;1</title>\n",
       "<path fill=\"none\" stroke=\"black\" d=\"M140.463,-115.347C148.706,-117.982 157.159,-120.685 165.504,-123.354\"/>\n",
       "<polygon fill=\"black\" stroke=\"black\" points=\"164.641,-126.753 175.232,-126.465 166.773,-120.085 164.641,-126.753\"/>\n",
       "<text text-anchor=\"middle\" x=\"153.01\" y=\"-134.218\" font-family=\"Times,serif\" font-size=\"14.00\">True</text>\n",
       "</g>\n",
       "<!-- 2 -->\n",
       "<g id=\"node3\" class=\"node\"><title>2</title>\n",
       "<polygon fill=\"#e58139\" stroke=\"black\" points=\"312.5,-66.6347 175.5,-66.6347 175.5,-13.6347 312.5,-13.6347 312.5,-66.6347\"/>\n",
       "<text text-anchor=\"start\" x=\"183.5\" y=\"-51.4347\" font-family=\"Times,serif\" font-size=\"14.00\">mse = 8082754159.99</text>\n",
       "<text text-anchor=\"start\" x=\"204.5\" y=\"-36.4347\" font-family=\"Times,serif\" font-size=\"14.00\">samples = 668</text>\n",
       "<text text-anchor=\"start\" x=\"194\" y=\"-21.4347\" font-family=\"Times,serif\" font-size=\"14.00\">value = 219354.25</text>\n",
       "</g>\n",
       "<!-- 0&#45;&gt;2 -->\n",
       "<g id=\"edge2\" class=\"edge\"><title>0&#45;&gt;2</title>\n",
       "<path fill=\"none\" stroke=\"black\" d=\"M140.463,-71.7303C148.706,-69.1905 157.159,-66.5857 165.504,-64.0142\"/>\n",
       "<polygon fill=\"black\" stroke=\"black\" points=\"166.706,-67.3062 175.232,-61.0166 164.645,-60.6166 166.706,-67.3062\"/>\n",
       "<text text-anchor=\"middle\" x=\"153.133\" y=\"-45.6284\" font-family=\"Times,serif\" font-size=\"14.00\">False</text>\n",
       "</g>\n",
       "</g>\n",
       "</svg>\n"
      ],
      "text/plain": [
       "<graphviz.files.Source at 0x7fc535c7e0b8>"
      ]
     },
     "metadata": {},
     "output_type": "display_data"
    }
   ],
   "source": [
    "draw_tree(dtr, X_train, precision=2)"
   ]
  },
  {
   "cell_type": "code",
   "execution_count": 23,
   "metadata": {
    "_cell_guid": "b448f076-0e7a-4c94-83af-fb53bc8715e7",
    "_uuid": "4f6fefd4460a282fd80d4e9b3ba0791a9fb9dc08"
   },
   "outputs": [
    {
     "name": "stdout",
     "output_type": "stream",
     "text": [
      "start loop\n",
      "split index :1 lhs ct: 643 | rhs ct: 817| score: 115781552.380532\n",
      "start loop\n",
      "split index :1 lhs ct: 792 | rhs ct: 668| score: 99752951.757499\n",
      "99752951.75749913 TotRmsAbvGrd 6\n"
     ]
    }
   ],
   "source": [
    "myTree = myIndecisionTree(X_train,y_train)\n",
    "myTree.check_all_features()"
   ]
  },
  {
   "cell_type": "markdown",
   "metadata": {
    "_cell_guid": "c40157f4-0b64-4b80-a9aa-8238d52c476f",
    "_uuid": "d5ad1875291058dd215a39874fa4a9f793d155b1"
   },
   "source": [
    "<a id='section4'></a>\n",
    "## **4. Making our multi-level tree!**\n",
    "-- TBD\n",
    "\n",
    "<a id='section5'></a>\n",
    "## **5. Making our ensemble tree!**\n",
    "-- TBD"
   ]
  },
  {
   "cell_type": "markdown",
   "metadata": {
    "_cell_guid": "3dfdb4f8-65ba-426f-825f-a5a1923865f9",
    "_uuid": "c21154b061a79cac9929a66067f499b4b6be2cb3",
    "collapsed": true
   },
   "source": [
    "<a id='section6'></a>\n",
    "## 6. **Confidence Interval for Random Forests**\n",
    "\n",
    "<img src='http://berkeleysciencereview.com/wp-content/uploads/2014/04/to_err_is_human_by_velica-d4i9wjr.jpg' />\n",
    "\n",
    "How can we get an idea of how much the predictions will vary for a random forest? Is there a way to understand the range or prediction? Yes! Let's go through a quick walkthrough"
   ]
  },
  {
   "cell_type": "markdown",
   "metadata": {
    "_cell_guid": "8ebeb0c8-651d-4634-95d0-0e7a694fc82d",
    "_uuid": "70dd5422a948c210750d9edc9c224f611b5d246c"
   },
   "source": [
    "### **Let's Setup a small subset of the data**"
   ]
  },
  {
   "cell_type": "code",
   "execution_count": 24,
   "metadata": {
    "_cell_guid": "af9a7aa8-8a24-44e1-ae7e-172660d63c97",
    "_uuid": "0ae924331fba3836344ece8023993fc03520b5e9"
   },
   "outputs": [
    {
     "data": {
      "text/html": [
       "<div>\n",
       "<style scoped>\n",
       "    .dataframe tbody tr th:only-of-type {\n",
       "        vertical-align: middle;\n",
       "    }\n",
       "\n",
       "    .dataframe tbody tr th {\n",
       "        vertical-align: top;\n",
       "    }\n",
       "\n",
       "    .dataframe thead th {\n",
       "        text-align: right;\n",
       "    }\n",
       "</style>\n",
       "<table border=\"1\" class=\"dataframe\">\n",
       "  <thead>\n",
       "    <tr style=\"text-align: right;\">\n",
       "      <th></th>\n",
       "      <th>SalePrice</th>\n",
       "      <th>YrSold</th>\n",
       "      <th>TotRmsAbvGrd</th>\n",
       "      <th>Neighborhood</th>\n",
       "    </tr>\n",
       "  </thead>\n",
       "  <tbody>\n",
       "    <tr>\n",
       "      <th>0</th>\n",
       "      <td>208500</td>\n",
       "      <td>2008</td>\n",
       "      <td>8</td>\n",
       "      <td>CollgCr</td>\n",
       "    </tr>\n",
       "    <tr>\n",
       "      <th>1</th>\n",
       "      <td>181500</td>\n",
       "      <td>2007</td>\n",
       "      <td>6</td>\n",
       "      <td>Veenker</td>\n",
       "    </tr>\n",
       "    <tr>\n",
       "      <th>2</th>\n",
       "      <td>223500</td>\n",
       "      <td>2008</td>\n",
       "      <td>6</td>\n",
       "      <td>CollgCr</td>\n",
       "    </tr>\n",
       "    <tr>\n",
       "      <th>3</th>\n",
       "      <td>140000</td>\n",
       "      <td>2006</td>\n",
       "      <td>7</td>\n",
       "      <td>Crawfor</td>\n",
       "    </tr>\n",
       "    <tr>\n",
       "      <th>4</th>\n",
       "      <td>250000</td>\n",
       "      <td>2008</td>\n",
       "      <td>9</td>\n",
       "      <td>NoRidge</td>\n",
       "    </tr>\n",
       "  </tbody>\n",
       "</table>\n",
       "</div>"
      ],
      "text/plain": [
       "   SalePrice  YrSold  TotRmsAbvGrd Neighborhood\n",
       "0     208500    2008             8      CollgCr\n",
       "1     181500    2007             6      Veenker\n",
       "2     223500    2008             6      CollgCr\n",
       "3     140000    2006             7      Crawfor\n",
       "4     250000    2008             9      NoRidge"
      ]
     },
     "execution_count": 24,
     "metadata": {},
     "output_type": "execute_result"
    }
   ],
   "source": [
    "n = 100\n",
    "indexes = [x for x in range(n)]\n",
    "sample_df = train_df.loc[indexes,['SalePrice','YrSold','TotRmsAbvGrd','Neighborhood']].copy()\n",
    "sample_df.head()"
   ]
  },
  {
   "cell_type": "code",
   "execution_count": 25,
   "metadata": {
    "_cell_guid": "31032b0c-017c-44e2-b9a2-0b818283a2c7",
    "_uuid": "abccaa7c241f92ad10632f13d34e7cf84058bd93"
   },
   "outputs": [],
   "source": [
    "y_train = sample_df['SalePrice']\n",
    "X_train = sample_df[[x for x in sample_df.columns if x not in ['SalePrice']]]\n",
    "X_matrix = pd.get_dummies(X_train)"
   ]
  },
  {
   "cell_type": "code",
   "execution_count": 26,
   "metadata": {
    "_cell_guid": "30374d15-dd27-49ba-b97d-4dae4fa283e8",
    "_uuid": "ecf533a70381e8e508644ce7bbd68aa6c4a53086"
   },
   "outputs": [
    {
     "data": {
      "text/plain": [
       "RandomForestRegressor(bootstrap=True, criterion='mse', max_depth=3,\n",
       "           max_features='auto', max_leaf_nodes=None,\n",
       "           min_impurity_decrease=0.0, min_impurity_split=None,\n",
       "           min_samples_leaf=1, min_samples_split=2,\n",
       "           min_weight_fraction_leaf=0.0, n_estimators=10, n_jobs=1,\n",
       "           oob_score=False, random_state=None, verbose=0, warm_start=False)"
      ]
     },
     "execution_count": 26,
     "metadata": {},
     "output_type": "execute_result"
    }
   ],
   "source": [
    "from sklearn.ensemble import RandomForestRegressor\n",
    "rfr = RandomForestRegressor(n_estimators=10, max_depth=3)\n",
    "rfr.fit(X_matrix, y_train)"
   ]
  },
  {
   "cell_type": "markdown",
   "metadata": {
    "_cell_guid": "9552d3b2-9e89-4f43-816b-cfaf9c723d9b",
    "_uuid": "0388f7f05fae1128ce3b4dd70b4464c872c91019"
   },
   "source": [
    "### ** Note ! The underlying trees are very different!******"
   ]
  },
  {
   "cell_type": "code",
   "execution_count": 27,
   "metadata": {
    "_cell_guid": "a842a51f-8eb3-44bc-a57e-22e3f46fed97",
    "_uuid": "69a7d5165826a54c57f620aa2bbd5802fd7bee94"
   },
   "outputs": [
    {
     "data": {
      "image/svg+xml": [
       "<?xml version=\"1.0\" encoding=\"UTF-8\" standalone=\"no\"?>\n",
       "<!DOCTYPE svg PUBLIC \"-//W3C//DTD SVG 1.1//EN\"\n",
       " \"http://www.w3.org/Graphics/SVG/1.1/DTD/svg11.dtd\">\n",
       "<!-- Generated by graphviz version 2.38.0 (20140413.2041)\n",
       " -->\n",
       "<!-- Title: Tree Pages: 1 -->\n",
       "<svg width=\"720pt\" height=\"435pt\"\n",
       " viewBox=\"0.00 0.00 720.00 435.07\" xmlns=\"http://www.w3.org/2000/svg\" xmlns:xlink=\"http://www.w3.org/1999/xlink\">\n",
       "<g id=\"graph0\" class=\"graph\" transform=\"scale(0.958722 0.958722) rotate(0) translate(4 449.8)\">\n",
       "<title>Tree</title>\n",
       "<polygon fill=\"white\" stroke=\"none\" points=\"-4,4 -4,-449.8 747,-449.8 747,4 -4,4\"/>\n",
       "<!-- 0 -->\n",
       "<g id=\"node1\" class=\"node\"><title>0</title>\n",
       "<polygon fill=\"#e58139\" fill-opacity=\"0.290196\" stroke=\"black\" points=\"140,-265.69 0,-265.69 0,-197.69 140,-197.69 140,-265.69\"/>\n",
       "<text text-anchor=\"start\" x=\"8\" y=\"-250.49\" font-family=\"Times,serif\" font-size=\"14.00\">TotRmsAbvGrd ≤ 6.0</text>\n",
       "<text text-anchor=\"start\" x=\"13\" y=\"-235.49\" font-family=\"Times,serif\" font-size=\"14.00\">mse = 4541610160.0</text>\n",
       "<text text-anchor=\"start\" x=\"34\" y=\"-220.49\" font-family=\"Times,serif\" font-size=\"14.00\">samples = 62</text>\n",
       "<text text-anchor=\"start\" x=\"23\" y=\"-205.49\" font-family=\"Times,serif\" font-size=\"14.00\">value = 162537.0</text>\n",
       "</g>\n",
       "<!-- 1 -->\n",
       "<g id=\"node2\" class=\"node\"><title>1</title>\n",
       "<polygon fill=\"#e58139\" fill-opacity=\"0.180392\" stroke=\"black\" points=\"354.5,-310.69 175.5,-310.69 175.5,-242.69 354.5,-242.69 354.5,-310.69\"/>\n",
       "<text text-anchor=\"start\" x=\"183.5\" y=\"-295.49\" font-family=\"Times,serif\" font-size=\"14.00\">Neighborhood_NridgHt ≤ 0.0</text>\n",
       "<text text-anchor=\"start\" x=\"208\" y=\"-280.49\" font-family=\"Times,serif\" font-size=\"14.00\">mse = 1821520927.0</text>\n",
       "<text text-anchor=\"start\" x=\"229\" y=\"-265.49\" font-family=\"Times,serif\" font-size=\"14.00\">samples = 40</text>\n",
       "<text text-anchor=\"start\" x=\"218\" y=\"-250.49\" font-family=\"Times,serif\" font-size=\"14.00\">value = 132920.0</text>\n",
       "</g>\n",
       "<!-- 0&#45;&gt;1 -->\n",
       "<g id=\"edge1\" class=\"edge\"><title>0&#45;&gt;1</title>\n",
       "<path fill=\"none\" stroke=\"black\" d=\"M140.132,-247.809C148.463,-249.751 157.089,-251.762 165.735,-253.778\"/>\n",
       "<polygon fill=\"black\" stroke=\"black\" points=\"164.956,-257.19 175.49,-256.053 166.546,-250.373 164.956,-257.19\"/>\n",
       "<text text-anchor=\"middle\" x=\"154.26\" y=\"-265.554\" font-family=\"Times,serif\" font-size=\"14.00\">True</text>\n",
       "</g>\n",
       "<!-- 6 -->\n",
       "<g id=\"node7\" class=\"node\"><title>6</title>\n",
       "<polygon fill=\"#e58139\" fill-opacity=\"0.486275\" stroke=\"black\" points=\"330,-219.69 200,-219.69 200,-151.69 330,-151.69 330,-219.69\"/>\n",
       "<text text-anchor=\"start\" x=\"220\" y=\"-204.49\" font-family=\"Times,serif\" font-size=\"14.00\">YrSold ≤ 2006.0</text>\n",
       "<text text-anchor=\"start\" x=\"208\" y=\"-189.49\" font-family=\"Times,serif\" font-size=\"14.00\">mse = 5045594586.0</text>\n",
       "<text text-anchor=\"start\" x=\"229\" y=\"-174.49\" font-family=\"Times,serif\" font-size=\"14.00\">samples = 22</text>\n",
       "<text text-anchor=\"start\" x=\"218\" y=\"-159.49\" font-family=\"Times,serif\" font-size=\"14.00\">value = 215190.0</text>\n",
       "</g>\n",
       "<!-- 0&#45;&gt;6 -->\n",
       "<g id=\"edge6\" class=\"edge\"><title>0&#45;&gt;6</title>\n",
       "<path fill=\"none\" stroke=\"black\" d=\"M140.132,-215.213C156.255,-211.37 173.489,-207.262 189.821,-203.37\"/>\n",
       "<polygon fill=\"black\" stroke=\"black\" points=\"190.939,-206.701 199.855,-200.978 189.316,-199.892 190.939,-206.701\"/>\n",
       "<text text-anchor=\"middle\" x=\"178.561\" y=\"-184.181\" font-family=\"Times,serif\" font-size=\"14.00\">False</text>\n",
       "</g>\n",
       "<!-- 2 -->\n",
       "<g id=\"node3\" class=\"node\"><title>2</title>\n",
       "<polygon fill=\"#e58139\" fill-opacity=\"0.160784\" stroke=\"black\" points=\"577,-390.69 391,-390.69 391,-322.69 577,-322.69 577,-390.69\"/>\n",
       "<text text-anchor=\"start\" x=\"399\" y=\"-375.49\" font-family=\"Times,serif\" font-size=\"14.00\">Neighborhood_OldTown ≤ 0.0</text>\n",
       "<text text-anchor=\"start\" x=\"427\" y=\"-360.49\" font-family=\"Times,serif\" font-size=\"14.00\">mse = 1184224306.0</text>\n",
       "<text text-anchor=\"start\" x=\"448\" y=\"-345.49\" font-family=\"Times,serif\" font-size=\"14.00\">samples = 39</text>\n",
       "<text text-anchor=\"start\" x=\"437\" y=\"-330.49\" font-family=\"Times,serif\" font-size=\"14.00\">value = 128256.0</text>\n",
       "</g>\n",
       "<!-- 1&#45;&gt;2 -->\n",
       "<g id=\"edge2\" class=\"edge\"><title>1&#45;&gt;2</title>\n",
       "<path fill=\"none\" stroke=\"black\" d=\"M354.575,-309.344C363.354,-312.58 372.312,-315.883 381.211,-319.164\"/>\n",
       "<polygon fill=\"black\" stroke=\"black\" points=\"380.238,-322.535 390.831,-322.71 382.659,-315.967 380.238,-322.535\"/>\n",
       "</g>\n",
       "<!-- 5 -->\n",
       "<g id=\"node6\" class=\"node\"><title>5</title>\n",
       "<polygon fill=\"#e58139\" fill-opacity=\"0.721569\" stroke=\"black\" points=\"539,-301.19 429,-301.19 429,-248.19 539,-248.19 539,-301.19\"/>\n",
       "<text text-anchor=\"start\" x=\"457.5\" y=\"-285.99\" font-family=\"Times,serif\" font-size=\"14.00\">mse = 0.0</text>\n",
       "<text text-anchor=\"start\" x=\"451.5\" y=\"-270.99\" font-family=\"Times,serif\" font-size=\"14.00\">samples = 1</text>\n",
       "<text text-anchor=\"start\" x=\"437\" y=\"-255.99\" font-family=\"Times,serif\" font-size=\"14.00\">value = 277500.0</text>\n",
       "</g>\n",
       "<!-- 1&#45;&gt;5 -->\n",
       "<g id=\"edge5\" class=\"edge\"><title>1&#45;&gt;5</title>\n",
       "<path fill=\"none\" stroke=\"black\" d=\"M354.575,-275.873C376.032,-275.676 398.565,-275.468 418.66,-275.283\"/>\n",
       "<polygon fill=\"black\" stroke=\"black\" points=\"418.961,-278.78 428.929,-275.188 418.897,-271.78 418.961,-278.78\"/>\n",
       "</g>\n",
       "<!-- 3 -->\n",
       "<g id=\"node4\" class=\"node\"><title>3</title>\n",
       "<polygon fill=\"#e58139\" fill-opacity=\"0.180392\" stroke=\"black\" points=\"743,-444.19 613,-444.19 613,-391.19 743,-391.19 743,-444.19\"/>\n",
       "<text text-anchor=\"start\" x=\"621\" y=\"-428.99\" font-family=\"Times,serif\" font-size=\"14.00\">mse = 1075760350.0</text>\n",
       "<text text-anchor=\"start\" x=\"642\" y=\"-413.99\" font-family=\"Times,serif\" font-size=\"14.00\">samples = 37</text>\n",
       "<text text-anchor=\"start\" x=\"631\" y=\"-398.99\" font-family=\"Times,serif\" font-size=\"14.00\">value = 132891.0</text>\n",
       "</g>\n",
       "<!-- 2&#45;&gt;3 -->\n",
       "<g id=\"edge3\" class=\"edge\"><title>2&#45;&gt;3</title>\n",
       "<path fill=\"none\" stroke=\"black\" d=\"M577.063,-385.939C585.874,-388.738 594.729,-391.551 603.331,-394.284\"/>\n",
       "<polygon fill=\"black\" stroke=\"black\" points=\"602.328,-397.638 612.919,-397.33 604.448,-390.967 602.328,-397.638\"/>\n",
       "</g>\n",
       "<!-- 4 -->\n",
       "<g id=\"node5\" class=\"node\"><title>4</title>\n",
       "<polygon fill=\"none\" stroke=\"black\" points=\"739.5,-370.19 616.5,-370.19 616.5,-317.19 739.5,-317.19 739.5,-370.19\"/>\n",
       "<text text-anchor=\"start\" x=\"624.5\" y=\"-354.99\" font-family=\"Times,serif\" font-size=\"14.00\">mse = 125000000.0</text>\n",
       "<text text-anchor=\"start\" x=\"645.5\" y=\"-339.99\" font-family=\"Times,serif\" font-size=\"14.00\">samples = 2</text>\n",
       "<text text-anchor=\"start\" x=\"634.5\" y=\"-324.99\" font-family=\"Times,serif\" font-size=\"14.00\">value = 85000.0</text>\n",
       "</g>\n",
       "<!-- 2&#45;&gt;4 -->\n",
       "<g id=\"edge4\" class=\"edge\"><title>2&#45;&gt;4</title>\n",
       "<path fill=\"none\" stroke=\"black\" d=\"M577.063,-350.456C586.888,-349.791 596.767,-349.122 606.289,-348.477\"/>\n",
       "<polygon fill=\"black\" stroke=\"black\" points=\"606.72,-351.956 616.461,-347.789 606.247,-344.972 606.72,-351.956\"/>\n",
       "</g>\n",
       "<!-- 7 -->\n",
       "<g id=\"node8\" class=\"node\"><title>7</title>\n",
       "<polygon fill=\"#e58139\" fill-opacity=\"0.835294\" stroke=\"black\" points=\"554,-222.69 414,-222.69 414,-154.69 554,-154.69 554,-222.69\"/>\n",
       "<text text-anchor=\"start\" x=\"422\" y=\"-207.49\" font-family=\"Times,serif\" font-size=\"14.00\">TotRmsAbvGrd ≤ 8.0</text>\n",
       "<text text-anchor=\"start\" x=\"427\" y=\"-192.49\" font-family=\"Times,serif\" font-size=\"14.00\">mse = 6319029110.0</text>\n",
       "<text text-anchor=\"start\" x=\"451.5\" y=\"-177.49\" font-family=\"Times,serif\" font-size=\"14.00\">samples = 4</text>\n",
       "<text text-anchor=\"start\" x=\"437\" y=\"-162.49\" font-family=\"Times,serif\" font-size=\"14.00\">value = 307526.0</text>\n",
       "</g>\n",
       "<!-- 6&#45;&gt;7 -->\n",
       "<g id=\"edge7\" class=\"edge\"><title>6&#45;&gt;7</title>\n",
       "<path fill=\"none\" stroke=\"black\" d=\"M330.226,-186.578C353.191,-186.895 379.349,-187.257 403.451,-187.59\"/>\n",
       "<polygon fill=\"black\" stroke=\"black\" points=\"403.592,-191.092 413.639,-187.731 403.689,-184.093 403.592,-191.092\"/>\n",
       "</g>\n",
       "<!-- 10 -->\n",
       "<g id=\"node11\" class=\"node\"><title>10</title>\n",
       "<polygon fill=\"#e58139\" fill-opacity=\"0.403922\" stroke=\"black\" points=\"577,-131.69 391,-131.69 391,-63.6896 577,-63.6896 577,-131.69\"/>\n",
       "<text text-anchor=\"start\" x=\"399\" y=\"-116.49\" font-family=\"Times,serif\" font-size=\"14.00\">Neighborhood_OldTown ≤ 0.0</text>\n",
       "<text text-anchor=\"start\" x=\"427\" y=\"-101.49\" font-family=\"Times,serif\" font-size=\"14.00\">mse = 2183474566.0</text>\n",
       "<text text-anchor=\"start\" x=\"448\" y=\"-86.4896\" font-family=\"Times,serif\" font-size=\"14.00\">samples = 18</text>\n",
       "<text text-anchor=\"start\" x=\"437\" y=\"-71.4896\" font-family=\"Times,serif\" font-size=\"14.00\">value = 192902.0</text>\n",
       "</g>\n",
       "<!-- 6&#45;&gt;10 -->\n",
       "<g id=\"edge10\" class=\"edge\"><title>6&#45;&gt;10</title>\n",
       "<path fill=\"none\" stroke=\"black\" d=\"M330.226,-159.644C348.783,-152.118 369.426,-143.747 389.384,-135.654\"/>\n",
       "<polygon fill=\"black\" stroke=\"black\" points=\"390.852,-138.835 398.804,-131.834 388.221,-132.348 390.852,-138.835\"/>\n",
       "</g>\n",
       "<!-- 8 -->\n",
       "<g id=\"node9\" class=\"node\"><title>8</title>\n",
       "<polygon fill=\"#e58139\" fill-opacity=\"0.419608\" stroke=\"black\" points=\"733,-282.19 623,-282.19 623,-229.19 733,-229.19 733,-282.19\"/>\n",
       "<text text-anchor=\"start\" x=\"651.5\" y=\"-266.99\" font-family=\"Times,serif\" font-size=\"14.00\">mse = 0.0</text>\n",
       "<text text-anchor=\"start\" x=\"645.5\" y=\"-251.99\" font-family=\"Times,serif\" font-size=\"14.00\">samples = 1</text>\n",
       "<text text-anchor=\"start\" x=\"631\" y=\"-236.99\" font-family=\"Times,serif\" font-size=\"14.00\">value = 196500.0</text>\n",
       "</g>\n",
       "<!-- 7&#45;&gt;8 -->\n",
       "<g id=\"edge8\" class=\"edge\"><title>7&#45;&gt;8</title>\n",
       "<path fill=\"none\" stroke=\"black\" d=\"M554.045,-212.784C573.451,-219.555 594.456,-226.885 613.52,-233.538\"/>\n",
       "<polygon fill=\"black\" stroke=\"black\" points=\"612.405,-236.856 623,-236.846 614.711,-230.246 612.405,-236.856\"/>\n",
       "</g>\n",
       "<!-- 9 -->\n",
       "<g id=\"node10\" class=\"node\"><title>9</title>\n",
       "<polygon fill=\"#e58139\" stroke=\"black\" points=\"743,-207.19 613,-207.19 613,-154.19 743,-154.19 743,-207.19\"/>\n",
       "<text text-anchor=\"start\" x=\"621\" y=\"-191.99\" font-family=\"Times,serif\" font-size=\"14.00\">mse = 1943683584.0</text>\n",
       "<text text-anchor=\"start\" x=\"645.5\" y=\"-176.99\" font-family=\"Times,serif\" font-size=\"14.00\">samples = 3</text>\n",
       "<text text-anchor=\"start\" x=\"631\" y=\"-161.99\" font-family=\"Times,serif\" font-size=\"14.00\">value = 351936.0</text>\n",
       "</g>\n",
       "<!-- 7&#45;&gt;9 -->\n",
       "<g id=\"edge9\" class=\"edge\"><title>7&#45;&gt;9</title>\n",
       "<path fill=\"none\" stroke=\"black\" d=\"M554.045,-185.813C569.743,-185.159 586.487,-184.461 602.405,-183.798\"/>\n",
       "<polygon fill=\"black\" stroke=\"black\" points=\"602.88,-187.281 612.726,-183.368 602.589,-180.287 602.88,-187.281\"/>\n",
       "</g>\n",
       "<!-- 11 -->\n",
       "<g id=\"node12\" class=\"node\"><title>11</title>\n",
       "<polygon fill=\"#e58139\" fill-opacity=\"0.462745\" stroke=\"black\" points=\"743,-129.19 613,-129.19 613,-76.1896 743,-76.1896 743,-129.19\"/>\n",
       "<text text-anchor=\"start\" x=\"621\" y=\"-113.99\" font-family=\"Times,serif\" font-size=\"14.00\">mse = 1282480204.0</text>\n",
       "<text text-anchor=\"start\" x=\"642\" y=\"-98.9896\" font-family=\"Times,serif\" font-size=\"14.00\">samples = 15</text>\n",
       "<text text-anchor=\"start\" x=\"631\" y=\"-83.9896\" font-family=\"Times,serif\" font-size=\"14.00\">value = 208040.0</text>\n",
       "</g>\n",
       "<!-- 10&#45;&gt;11 -->\n",
       "<g id=\"edge11\" class=\"edge\"><title>10&#45;&gt;11</title>\n",
       "<path fill=\"none\" stroke=\"black\" d=\"M577.063,-100.087C585.685,-100.312 594.348,-100.537 602.775,-100.757\"/>\n",
       "<polygon fill=\"black\" stroke=\"black\" points=\"602.831,-104.259 612.919,-101.021 603.013,-97.2616 602.831,-104.259\"/>\n",
       "</g>\n",
       "<!-- 12 -->\n",
       "<g id=\"node13\" class=\"node\"><title>12</title>\n",
       "<polygon fill=\"#e58139\" fill-opacity=\"0.133333\" stroke=\"black\" points=\"739.5,-54.1896 616.5,-54.1896 616.5,-1.18965 739.5,-1.18965 739.5,-54.1896\"/>\n",
       "<text text-anchor=\"start\" x=\"624.5\" y=\"-38.9896\" font-family=\"Times,serif\" font-size=\"14.00\">mse = 128578400.0</text>\n",
       "<text text-anchor=\"start\" x=\"645.5\" y=\"-23.9896\" font-family=\"Times,serif\" font-size=\"14.00\">samples = 3</text>\n",
       "<text text-anchor=\"start\" x=\"631\" y=\"-8.98965\" font-family=\"Times,serif\" font-size=\"14.00\">value = 120240.0</text>\n",
       "</g>\n",
       "<!-- 10&#45;&gt;12 -->\n",
       "<g id=\"edge12\" class=\"edge\"><title>10&#45;&gt;12</title>\n",
       "<path fill=\"none\" stroke=\"black\" d=\"M577.063,-64.1248C587.097,-60.4669 597.187,-56.788 606.896,-53.2484\"/>\n",
       "<polygon fill=\"black\" stroke=\"black\" points=\"608.265,-56.4748 616.461,-49.7611 605.867,-49.8982 608.265,-56.4748\"/>\n",
       "</g>\n",
       "</g>\n",
       "</svg>\n"
      ],
      "text/plain": [
       "<graphviz.files.Source at 0x7fc535c7e5f8>"
      ]
     },
     "metadata": {},
     "output_type": "display_data"
    }
   ],
   "source": [
    "draw_tree(rfr.estimators_[0], X_matrix)"
   ]
  },
  {
   "cell_type": "code",
   "execution_count": 28,
   "metadata": {
    "_cell_guid": "2d82ce71-26f1-44fd-b61d-6b873e72c74d",
    "_uuid": "9f8ac0ce9c64ba99dbf5f89e1e5e7bc3c09da93a"
   },
   "outputs": [
    {
     "data": {
      "image/svg+xml": [
       "<?xml version=\"1.0\" encoding=\"UTF-8\" standalone=\"no\"?>\n",
       "<!DOCTYPE svg PUBLIC \"-//W3C//DTD SVG 1.1//EN\"\n",
       " \"http://www.w3.org/Graphics/SVG/1.1/DTD/svg11.dtd\">\n",
       "<!-- Generated by graphviz version 2.38.0 (20140413.2041)\n",
       " -->\n",
       "<!-- Title: Tree Pages: 1 -->\n",
       "<svg width=\"720pt\" height=\"434pt\"\n",
       " viewBox=\"0.00 0.00 720.00 434.49\" xmlns=\"http://www.w3.org/2000/svg\" xmlns:xlink=\"http://www.w3.org/1999/xlink\">\n",
       "<g id=\"graph0\" class=\"graph\" transform=\"scale(0.778659 0.778659) rotate(0) translate(4 554)\">\n",
       "<title>Tree</title>\n",
       "<polygon fill=\"white\" stroke=\"none\" points=\"-4,4 -4,-554 920.667,-554 920.667,4 -4,4\"/>\n",
       "<!-- 0 -->\n",
       "<g id=\"node1\" class=\"node\"><title>0</title>\n",
       "<polygon fill=\"#e58139\" fill-opacity=\"0.156863\" stroke=\"black\" points=\"156.667,-308.5 16.6667,-308.5 16.6667,-240.5 156.667,-240.5 156.667,-308.5\"/>\n",
       "<text text-anchor=\"start\" x=\"24.6667\" y=\"-293.3\" font-family=\"Times,serif\" font-size=\"14.00\">TotRmsAbvGrd ≤ 8.0</text>\n",
       "<text text-anchor=\"start\" x=\"29.6667\" y=\"-278.3\" font-family=\"Times,serif\" font-size=\"14.00\">mse = 6293275609.0</text>\n",
       "<text text-anchor=\"start\" x=\"50.6667\" y=\"-263.3\" font-family=\"Times,serif\" font-size=\"14.00\">samples = 61</text>\n",
       "<text text-anchor=\"start\" x=\"39.6667\" y=\"-248.3\" font-family=\"Times,serif\" font-size=\"14.00\">value = 181194.0</text>\n",
       "</g>\n",
       "<!-- 1 -->\n",
       "<g id=\"node2\" class=\"node\"><title>1</title>\n",
       "<polygon fill=\"#e58139\" fill-opacity=\"0.094118\" stroke=\"black\" points=\"419.167,-361.5 240.167,-361.5 240.167,-293.5 419.167,-293.5 419.167,-361.5\"/>\n",
       "<text text-anchor=\"start\" x=\"248.167\" y=\"-346.3\" font-family=\"Times,serif\" font-size=\"14.00\">Neighborhood_NridgHt ≤ 0.0</text>\n",
       "<text text-anchor=\"start\" x=\"272.667\" y=\"-331.3\" font-family=\"Times,serif\" font-size=\"14.00\">mse = 3403881201.0</text>\n",
       "<text text-anchor=\"start\" x=\"293.667\" y=\"-316.3\" font-family=\"Times,serif\" font-size=\"14.00\">samples = 54</text>\n",
       "<text text-anchor=\"start\" x=\"282.667\" y=\"-301.3\" font-family=\"Times,serif\" font-size=\"14.00\">value = 162474.0</text>\n",
       "</g>\n",
       "<!-- 0&#45;&gt;1 -->\n",
       "<g id=\"edge1\" class=\"edge\"><title>0&#45;&gt;1</title>\n",
       "<path fill=\"none\" stroke=\"black\" d=\"M156.728,-289.688C179.466,-294.688 205.212,-300.35 229.728,-305.742\"/>\n",
       "<polygon fill=\"black\" stroke=\"black\" points=\"229.262,-309.223 239.78,-307.952 230.765,-302.386 229.262,-309.223\"/>\n",
       "<text text-anchor=\"middle\" x=\"218.718\" y=\"-317.721\" font-family=\"Times,serif\" font-size=\"14.00\">True</text>\n",
       "</g>\n",
       "<!-- 8 -->\n",
       "<g id=\"node9\" class=\"node\"><title>8</title>\n",
       "<polygon fill=\"#e58139\" fill-opacity=\"0.603922\" stroke=\"black\" points=\"394.667,-255.5 264.667,-255.5 264.667,-187.5 394.667,-187.5 394.667,-255.5\"/>\n",
       "<text text-anchor=\"start\" x=\"284.667\" y=\"-240.3\" font-family=\"Times,serif\" font-size=\"14.00\">YrSold ≤ 2006.0</text>\n",
       "<text text-anchor=\"start\" x=\"272.667\" y=\"-225.3\" font-family=\"Times,serif\" font-size=\"14.00\">mse = 6067159764.0</text>\n",
       "<text text-anchor=\"start\" x=\"297.167\" y=\"-210.3\" font-family=\"Times,serif\" font-size=\"14.00\">samples = 7</text>\n",
       "<text text-anchor=\"start\" x=\"282.667\" y=\"-195.3\" font-family=\"Times,serif\" font-size=\"14.00\">value = 318472.0</text>\n",
       "</g>\n",
       "<!-- 0&#45;&gt;8 -->\n",
       "<g id=\"edge8\" class=\"edge\"><title>0&#45;&gt;8</title>\n",
       "<path fill=\"none\" stroke=\"black\" d=\"M156.728,-259.312C187.352,-252.578 223.433,-244.643 254.614,-237.785\"/>\n",
       "<polygon fill=\"black\" stroke=\"black\" points=\"255.538,-241.166 264.553,-235.6 254.034,-234.329 255.538,-241.166\"/>\n",
       "<text text-anchor=\"middle\" x=\"243.491\" y=\"-218.432\" font-family=\"Times,serif\" font-size=\"14.00\">False</text>\n",
       "</g>\n",
       "<!-- 2 -->\n",
       "<g id=\"node3\" class=\"node\"><title>2</title>\n",
       "<polygon fill=\"#e58139\" fill-opacity=\"0.074510\" stroke=\"black\" points=\"685.667,-486.5 509.667,-486.5 509.667,-418.5 685.667,-418.5 685.667,-486.5\"/>\n",
       "<text text-anchor=\"start\" x=\"517.667\" y=\"-471.3\" font-family=\"Times,serif\" font-size=\"14.00\">Neighborhood_CollgCr ≤ 0.0</text>\n",
       "<text text-anchor=\"start\" x=\"540.667\" y=\"-456.3\" font-family=\"Times,serif\" font-size=\"14.00\">mse = 2925406044.0</text>\n",
       "<text text-anchor=\"start\" x=\"561.667\" y=\"-441.3\" font-family=\"Times,serif\" font-size=\"14.00\">samples = 51</text>\n",
       "<text text-anchor=\"start\" x=\"550.667\" y=\"-426.3\" font-family=\"Times,serif\" font-size=\"14.00\">value = 157162.0</text>\n",
       "</g>\n",
       "<!-- 1&#45;&gt;2 -->\n",
       "<g id=\"edge2\" class=\"edge\"><title>1&#45;&gt;2</title>\n",
       "<path fill=\"none\" stroke=\"black\" d=\"M403.352,-361.657C437.806,-377.848 479.112,-397.258 514.68,-413.972\"/>\n",
       "<polygon fill=\"black\" stroke=\"black\" points=\"513.53,-417.299 524.069,-418.384 516.507,-410.964 513.53,-417.299\"/>\n",
       "</g>\n",
       "<!-- 5 -->\n",
       "<g id=\"node6\" class=\"node\"><title>5</title>\n",
       "<polygon fill=\"#e58139\" fill-opacity=\"0.458824\" stroke=\"black\" points=\"659.167,-361.5 536.167,-361.5 536.167,-293.5 659.167,-293.5 659.167,-361.5\"/>\n",
       "<text text-anchor=\"start\" x=\"552.667\" y=\"-346.3\" font-family=\"Times,serif\" font-size=\"14.00\">YrSold ≤ 2010.0</text>\n",
       "<text text-anchor=\"start\" x=\"544.167\" y=\"-331.3\" font-family=\"Times,serif\" font-size=\"14.00\">mse = 415706875.0</text>\n",
       "<text text-anchor=\"start\" x=\"565.167\" y=\"-316.3\" font-family=\"Times,serif\" font-size=\"14.00\">samples = 3</text>\n",
       "<text text-anchor=\"start\" x=\"550.667\" y=\"-301.3\" font-family=\"Times,serif\" font-size=\"14.00\">value = 274025.0</text>\n",
       "</g>\n",
       "<!-- 1&#45;&gt;5 -->\n",
       "<g id=\"edge5\" class=\"edge\"><title>1&#45;&gt;5</title>\n",
       "<path fill=\"none\" stroke=\"black\" d=\"M419.241,-327.5C453.88,-327.5 493.06,-327.5 525.776,-327.5\"/>\n",
       "<polygon fill=\"black\" stroke=\"black\" points=\"526.156,-331 536.156,-327.5 526.156,-324 526.156,-331\"/>\n",
       "</g>\n",
       "<!-- 3 -->\n",
       "<g id=\"node4\" class=\"node\"><title>3</title>\n",
       "<polygon fill=\"#e58139\" fill-opacity=\"0.047059\" stroke=\"black\" points=\"900.667,-550 770.667,-550 770.667,-497 900.667,-497 900.667,-550\"/>\n",
       "<text text-anchor=\"start\" x=\"778.667\" y=\"-534.8\" font-family=\"Times,serif\" font-size=\"14.00\">mse = 2853391050.0</text>\n",
       "<text text-anchor=\"start\" x=\"799.667\" y=\"-519.8\" font-family=\"Times,serif\" font-size=\"14.00\">samples = 44</text>\n",
       "<text text-anchor=\"start\" x=\"788.667\" y=\"-504.8\" font-family=\"Times,serif\" font-size=\"14.00\">value = 148626.0</text>\n",
       "</g>\n",
       "<!-- 2&#45;&gt;3 -->\n",
       "<g id=\"edge3\" class=\"edge\"><title>2&#45;&gt;3</title>\n",
       "<path fill=\"none\" stroke=\"black\" d=\"M685.874,-478.736C710.455,-486.131 736.953,-494.103 760.679,-501.241\"/>\n",
       "<polygon fill=\"black\" stroke=\"black\" points=\"759.732,-504.611 770.316,-504.14 761.749,-497.908 759.732,-504.611\"/>\n",
       "</g>\n",
       "<!-- 4 -->\n",
       "<g id=\"node5\" class=\"node\"><title>4</title>\n",
       "<polygon fill=\"#e58139\" fill-opacity=\"0.227451\" stroke=\"black\" points=\"897.167,-479 774.167,-479 774.167,-426 897.167,-426 897.167,-479\"/>\n",
       "<text text-anchor=\"start\" x=\"782.167\" y=\"-463.8\" font-family=\"Times,serif\" font-size=\"14.00\">mse = 747073225.0</text>\n",
       "<text text-anchor=\"start\" x=\"803.167\" y=\"-448.8\" font-family=\"Times,serif\" font-size=\"14.00\">samples = 7</text>\n",
       "<text text-anchor=\"start\" x=\"788.667\" y=\"-433.8\" font-family=\"Times,serif\" font-size=\"14.00\">value = 203785.0</text>\n",
       "</g>\n",
       "<!-- 2&#45;&gt;4 -->\n",
       "<g id=\"edge4\" class=\"edge\"><title>2&#45;&gt;4</title>\n",
       "<path fill=\"none\" stroke=\"black\" d=\"M685.874,-452.5C711.495,-452.5 739.198,-452.5 763.675,-452.5\"/>\n",
       "<polygon fill=\"black\" stroke=\"black\" points=\"763.952,-456 773.952,-452.5 763.952,-449 763.952,-456\"/>\n",
       "</g>\n",
       "<!-- 6 -->\n",
       "<g id=\"node7\" class=\"node\"><title>6</title>\n",
       "<polygon fill=\"#e58139\" fill-opacity=\"0.423529\" stroke=\"black\" points=\"893.667,-408 777.667,-408 777.667,-355 893.667,-355 893.667,-408\"/>\n",
       "<text text-anchor=\"start\" x=\"785.667\" y=\"-392.8\" font-family=\"Times,serif\" font-size=\"14.00\">mse = 99875556.0</text>\n",
       "<text text-anchor=\"start\" x=\"803.167\" y=\"-377.8\" font-family=\"Times,serif\" font-size=\"14.00\">samples = 2</text>\n",
       "<text text-anchor=\"start\" x=\"788.667\" y=\"-362.8\" font-family=\"Times,serif\" font-size=\"14.00\">value = 263367.0</text>\n",
       "</g>\n",
       "<!-- 5&#45;&gt;6 -->\n",
       "<g id=\"edge6\" class=\"edge\"><title>5&#45;&gt;6</title>\n",
       "<path fill=\"none\" stroke=\"black\" d=\"M659.443,-341.406C692.507,-348.972 733.481,-358.347 767.491,-366.129\"/>\n",
       "<polygon fill=\"black\" stroke=\"black\" points=\"766.816,-369.565 777.345,-368.384 768.377,-362.742 766.816,-369.565\"/>\n",
       "</g>\n",
       "<!-- 7 -->\n",
       "<g id=\"node8\" class=\"node\"><title>7</title>\n",
       "<polygon fill=\"#e58139\" fill-opacity=\"0.564706\" stroke=\"black\" points=\"890.667,-337 780.667,-337 780.667,-284 890.667,-284 890.667,-337\"/>\n",
       "<text text-anchor=\"start\" x=\"809.167\" y=\"-321.8\" font-family=\"Times,serif\" font-size=\"14.00\">mse = 0.0</text>\n",
       "<text text-anchor=\"start\" x=\"803.167\" y=\"-306.8\" font-family=\"Times,serif\" font-size=\"14.00\">samples = 1</text>\n",
       "<text text-anchor=\"start\" x=\"788.667\" y=\"-291.8\" font-family=\"Times,serif\" font-size=\"14.00\">value = 306000.0</text>\n",
       "</g>\n",
       "<!-- 5&#45;&gt;7 -->\n",
       "<g id=\"edge7\" class=\"edge\"><title>5&#45;&gt;7</title>\n",
       "<path fill=\"none\" stroke=\"black\" d=\"M659.443,-323.122C693.501,-320.669 735.952,-317.611 770.54,-315.119\"/>\n",
       "<polygon fill=\"black\" stroke=\"black\" points=\"770.815,-318.609 780.537,-314.399 770.312,-311.627 770.815,-318.609\"/>\n",
       "</g>\n",
       "<!-- 9 -->\n",
       "<g id=\"node10\" class=\"node\"><title>9</title>\n",
       "<polygon fill=\"#e58139\" fill-opacity=\"0.690196\" stroke=\"black\" points=\"687.167,-255.5 508.167,-255.5 508.167,-187.5 687.167,-187.5 687.167,-255.5\"/>\n",
       "<text text-anchor=\"start\" x=\"516.167\" y=\"-240.3\" font-family=\"Times,serif\" font-size=\"14.00\">Neighborhood_StoneBr ≤ 0.0</text>\n",
       "<text text-anchor=\"start\" x=\"540.667\" y=\"-225.3\" font-family=\"Times,serif\" font-size=\"14.00\">mse = 2764775504.0</text>\n",
       "<text text-anchor=\"start\" x=\"565.167\" y=\"-210.3\" font-family=\"Times,serif\" font-size=\"14.00\">samples = 5</text>\n",
       "<text text-anchor=\"start\" x=\"550.667\" y=\"-195.3\" font-family=\"Times,serif\" font-size=\"14.00\">value = 343776.0</text>\n",
       "</g>\n",
       "<!-- 8&#45;&gt;9 -->\n",
       "<g id=\"edge9\" class=\"edge\"><title>8&#45;&gt;9</title>\n",
       "<path fill=\"none\" stroke=\"black\" d=\"M394.719,-221.5C425.64,-221.5 463.435,-221.5 497.929,-221.5\"/>\n",
       "<polygon fill=\"black\" stroke=\"black\" points=\"498.038,-225 508.038,-221.5 498.038,-218 498.038,-225\"/>\n",
       "</g>\n",
       "<!-- 12 -->\n",
       "<g id=\"node13\" class=\"node\"><title>12</title>\n",
       "<polygon fill=\"#e58139\" fill-opacity=\"0.192157\" stroke=\"black\" points=\"688.167,-131.5 507.167,-131.5 507.167,-63.5 688.167,-63.5 688.167,-131.5\"/>\n",
       "<text text-anchor=\"start\" x=\"515.167\" y=\"-116.3\" font-family=\"Times,serif\" font-size=\"14.00\">Neighborhood_NoRidge ≤ 0.0</text>\n",
       "<text text-anchor=\"start\" x=\"540.667\" y=\"-101.3\" font-family=\"Times,serif\" font-size=\"14.00\">mse = 3369802500.0</text>\n",
       "<text text-anchor=\"start\" x=\"565.167\" y=\"-86.3\" font-family=\"Times,serif\" font-size=\"14.00\">samples = 2</text>\n",
       "<text text-anchor=\"start\" x=\"550.667\" y=\"-71.3\" font-family=\"Times,serif\" font-size=\"14.00\">value = 191950.0</text>\n",
       "</g>\n",
       "<!-- 8&#45;&gt;12 -->\n",
       "<g id=\"edge12\" class=\"edge\"><title>8&#45;&gt;12</title>\n",
       "<path fill=\"none\" stroke=\"black\" d=\"M394.719,-191.641C430.583,-174.922 475.693,-153.894 514.177,-135.954\"/>\n",
       "<polygon fill=\"black\" stroke=\"black\" points=\"515.711,-139.1 523.296,-131.703 512.754,-132.756 515.711,-139.1\"/>\n",
       "</g>\n",
       "<!-- 10 -->\n",
       "<g id=\"node11\" class=\"node\"><title>10</title>\n",
       "<polygon fill=\"#e58139\" fill-opacity=\"0.611765\" stroke=\"black\" points=\"897.167,-266 774.167,-266 774.167,-213 897.167,-213 897.167,-266\"/>\n",
       "<text text-anchor=\"start\" x=\"782.167\" y=\"-250.8\" font-family=\"Times,serif\" font-size=\"14.00\">mse = 635419375.0</text>\n",
       "<text text-anchor=\"start\" x=\"803.167\" y=\"-235.8\" font-family=\"Times,serif\" font-size=\"14.00\">samples = 4</text>\n",
       "<text text-anchor=\"start\" x=\"788.667\" y=\"-220.8\" font-family=\"Times,serif\" font-size=\"14.00\">value = 320025.0</text>\n",
       "</g>\n",
       "<!-- 9&#45;&gt;10 -->\n",
       "<g id=\"edge10\" class=\"edge\"><title>9&#45;&gt;10</title>\n",
       "<path fill=\"none\" stroke=\"black\" d=\"M687.216,-228.254C712.508,-230.183 739.728,-232.259 763.813,-234.096\"/>\n",
       "<polygon fill=\"black\" stroke=\"black\" points=\"763.691,-237.597 773.928,-234.867 764.223,-230.617 763.691,-237.597\"/>\n",
       "</g>\n",
       "<!-- 11 -->\n",
       "<g id=\"node12\" class=\"node\"><title>11</title>\n",
       "<polygon fill=\"#e58139\" stroke=\"black\" points=\"890.667,-195 780.667,-195 780.667,-142 890.667,-142 890.667,-195\"/>\n",
       "<text text-anchor=\"start\" x=\"809.167\" y=\"-179.8\" font-family=\"Times,serif\" font-size=\"14.00\">mse = 0.0</text>\n",
       "<text text-anchor=\"start\" x=\"803.167\" y=\"-164.8\" font-family=\"Times,serif\" font-size=\"14.00\">samples = 1</text>\n",
       "<text text-anchor=\"start\" x=\"788.667\" y=\"-149.8\" font-family=\"Times,serif\" font-size=\"14.00\">value = 438780.0</text>\n",
       "</g>\n",
       "<!-- 9&#45;&gt;11 -->\n",
       "<g id=\"edge11\" class=\"edge\"><title>9&#45;&gt;11</title>\n",
       "<path fill=\"none\" stroke=\"black\" d=\"M687.216,-201.614C714.928,-195.391 744.954,-188.647 770.635,-182.88\"/>\n",
       "<polygon fill=\"black\" stroke=\"black\" points=\"771.626,-186.245 780.616,-180.638 770.092,-179.415 771.626,-186.245\"/>\n",
       "</g>\n",
       "<!-- 13 -->\n",
       "<g id=\"node14\" class=\"node\"><title>13</title>\n",
       "<polygon fill=\"none\" stroke=\"black\" points=\"890.667,-124 780.667,-124 780.667,-71 890.667,-71 890.667,-124\"/>\n",
       "<text text-anchor=\"start\" x=\"809.167\" y=\"-108.8\" font-family=\"Times,serif\" font-size=\"14.00\">mse = 0.0</text>\n",
       "<text text-anchor=\"start\" x=\"803.167\" y=\"-93.8\" font-family=\"Times,serif\" font-size=\"14.00\">samples = 1</text>\n",
       "<text text-anchor=\"start\" x=\"788.667\" y=\"-78.8\" font-family=\"Times,serif\" font-size=\"14.00\">value = 133900.0</text>\n",
       "</g>\n",
       "<!-- 12&#45;&gt;13 -->\n",
       "<g id=\"edge13\" class=\"edge\"><title>12&#45;&gt;13</title>\n",
       "<path fill=\"none\" stroke=\"black\" d=\"M688.225,-97.5C715.501,-97.5 744.933,-97.5 770.207,-97.5\"/>\n",
       "<polygon fill=\"black\" stroke=\"black\" points=\"770.4,-101 780.4,-97.5 770.4,-94.0001 770.4,-101\"/>\n",
       "</g>\n",
       "<!-- 14 -->\n",
       "<g id=\"node15\" class=\"node\"><title>14</title>\n",
       "<polygon fill=\"#e58139\" fill-opacity=\"0.380392\" stroke=\"black\" points=\"890.667,-53 780.667,-53 780.667,-0 890.667,-0 890.667,-53\"/>\n",
       "<text text-anchor=\"start\" x=\"809.167\" y=\"-37.8\" font-family=\"Times,serif\" font-size=\"14.00\">mse = 0.0</text>\n",
       "<text text-anchor=\"start\" x=\"803.167\" y=\"-22.8\" font-family=\"Times,serif\" font-size=\"14.00\">samples = 1</text>\n",
       "<text text-anchor=\"start\" x=\"788.667\" y=\"-7.8\" font-family=\"Times,serif\" font-size=\"14.00\">value = 250000.0</text>\n",
       "</g>\n",
       "<!-- 12&#45;&gt;14 -->\n",
       "<g id=\"edge14\" class=\"edge\"><title>12&#45;&gt;14</title>\n",
       "<path fill=\"none\" stroke=\"black\" d=\"M688.225,-70.5567C715.622,-62.3143 745.195,-53.4174 770.543,-45.7913\"/>\n",
       "<polygon fill=\"black\" stroke=\"black\" points=\"771.832,-49.0587 780.4,-42.8261 769.815,-42.3555 771.832,-49.0587\"/>\n",
       "</g>\n",
       "</g>\n",
       "</svg>\n"
      ],
      "text/plain": [
       "<graphviz.files.Source at 0x7fc535a11438>"
      ]
     },
     "metadata": {},
     "output_type": "display_data"
    }
   ],
   "source": [
    "draw_tree(rfr.estimators_[1], X_matrix)"
   ]
  },
  {
   "cell_type": "markdown",
   "metadata": {
    "_cell_guid": "bec73d73-bc14-4465-a7eb-7dbdc82c12c2",
    "_uuid": "29b734656f0f80b2776e0945fb91a957baf7a64e"
   },
   "source": [
    "## **Since  Every Tree is Different, every prediction for the same point will vary as well **\n",
    "<img src='http://monstermathclub.com/wp-content/uploads/2017/02/types-of-trees-delightful-miti-types-of-trees-mbetula-birch-mchikichi-palm-tree-mfune-beech-tree.jpg'  style='width:500px'/>\n",
    "\n",
    "### **Let's collect the individual predictions by tree **"
   ]
  },
  {
   "cell_type": "code",
   "execution_count": 29,
   "metadata": {
    "_cell_guid": "94bd2918-bd29-4aed-ac6b-403526dbf8bd",
    "_uuid": "238f1a4aeb51afab942aae8a5bf1551bee2a1662"
   },
   "outputs": [
    {
     "name": "stdout",
     "output_type": "stream",
     "text": [
      "100\n",
      "100\n",
      "100\n",
      "100\n",
      "100\n",
      "100\n",
      "100\n",
      "100\n",
      "100\n",
      "100\n"
     ]
    }
   ],
   "source": [
    "y_pred = rfr.predict(X_matrix)\n",
    "all_trees = rfr.estimators_\n",
    "all_predictions = [tree.predict(X_matrix) for tree in all_trees]\n",
    "for x in all_predictions:\n",
    "    print(len(x))"
   ]
  },
  {
   "cell_type": "markdown",
   "metadata": {
    "_cell_guid": "54cebb53-86af-4c3b-9656-f956005579ad",
    "_uuid": "ac12822e6b16d81bdec765930102a0116373f109"
   },
   "source": [
    "### ** Stack them into a single array **"
   ]
  },
  {
   "cell_type": "code",
   "execution_count": 30,
   "metadata": {
    "_cell_guid": "7fea4840-fce1-49be-ac11-f65db950ecb9",
    "_uuid": "cec6d9379ea66f845d30b9f56f75200d90ccdf8b"
   },
   "outputs": [
    {
     "name": "stdout",
     "output_type": "stream",
     "text": [
      "(10, 100)\n"
     ]
    }
   ],
   "source": [
    "all_predictions_by_point = np.stack(all_predictions, axis=0)\n",
    "print(all_predictions_by_point.shape)"
   ]
  },
  {
   "cell_type": "markdown",
   "metadata": {
    "_cell_guid": "009a53ec-7dfa-4b17-98b3-41fc0d389ed2",
    "_uuid": "715630a7f0f7d3d36cd1e0cc2e214ec414f6ae57"
   },
   "source": [
    "### ** Let's work through a single point sample, calculate a 95% Confidence interval**"
   ]
  },
  {
   "cell_type": "code",
   "execution_count": 31,
   "metadata": {
    "_cell_guid": "d783a3c5-0b94-4f6b-8ffc-ca27a5c897f4",
    "_uuid": "8c8ca3b463d4e3c7b45e8fc9a0ede8d7682b0b53"
   },
   "outputs": [
    {
     "data": {
      "text/plain": [
       "[78333.33333333333,\n",
       " 132890.57142857142,\n",
       " 134339.68253968254,\n",
       " 136479.66101694916,\n",
       " 139611.2068965517,\n",
       " 142177.67272727273,\n",
       " 142287.85074626867,\n",
       " 145490.1052631579,\n",
       " 148625.661971831,\n",
       " 161590.36144578314]"
      ]
     },
     "execution_count": 31,
     "metadata": {},
     "output_type": "execute_result"
    }
   ],
   "source": [
    "point_30 = [x[30] for x in all_predictions_by_point]\n",
    "point_30 = sorted(point_30)\n",
    "point_30"
   ]
  },
  {
   "cell_type": "code",
   "execution_count": 32,
   "metadata": {
    "_cell_guid": "cf10fb2e-517d-4981-a567-dfeb81505448",
    "_uuid": "b890abaf1f41b65d8e82e79b36a76c680905cabd"
   },
   "outputs": [
    {
     "data": {
      "text/plain": [
       "90608.7119047619"
      ]
     },
     "execution_count": 32,
     "metadata": {},
     "output_type": "execute_result"
    }
   ],
   "source": [
    "ci_percent = 95\n",
    "np.percentile(point_30, (100-ci_percent) / 2 )"
   ]
  },
  {
   "cell_type": "code",
   "execution_count": 33,
   "metadata": {
    "_cell_guid": "3eb8f762-ac0b-4943-8bcd-9e40a342752c",
    "_uuid": "e4220750c7e916d0094fb7bd037530da2449baf0"
   },
   "outputs": [
    {
     "data": {
      "text/plain": [
       "158673.30406414391"
      ]
     },
     "execution_count": 33,
     "metadata": {},
     "output_type": "execute_result"
    }
   ],
   "source": [
    "np.percentile(point_30, 100-(100-ci_percent) / 2 )"
   ]
  },
  {
   "cell_type": "markdown",
   "metadata": {
    "_cell_guid": "8244f596-2695-4bb8-8745-29709543d79e",
    "_uuid": "597de12a39662ef1e76db2766d83fe476d139265"
   },
   "source": [
    "### ** Now lets calc the CI's for the rest of the samples and Collect in a table**\n",
    "\n",
    "<img src='http://1.bp.blogspot.com/-S4ypXNVNeh0/VwmnJBXJ3ZI/AAAAAAAACas/AgWJ5aLwl7QFEkOYPgzDtBV8_HOAZFHQg/s1600/Garfield-1.jpg' />"
   ]
  },
  {
   "cell_type": "code",
   "execution_count": 34,
   "metadata": {
    "_cell_guid": "17604989-ca01-4633-81ba-c1305d8a97ec",
    "_uuid": "dffa39353a97287f4c4a8356615530ab7bf9e42c"
   },
   "outputs": [
    {
     "data": {
      "text/html": [
       "<div>\n",
       "<style scoped>\n",
       "    .dataframe tbody tr th:only-of-type {\n",
       "        vertical-align: middle;\n",
       "    }\n",
       "\n",
       "    .dataframe tbody tr th {\n",
       "        vertical-align: top;\n",
       "    }\n",
       "\n",
       "    .dataframe thead th {\n",
       "        text-align: right;\n",
       "    }\n",
       "</style>\n",
       "<table border=\"1\" class=\"dataframe\">\n",
       "  <thead>\n",
       "    <tr style=\"text-align: right;\">\n",
       "      <th></th>\n",
       "      <th>x</th>\n",
       "      <th>y_05</th>\n",
       "      <th>y_95</th>\n",
       "      <th>y_actual</th>\n",
       "      <th>y_ci_range</th>\n",
       "      <th>y_pred</th>\n",
       "      <th>x_sorted</th>\n",
       "    </tr>\n",
       "  </thead>\n",
       "  <tbody>\n",
       "    <tr>\n",
       "      <th>30</th>\n",
       "      <td>30</td>\n",
       "      <td>90608.711905</td>\n",
       "      <td>158673.304064</td>\n",
       "      <td>40000</td>\n",
       "      <td>68064.592159</td>\n",
       "      <td>136182.610737</td>\n",
       "      <td>0</td>\n",
       "    </tr>\n",
       "    <tr>\n",
       "      <th>29</th>\n",
       "      <td>29</td>\n",
       "      <td>133216.621429</td>\n",
       "      <td>158673.304064</td>\n",
       "      <td>68500</td>\n",
       "      <td>25456.682636</td>\n",
       "      <td>142113.468515</td>\n",
       "      <td>1</td>\n",
       "    </tr>\n",
       "    <tr>\n",
       "      <th>68</th>\n",
       "      <td>68</td>\n",
       "      <td>96101.428571</td>\n",
       "      <td>158673.304064</td>\n",
       "      <td>80000</td>\n",
       "      <td>62571.875493</td>\n",
       "      <td>137324.411372</td>\n",
       "      <td>2</td>\n",
       "    </tr>\n",
       "    <tr>\n",
       "      <th>39</th>\n",
       "      <td>39</td>\n",
       "      <td>133216.621429</td>\n",
       "      <td>158673.304064</td>\n",
       "      <td>82000</td>\n",
       "      <td>25456.682636</td>\n",
       "      <td>142113.468515</td>\n",
       "      <td>3</td>\n",
       "    </tr>\n",
       "    <tr>\n",
       "      <th>98</th>\n",
       "      <td>98</td>\n",
       "      <td>133216.621429</td>\n",
       "      <td>158673.304064</td>\n",
       "      <td>83000</td>\n",
       "      <td>25456.682636</td>\n",
       "      <td>142113.468515</td>\n",
       "      <td>4</td>\n",
       "    </tr>\n",
       "  </tbody>\n",
       "</table>\n",
       "</div>"
      ],
      "text/plain": [
       "     x           y_05           y_95  y_actual    y_ci_range         y_pred  \\\n",
       "30  30   90608.711905  158673.304064     40000  68064.592159  136182.610737   \n",
       "29  29  133216.621429  158673.304064     68500  25456.682636  142113.468515   \n",
       "68  68   96101.428571  158673.304064     80000  62571.875493  137324.411372   \n",
       "39  39  133216.621429  158673.304064     82000  25456.682636  142113.468515   \n",
       "98  98  133216.621429  158673.304064     83000  25456.682636  142113.468515   \n",
       "\n",
       "    x_sorted  \n",
       "30         0  \n",
       "29         1  \n",
       "68         2  \n",
       "39         3  \n",
       "98         4  "
      ]
     },
     "execution_count": 34,
     "metadata": {},
     "output_type": "execute_result"
    }
   ],
   "source": [
    "ci_percent= 95\n",
    "ci_down = np.percentile(all_predictions_by_point, (100-ci_percent) / 2 , axis=0)\n",
    "ci_up = np.percentile(all_predictions_by_point, 100-(100-ci_percent) / 2 , axis=0)\n",
    "\n",
    "tree_ci = pd.DataFrame({\n",
    "    'x' : [x for x in range(n)],\n",
    "    'y_actual' : y_train,\n",
    "    'y_pred' :y_pred,\n",
    "    'y_95' : ci_up,\n",
    "    'y_05' : ci_down,\n",
    "    'y_ci_range' : ci_up-ci_down\n",
    "})\n",
    "\n",
    "tree_ci.sort_values(by='y_actual', inplace=True)\n",
    "tree_ci['x_sorted'] = [x for x in range(n)]\n",
    "tree_ci.head()"
   ]
  },
  {
   "cell_type": "markdown",
   "metadata": {
    "_cell_guid": "3cb7d04b-669f-487b-9c52-4a04ecf42236",
    "_uuid": "4eea46f608e6f181ea5f0122992d72bc20079cd0"
   },
   "source": [
    "### **Now lets plot our intervals! Note that we chose a low-level forest**"
   ]
  },
  {
   "cell_type": "code",
   "execution_count": 35,
   "metadata": {
    "_cell_guid": "f34e1adb-6b4e-4e0b-9379-e9d9166c0534",
    "_uuid": "7131c248d4298351c2d53a79e56a8ee53be1669a"
   },
   "outputs": [
    {
     "data": {
      "text/plain": [
       "<matplotlib.collections.PathCollection at 0x7fc53394a6d8>"
      ]
     },
     "execution_count": 35,
     "metadata": {},
     "output_type": "execute_result"
    },
    {
     "data": {
      "image/png": "[encoded data removed]",
      "text/plain": [
       "<Figure size 720x432 with 1 Axes>"
      ]
     },
     "metadata": {},
     "output_type": "display_data"
    }
   ],
   "source": [
    "import matplotlib.pyplot as plt\n",
    "%matplotlib inline\n",
    "fig = plt.figure(figsize=(10,6))\n",
    "ax = fig.add_subplot(111)\n",
    "ax.scatter(tree_ci['x_sorted'], tree_ci['y_pred'])\n",
    "ax.plot(tree_ci['x_sorted'], tree_ci['y_actual'], c='green')\n",
    "ax.scatter(tree_ci['x_sorted'], tree_ci['y_05'], c='red', alpha='0.1')\n",
    "ax.scatter(tree_ci['x_sorted'], tree_ci['y_95'], c='red', alpha='0.1')\n"
   ]
  },
  {
   "cell_type": "markdown",
   "metadata": {
    "_cell_guid": "02f876df-f263-4020-9b5e-23ebf50a459f",
    "_uuid": "75841fd7f1f88c06cf82cf764059e86a138a2ed3"
   },
   "source": [
    "### **Now lets plot our intervals! Note that we chose a low-level forest**"
   ]
  },
  {
   "cell_type": "code",
   "execution_count": 36,
   "metadata": {
    "_cell_guid": "8c763b3f-8e4a-4141-a217-9fcd574bd155",
    "_uuid": "195ff8f602abcda657a6fc20c8f732d7f84c5ae5"
   },
   "outputs": [],
   "source": [
    "x_index_top20_widest = tree_ci.sort_values(by='y_ci_range', ascending=False)[:20]['x'].values"
   ]
  },
  {
   "cell_type": "code",
   "execution_count": 37,
   "metadata": {
    "_cell_guid": "339612b4-1d24-49e8-88de-f5c2030254cf",
    "_uuid": "b5a6b3982423f5d7e980dcd053e0968a9a6c7502"
   },
   "outputs": [
    {
     "data": {
      "text/html": [
       "<div>\n",
       "<style scoped>\n",
       "    .dataframe tbody tr th:only-of-type {\n",
       "        vertical-align: middle;\n",
       "    }\n",
       "\n",
       "    .dataframe tbody tr th {\n",
       "        vertical-align: top;\n",
       "    }\n",
       "\n",
       "    .dataframe thead th {\n",
       "        text-align: right;\n",
       "    }\n",
       "</style>\n",
       "<table border=\"1\" class=\"dataframe\">\n",
       "  <thead>\n",
       "    <tr style=\"text-align: right;\">\n",
       "      <th></th>\n",
       "      <th>YrSold</th>\n",
       "      <th>TotRmsAbvGrd</th>\n",
       "      <th>Neighborhood</th>\n",
       "    </tr>\n",
       "  </thead>\n",
       "  <tbody>\n",
       "    <tr>\n",
       "      <th>53</th>\n",
       "      <td>2006</td>\n",
       "      <td>5</td>\n",
       "      <td>Veenker</td>\n",
       "    </tr>\n",
       "    <tr>\n",
       "      <th>1</th>\n",
       "      <td>2007</td>\n",
       "      <td>6</td>\n",
       "      <td>Veenker</td>\n",
       "    </tr>\n",
       "    <tr>\n",
       "      <th>58</th>\n",
       "      <td>2006</td>\n",
       "      <td>10</td>\n",
       "      <td>StoneBr</td>\n",
       "    </tr>\n",
       "    <tr>\n",
       "      <th>93</th>\n",
       "      <td>2007</td>\n",
       "      <td>9</td>\n",
       "      <td>OldTown</td>\n",
       "    </tr>\n",
       "    <tr>\n",
       "      <th>63</th>\n",
       "      <td>2010</td>\n",
       "      <td>9</td>\n",
       "      <td>OldTown</td>\n",
       "    </tr>\n",
       "  </tbody>\n",
       "</table>\n",
       "</div>"
      ],
      "text/plain": [
       "    YrSold  TotRmsAbvGrd Neighborhood\n",
       "53    2006             5      Veenker\n",
       "1     2007             6      Veenker\n",
       "58    2006            10      StoneBr\n",
       "93    2007             9      OldTown\n",
       "63    2010             9      OldTown"
      ]
     },
     "execution_count": 37,
     "metadata": {},
     "output_type": "execute_result"
    }
   ],
   "source": [
    "worst_datapoints_w_features = X_train.iloc[x_index_top20_widest,:]\n",
    "worst_datapoints_w_features.head(5)"
   ]
  },
  {
   "cell_type": "markdown",
   "metadata": {
    "_cell_guid": "005c02b1-3d20-4fbb-a7ad-2eae45fe57be",
    "_uuid": "4a16fd8ba2de2a92ec8d1ab67c2503839f7c85e0"
   },
   "source": [
    "## ** Which specific attributes lead to more uncertainty?**\n",
    "\n",
    "<img src='https://hopewissel.files.wordpress.com/2016/04/6a00d8341ca4d953ef01b7c7c17599970b.jpg'  style='width:300px'/>"
   ]
  },
  {
   "cell_type": "code",
   "execution_count": 38,
   "metadata": {
    "_cell_guid": "d9083b7c-0ecf-4487-977a-7ca58ab1d3a3",
    "_uuid": "9292ef7b5af4dc3ff0a59d8724d725149976e6f7"
   },
   "outputs": [
    {
     "data": {
      "text/plain": [
       "<matplotlib.axes._subplots.AxesSubplot at 0x7fc535c7e6a0>"
      ]
     },
     "execution_count": 38,
     "metadata": {},
     "output_type": "execute_result"
    },
    {
     "data": {
      "image/png": "[encoded data removed]",
      "text/plain": [
       "<Figure size 432x288 with 1 Axes>"
      ]
     },
     "metadata": {},
     "output_type": "display_data"
    }
   ],
   "source": [
    "X_train.iloc[x_index_top20_widest,:]['YrSold'].value_counts().plot.barh()"
   ]
  },
  {
   "cell_type": "code",
   "execution_count": 39,
   "metadata": {
    "_cell_guid": "b76819e0-7dbf-4714-aff8-174e6ed58d4d",
    "_uuid": "e44b89c3f739bc4beadc17f3dd07ad62803dd7a4"
   },
   "outputs": [
    {
     "data": {
      "text/plain": [
       "<matplotlib.axes._subplots.AxesSubplot at 0x7fc531816c18>"
      ]
     },
     "execution_count": 39,
     "metadata": {},
     "output_type": "execute_result"
    },
    {
     "data": {
      "image/png": "[encoded data removed]",
      "text/plain": [
       "<Figure size 432x288 with 1 Axes>"
      ]
     },
     "metadata": {},
     "output_type": "display_data"
    }
   ],
   "source": [
    "X_train.iloc[x_index_top20_widest,:]['TotRmsAbvGrd'].value_counts().plot.barh()"
   ]
  },
  {
   "cell_type": "code",
   "execution_count": 40,
   "metadata": {
    "_cell_guid": "ee130d6e-67e9-403c-a0ed-ee192e4d1d80",
    "_uuid": "b50dfb2b7c0e33da2f6d043e066fb58a2738ddc8"
   },
   "outputs": [
    {
     "data": {
      "text/plain": [
       "<matplotlib.axes._subplots.AxesSubplot at 0x7fc53190b780>"
      ]
     },
     "execution_count": 40,
     "metadata": {},
     "output_type": "execute_result"
    },
    {
     "data": {
      "image/png": "[encoded data removed]",
      "text/plain": [
       "<Figure size 432x288 with 1 Axes>"
      ]
     },
     "metadata": {},
     "output_type": "display_data"
    }
   ],
   "source": [
    "X_train.iloc[x_index_top20_widest,:]['Neighborhood'].value_counts().plot.barh()"
   ]
  },
  {
   "cell_type": "markdown",
   "metadata": {
    "_cell_guid": "1d97a101-d415-48a3-98ca-9343b81c0d1d",
    "_uuid": "00f4fe9d8810efff388bd424174bb3679ca00c5c"
   },
   "source": [
    "<a id='section7'></a>\n",
    "# **7. Features: Not all of them are important**\n",
    "\n",
    "<img src='http://www.mirchu.net/wp-content/uploads/2014/09/iPhone-6-important-features.png' />"
   ]
  },
  {
   "cell_type": "markdown",
   "metadata": {
    "_cell_guid": "d4305156-b329-485f-9bce-d4596f083f7d",
    "_uuid": "4d72dd1884b5623af44e94eb6c767ce5b592e4ed"
   },
   "source": [
    "## **How do we determine what are the important features?**\n",
    "\n",
    "Let's prep and train the data as before"
   ]
  },
  {
   "cell_type": "code",
   "execution_count": 41,
   "metadata": {
    "_cell_guid": "0bdcc94b-c976-40c6-8c3d-2bf125f14332",
    "_uuid": "2ef2cf7024737f60f254eccd6f9d75bc48799940"
   },
   "outputs": [
    {
     "data": {
      "text/plain": [
       "RandomForestRegressor(bootstrap=True, criterion='mse', max_depth=None,\n",
       "           max_features='auto', max_leaf_nodes=None,\n",
       "           min_impurity_decrease=0.0, min_impurity_split=None,\n",
       "           min_samples_leaf=1, min_samples_split=2,\n",
       "           min_weight_fraction_leaf=0.0, n_estimators=10, n_jobs=1,\n",
       "           oob_score=False, random_state=None, verbose=0, warm_start=False)"
      ]
     },
     "execution_count": 41,
     "metadata": {},
     "output_type": "execute_result"
    }
   ],
   "source": [
    "n = 100\n",
    "indexes = [x for x in range(n)]\n",
    "sample_df = train_df.loc[indexes,['SalePrice','YrSold','TotRmsAbvGrd','Neighborhood']].copy()\n",
    "y_train = sample_df['SalePrice']\n",
    "X_train = sample_df[[x for x in sample_df.columns if x not in ['SalePrice']]]\n",
    "X_matrix = pd.get_dummies(X_train)\n",
    "rfr = RandomForestRegressor()\n",
    "rfr.fit(X_matrix,y_train)"
   ]
  },
  {
   "cell_type": "markdown",
   "metadata": {
    "_cell_guid": "e8635847-f094-4627-8150-ead2914226c4",
    "_uuid": "c27f4a04b1691fc6009430a8eda599530c761041"
   },
   "source": [
    "## **Define our Metric**"
   ]
  },
  {
   "cell_type": "code",
   "execution_count": 42,
   "metadata": {
    "_cell_guid": "c2f27e2d-9928-40f0-a751-87a987845ad6",
    "_uuid": "78e68439d638230cff4c8132d0069f36b74b2760"
   },
   "outputs": [
    {
     "data": {
      "text/plain": [
       "23763.081912145197"
      ]
     },
     "execution_count": 42,
     "metadata": {},
     "output_type": "execute_result"
    }
   ],
   "source": [
    "from sklearn.metrics import mean_squared_error\n",
    "def rmse(x1,x2):\n",
    "    return np.sqrt(mean_squared_error(x1,x2))\n",
    "\n",
    "y_pred = rfr.predict(X_matrix)\n",
    "orig_score = rmse(y_pred,y_train)\n",
    "orig_score"
   ]
  },
  {
   "cell_type": "markdown",
   "metadata": {
    "_cell_guid": "afdb014f-c691-457a-b5e5-4d511c89092f",
    "_uuid": "04727ec72415397f796dbd2464c0ff4e13804d26"
   },
   "source": [
    "## **Our Approach: Jumble one column and see how the prediction changes**\n",
    "\n",
    "<img src='https://lh3.ggpht.com/_oZ6h3pArsOdjbJZ1GCNTlpcvnsO9PU0wjpAuRuhxNBkI2CMxnMjDydm82-AiNqGEYqZ=w300' />"
   ]
  },
  {
   "cell_type": "code",
   "execution_count": 43,
   "metadata": {
    "_cell_guid": "cd98e7c3-0a67-487c-b825-9aeb210ff28a",
    "_uuid": "89d24ba1d08b1031da4727763b668d2f3418cbf2"
   },
   "outputs": [
    {
     "data": {
      "text/plain": [
       "7616.070382443864"
      ]
     },
     "execution_count": 43,
     "metadata": {},
     "output_type": "execute_result"
    }
   ],
   "source": [
    "def jumble_column(df, column_name):\n",
    "    idx = X_matrix.index\n",
    "    scrambled_idx = np.random.permutation(idx)\n",
    "    jumbled = df.copy()\n",
    "    values = jumbled[column_name].values\n",
    "    jumbled[column_name] = values[scrambled_idx]\n",
    "    return jumbled\n",
    "\n",
    "X_jumble_year = jumble_column(X_matrix,'YrSold')\n",
    "y_pred = rfr.predict(X_jumble_year)\n",
    "jumbled_year_score = rmse(y_pred,y_train)\n",
    "jumbled_year_score - orig_score"
   ]
  },
  {
   "cell_type": "code",
   "execution_count": 44,
   "metadata": {
    "_cell_guid": "ab08fee3-4f49-4fc8-a12e-bd59f8bca006",
    "_uuid": "fc3dcde7040cbf68c25573d608035df019fb369d"
   },
   "outputs": [
    {
     "data": {
      "text/plain": [
       "33907.4645849744"
      ]
     },
     "execution_count": 44,
     "metadata": {},
     "output_type": "execute_result"
    }
   ],
   "source": [
    "X_jumble_rm = jumble_column(X_matrix,'TotRmsAbvGrd')\n",
    "y_pred = rfr.predict(X_jumble_rm)\n",
    "jumbled_rm_score = rmse(y_pred,y_train)\n",
    "jumbled_rm_score - orig_score"
   ]
  },
  {
   "cell_type": "code",
   "execution_count": 45,
   "metadata": {
    "_cell_guid": "d76b657a-2c05-404f-bf0a-fde0d23927b0",
    "_uuid": "2c8077d2e7b689ca87c67031be46705e4b239b1b"
   },
   "outputs": [
    {
     "data": {
      "text/plain": [
       "48110.36702093952"
      ]
     },
     "execution_count": 45,
     "metadata": {},
     "output_type": "execute_result"
    }
   ],
   "source": [
    "X_jumble_ngh = jumble_column(X_train,'Neighborhood')\n",
    "X_jumble_ngh = pd.get_dummies(X_jumble_ngh)\n",
    "y_pred = rfr.predict(X_jumble_ngh)\n",
    "jumbled_ngh_score = rmse(y_pred,y_train)\n",
    "jumbled_ngh_score - orig_score"
   ]
  },
  {
   "cell_type": "markdown",
   "metadata": {
    "_cell_guid": "2c753ad7-f0a0-4f73-8031-fcc247b07c0a",
    "_uuid": "8bc11090540ae63962af9bf193611bcd91015293"
   },
   "source": [
    "## **Finally we see that Neighborhood matters the most, then number of rooms**"
   ]
  },
  {
   "cell_type": "code",
   "execution_count": 46,
   "metadata": {
    "_cell_guid": "6bce1efc-ff63-46dc-84db-b27dd24c7b3d",
    "_uuid": "642fc8fc602ea2e79398948608d58ffe2221bc78"
   },
   "outputs": [
    {
     "data": {
      "text/plain": [
       "<matplotlib.axes._subplots.AxesSubplot at 0x7fc531790748>"
      ]
     },
     "execution_count": 46,
     "metadata": {},
     "output_type": "execute_result"
    },
    {
     "data": {
      "image/png": "[encoded data removed]",
      "text/plain": [
       "<Figure size 432x288 with 1 Axes>"
      ]
     },
     "metadata": {},
     "output_type": "display_data"
    }
   ],
   "source": [
    "to_plot= pd.DataFrame({'headings' : ['Year Sold', 'Total Rooms', 'Neighborhood'],\n",
    "              'change_in_error':[jumbled_year_score-orig_score, jumbled_rm_score-orig_score, jumbled_ngh_score-orig_score]\n",
    "             })\n",
    "\n",
    "to_plot.plot.bar('headings','change_in_error')"
   ]
  },
  {
   "cell_type": "markdown",
   "metadata": {
    "_cell_guid": "b183fe6c-d450-4d04-8b87-16f6156f5a42",
    "_uuid": "b30f4904a80f6c6a67fcbfc44ed0efae3d52aa7b"
   },
   "source": [
    " ## **But what about specific neighborhoods?**\n",
    " \n",
    " <img src='https://s3.amazonaws.com/lowres.cartoonstock.com/social-issues-skid_row-muggings-criminal-bad_neighbourhood-bad_neighborhood-ksmn3365_low.jpg' />\n",
    " \n",
    "#### **Will jumble the one-hot encoded variables instead of the full categorical column**"
   ]
  },
  {
   "cell_type": "code",
   "execution_count": 47,
   "metadata": {
    "_cell_guid": "f49d96c9-b78b-4c36-a414-fc7fea0b30f9",
    "_uuid": "d78644de829b9f8e22f8b4e682c35e40af28f5fa"
   },
   "outputs": [
    {
     "data": {
      "text/plain": [
       "<matplotlib.axes._subplots.AxesSubplot at 0x7fc5316fb3c8>"
      ]
     },
     "execution_count": 47,
     "metadata": {},
     "output_type": "execute_result"
    },
    {
     "data": {
      "image/png": "[encoded data removed]",
      "text/plain": [
       "<Figure size 720x288 with 1 Axes>"
      ]
     },
     "metadata": {},
     "output_type": "display_data"
    }
   ],
   "source": [
    "def jumble_score(df, column_name, model):\n",
    "    orig_predict = model.predict(df)\n",
    "    orig_score = rmse(orig_predict,y_train)\n",
    "    tmp_jumble = jumble_column(df,column_name)\n",
    "    tmp_predict = model.predict(tmp_jumble) \n",
    "    return rmse(tmp_predict,y_train) - orig_score\n",
    "    \n",
    "scores =[]\n",
    "for col in X_matrix:\n",
    "    scores.append({'feature': col,\n",
    "                   'imp': jumble_score(X_matrix, col, rfr) \n",
    "                  })\n",
    "pd.DataFrame(scores).sort_values(by='imp', ascending=False).plot('feature','imp', figsize=(10,4))"
   ]
  },
  {
   "cell_type": "markdown",
   "metadata": {
    "_cell_guid": "46481a32-d73f-4b9f-866c-1eeb9acac065",
    "_uuid": "a7a6432cd472a372afcc397c1b6657226fca716a"
   },
   "source": [
    "### **Let's see what SKLearn has to say**"
   ]
  },
  {
   "cell_type": "code",
   "execution_count": 48,
   "metadata": {
    "_cell_guid": "239b485f-f43b-4ee4-9459-4b1474752075",
    "_uuid": "0b9f666dc846a0aa5c24e351ff8710a0de649576"
   },
   "outputs": [
    {
     "data": {
      "text/plain": [
       "<matplotlib.axes._subplots.AxesSubplot at 0x7fc5316cd0b8>"
      ]
     },
     "execution_count": 48,
     "metadata": {},
     "output_type": "execute_result"
    },
    {
     "data": {
      "image/png": "[encoded data removed]",
      "text/plain": [
       "<Figure size 720x360 with 1 Axes>"
      ]
     },
     "metadata": {},
     "output_type": "display_data"
    }
   ],
   "source": [
    "rfr = RandomForestRegressor(n_jobs=-1)\n",
    "rfr.fit(X_matrix,y_train)\n",
    "feat_imp = pd.DataFrame({\n",
    "    'features': X_matrix.columns,\n",
    "    'imp' :rfr.feature_importances_\n",
    "})\n",
    "feat_imp.sort_values(by='imp', inplace=True, ascending=False)\n",
    "feat_imp.plot('features','imp', figsize=(10,5))"
   ]
  },
  {
   "cell_type": "markdown",
   "metadata": {},
   "source": [
    "<a id='section8'></a>\n",
    "# **8. Reducing Features?**\n",
    "\n",
    "<img src='https://www.homedepot.com/hdus/en_US/DTCCOMNEW/fetch/DIY_Projects_and_Ideas/Outdoor/Guides/1440-desktop-pruning-hero.jpg' />\n",
    "Sometimes there's a lot of features. And you may suspect that some of them are the same. How can we trim down the feature selection?\n"
   ]
  },
  {
   "cell_type": "markdown",
   "metadata": {},
   "source": [
    "#### ** Let's train another baseline RF model to get some baseline importance** "
   ]
  },
  {
   "cell_type": "code",
   "execution_count": 49,
   "metadata": {},
   "outputs": [],
   "source": [
    "y_feat = train_df['SalePrice'].values\n",
    "features = [x  for x in train_df.columns.values if x not in ['SalePrice','GarageYrBlt','LotFrontage','MasVnrArea']]\n",
    "x_feat = train_df[features]\n",
    "x_feat_matrix = pd.get_dummies(x_feat)"
   ]
  },
  {
   "cell_type": "code",
   "execution_count": 50,
   "metadata": {},
   "outputs": [
    {
     "data": {
      "text/plain": [
       "RandomForestRegressor(bootstrap=True, criterion='mse', max_depth=None,\n",
       "           max_features=0.5, max_leaf_nodes=None,\n",
       "           min_impurity_decrease=0.0, min_impurity_split=None,\n",
       "           min_samples_leaf=3, min_samples_split=2,\n",
       "           min_weight_fraction_leaf=0.0, n_estimators=40, n_jobs=-1,\n",
       "           oob_score=True, random_state=None, verbose=0, warm_start=False)"
      ]
     },
     "execution_count": 50,
     "metadata": {},
     "output_type": "execute_result"
    }
   ],
   "source": [
    "m_rf = RandomForestRegressor(n_estimators=40, min_samples_leaf=3, max_features=0.5, n_jobs=-1, oob_score=True)\n",
    "m_rf.fit(x_feat_matrix,y_feat)"
   ]
  },
  {
   "cell_type": "code",
   "execution_count": 51,
   "metadata": {},
   "outputs": [
    {
     "data": {
      "text/plain": [
       "0.9586813574024605"
      ]
     },
     "execution_count": 51,
     "metadata": {},
     "output_type": "execute_result"
    }
   ],
   "source": [
    "m_rf.score(x_feat_matrix, y_feat)"
   ]
  },
  {
   "cell_type": "markdown",
   "metadata": {},
   "source": [
    "#### **From the RF object, we can pull feature importance and plot**"
   ]
  },
  {
   "cell_type": "code",
   "execution_count": 52,
   "metadata": {},
   "outputs": [
    {
     "data": {
      "text/plain": [
       "<matplotlib.axes._subplots.AxesSubplot at 0x7fc530de3978>"
      ]
     },
     "execution_count": 52,
     "metadata": {},
     "output_type": "execute_result"
    },
    {
     "data": {
      "image/png": "[encoded data removed]",
      "text/plain": [
       "<Figure size 720x432 with 1 Axes>"
      ]
     },
     "metadata": {},
     "output_type": "display_data"
    }
   ],
   "source": [
    "feature_imp = m_rf.feature_importances_\n",
    "feature_imp_df = pd.DataFrame({'cols':x_feat_matrix.columns.values, 'feat_imp':feature_imp})\n",
    "feature_imp_df.sort_values(by='feat_imp', ascending=False, inplace=True)\n",
    "feature_imp_df[:20].plot.barh(x='cols', y='feat_imp',figsize=(10,6))\n"
   ]
  },
  {
   "cell_type": "markdown",
   "metadata": {},
   "source": [
    "### **Keep top features, and re-run the model. Checking to see if the feature importance re-distributes at all**"
   ]
  },
  {
   "cell_type": "code",
   "execution_count": 53,
   "metadata": {},
   "outputs": [],
   "source": [
    "to_keep = feature_imp_df[feature_imp_df['feat_imp'] > 0.01].cols\n",
    "X_bestfeat_matrix = x_feat_matrix[to_keep]"
   ]
  },
  {
   "cell_type": "code",
   "execution_count": 54,
   "metadata": {},
   "outputs": [
    {
     "data": {
      "text/plain": [
       "RandomForestRegressor(bootstrap=True, criterion='mse', max_depth=None,\n",
       "           max_features=0.5, max_leaf_nodes=None,\n",
       "           min_impurity_decrease=0.0, min_impurity_split=None,\n",
       "           min_samples_leaf=3, min_samples_split=2,\n",
       "           min_weight_fraction_leaf=0.0, n_estimators=40, n_jobs=-1,\n",
       "           oob_score=True, random_state=None, verbose=0, warm_start=False)"
      ]
     },
     "execution_count": 54,
     "metadata": {},
     "output_type": "execute_result"
    }
   ],
   "source": [
    "m_best = RandomForestRegressor(n_estimators=40, min_samples_leaf=3, max_features=0.5, n_jobs=-1, oob_score=True)\n",
    "m_best.fit(X_bestfeat_matrix, y_feat)"
   ]
  },
  {
   "cell_type": "markdown",
   "metadata": {},
   "source": [
    "#### **We do note that the columns have changed as well as the order. That means some of the fields have absorbed some of the smaller importances into their score**"
   ]
  },
  {
   "cell_type": "code",
   "execution_count": 55,
   "metadata": {},
   "outputs": [
    {
     "data": {
      "text/plain": [
       "<matplotlib.axes._subplots.AxesSubplot at 0x7fc530513a58>"
      ]
     },
     "execution_count": 55,
     "metadata": {},
     "output_type": "execute_result"
    },
    {
     "data": {
      "image/png": "[encoded data removed]",
      "text/plain": [
       "<Figure size 720x432 with 1 Axes>"
      ]
     },
     "metadata": {},
     "output_type": "display_data"
    }
   ],
   "source": [
    "feature_imp = m_best.feature_importances_\n",
    "feature_imp_df = pd.DataFrame({'cols':X_bestfeat_matrix.columns.values, 'feat_imp':feature_imp})\n",
    "feature_imp_df.sort_values(by='feat_imp', ascending=False, inplace=True)\n",
    "feature_imp_df[:20].plot.barh(x='cols', y='feat_imp',figsize=(10,6))\n"
   ]
  },
  {
   "cell_type": "markdown",
   "metadata": {},
   "source": [
    "### **Another way to see the \"hierarchy\" of features : Dendrograms**\n",
    "\n",
    "Here's the process, first of all, the **spearman** coefficient is used to compare columns. Spearman's coefficient looks at **RANK** instead of actual distance. So if one dataset had an outlier 10x, it would not affect its RANK when looking at the order. So this `scipy` library will iteratively compare columns (features) to one another and compare if the ranks are very similiar. If they are, they will be grouped together on the same branch\n",
    "\n",
    "<img src = 'https://camo.githubusercontent.com/bc269d7bd72e9ba9e5af0957b2fbad1883aaf2bc/68747470733a2f2f75706c6f61642e77696b696d656469612e6f72672f77696b6970656469612f636f6d6d6f6e732f7468756d622f342f34652f53706561726d616e5f666967312e7376672f33303070782d53706561726d616e5f666967312e7376672e706e67'>"
   ]
  },
  {
   "cell_type": "code",
   "execution_count": 56,
   "metadata": {},
   "outputs": [],
   "source": [
    "import scipy\n",
    "from scipy.cluster import hierarchy as hc"
   ]
  },
  {
   "cell_type": "markdown",
   "metadata": {},
   "source": [
    "#### **More rooms = more Squarefoot, More Garage Area = Garage Cars, Total Basement SQFT = 1st Flr SQFT**\n",
    "\n",
    "So intepretting the chart below we some see of the columns are very closely related.\n",
    "- this affects feature importance, because it is split over two columns instead of 1\n",
    "- if we reduce the features and then recalculate, chances are the relative importance to \"overall qualit\" will increase\n",
    "- Is a good way to eliminate features post-modeling"
   ]
  },
  {
   "cell_type": "code",
   "execution_count": 57,
   "metadata": {},
   "outputs": [
    {
     "data": {
      "image/png": "[encoded data removed]",
      "text/plain": [
       "<Figure size 1152x720 with 1 Axes>"
      ]
     },
     "metadata": {},
     "output_type": "display_data"
    }
   ],
   "source": [
    "corr = np.round(scipy.stats.spearmanr(X_bestfeat_matrix).correlation, 3)\n",
    "corr_condensed = hc.distance.squareform(1-corr)\n",
    "z = hc.linkage(corr_condensed, method='average')\n",
    "fig = plt.figure(figsize=(16,10))\n",
    "dendrogram = hc.dendrogram(z, labels=X_bestfeat_matrix.columns, orientation='left', leaf_font_size=16)\n",
    "plt.show()"
   ]
  },
  {
   "cell_type": "markdown",
   "metadata": {
    "_cell_guid": "17f40c46-e347-4c15-81a5-237b69cb909e",
    "_uuid": "ac8a1ec45b74226690c92479543c30a5bdfdc5df"
   },
   "source": [
    "<a id='section10'></a>\n",
    "## **10. Can we Quantify the $ of the decisions with in a Tree?**\n",
    "\n",
    "<img src='https://www.payoff.com/lift/articles/wp-content/uploads/2015/02/how-to-make-smart-money-decisions-810x355.jpg' />\n",
    "\n",
    "#### ** how much does each factor contribute to the overall score? **"
   ]
  },
  {
   "cell_type": "code",
   "execution_count": 58,
   "metadata": {
    "_cell_guid": "0ea9f271-1622-4153-934a-3dd1f40175dc",
    "_uuid": "c51f3c329a5a869bdc06bd5c50bcb9ca27cb6597"
   },
   "outputs": [
    {
     "data": {
      "text/plain": [
       "array([221416.66666667])"
      ]
     },
     "execution_count": 58,
     "metadata": {},
     "output_type": "execute_result"
    }
   ],
   "source": [
    "rfr = RandomForestRegressor(n_jobs=-1, max_depth=5)\n",
    "rfr.fit(X_matrix,y_train)\n",
    "single_row = X_matrix.head(1)\n",
    "single_tree = rfr.estimators_[0]\n",
    "single_tree.predict(single_row)"
   ]
  },
  {
   "cell_type": "code",
   "execution_count": 59,
   "metadata": {
    "_cell_guid": "95fab28d-0b6f-4af9-814d-bc4a9ebc499d",
    "_uuid": "00d0a5c72df3cf31f5161cdb2d144a21f412fc9f"
   },
   "outputs": [
    {
     "data": {
      "image/svg+xml": [
       "<?xml version=\"1.0\" encoding=\"UTF-8\" standalone=\"no\"?>\n",
       "<!DOCTYPE svg PUBLIC \"-//W3C//DTD SVG 1.1//EN\"\n",
       " \"http://www.w3.org/Graphics/SVG/1.1/DTD/svg11.dtd\">\n",
       "<!-- Generated by graphviz version 2.38.0 (20140413.2041)\n",
       " -->\n",
       "<!-- Title: Tree Pages: 1 -->\n",
       "<svg width=\"720pt\" height=\"434pt\"\n",
       " viewBox=\"0.00 0.00 720.00 433.74\" xmlns=\"http://www.w3.org/2000/svg\" xmlns:xlink=\"http://www.w3.org/1999/xlink\">\n",
       "<g id=\"graph0\" class=\"graph\" transform=\"scale(0.544218 0.544218) rotate(0) translate(4 793)\">\n",
       "<title>Tree</title>\n",
       "<polygon fill=\"white\" stroke=\"none\" points=\"-4,4 -4,-793 1319,-793 1319,4 -4,4\"/>\n",
       "<!-- 0 -->\n",
       "<g id=\"node1\" class=\"node\"><title>0</title>\n",
       "<polygon fill=\"#e58139\" fill-opacity=\"0.250980\" stroke=\"black\" points=\"189.5,-308.5 10.5,-308.5 10.5,-240.5 189.5,-240.5 189.5,-308.5\"/>\n",
       "<text text-anchor=\"start\" x=\"18.5\" y=\"-293.3\" font-family=\"Times,serif\" font-size=\"14.00\">Neighborhood_NridgHt ≤ 0.0</text>\n",
       "<text text-anchor=\"start\" x=\"43\" y=\"-278.3\" font-family=\"Times,serif\" font-size=\"14.00\">mse = 5152133245.0</text>\n",
       "<text text-anchor=\"start\" x=\"64\" y=\"-263.3\" font-family=\"Times,serif\" font-size=\"14.00\">samples = 66</text>\n",
       "<text text-anchor=\"start\" x=\"53\" y=\"-248.3\" font-family=\"Times,serif\" font-size=\"14.00\">value = 179752.0</text>\n",
       "</g>\n",
       "<!-- 1 -->\n",
       "<g id=\"node2\" class=\"node\"><title>1</title>\n",
       "<polygon fill=\"#e58139\" fill-opacity=\"0.211765\" stroke=\"black\" points=\"432,-361.5 252,-361.5 252,-293.5 432,-293.5 432,-361.5\"/>\n",
       "<text text-anchor=\"start\" x=\"260\" y=\"-346.3\" font-family=\"Times,serif\" font-size=\"14.00\">Neighborhood_Veenker ≤ 0.0</text>\n",
       "<text text-anchor=\"start\" x=\"285\" y=\"-331.3\" font-family=\"Times,serif\" font-size=\"14.00\">mse = 4160785682.0</text>\n",
       "<text text-anchor=\"start\" x=\"306\" y=\"-316.3\" font-family=\"Times,serif\" font-size=\"14.00\">samples = 61</text>\n",
       "<text text-anchor=\"start\" x=\"295\" y=\"-301.3\" font-family=\"Times,serif\" font-size=\"14.00\">value = 169250.0</text>\n",
       "</g>\n",
       "<!-- 0&#45;&gt;1 -->\n",
       "<g id=\"edge1\" class=\"edge\"><title>0&#45;&gt;1</title>\n",
       "<path fill=\"none\" stroke=\"black\" d=\"M189.685,-294.085C206.652,-297.831 224.516,-301.777 241.788,-305.591\"/>\n",
       "<polygon fill=\"black\" stroke=\"black\" points=\"241.359,-309.08 251.878,-307.819 242.868,-302.245 241.359,-309.08\"/>\n",
       "<text text-anchor=\"middle\" x=\"230.804\" y=\"-317.569\" font-family=\"Times,serif\" font-size=\"14.00\">True</text>\n",
       "</g>\n",
       "<!-- 20 -->\n",
       "<g id=\"node21\" class=\"node\"><title>20</title>\n",
       "<polygon fill=\"#e58139\" fill-opacity=\"0.690196\" stroke=\"black\" points=\"403.5,-255.5 280.5,-255.5 280.5,-187.5 403.5,-187.5 403.5,-255.5\"/>\n",
       "<text text-anchor=\"start\" x=\"297\" y=\"-240.3\" font-family=\"Times,serif\" font-size=\"14.00\">YrSold ≤ 2008.0</text>\n",
       "<text text-anchor=\"start\" x=\"288.5\" y=\"-225.3\" font-family=\"Times,serif\" font-size=\"14.00\">mse = 698044375.0</text>\n",
       "<text text-anchor=\"start\" x=\"309.5\" y=\"-210.3\" font-family=\"Times,serif\" font-size=\"14.00\">samples = 5</text>\n",
       "<text text-anchor=\"start\" x=\"295\" y=\"-195.3\" font-family=\"Times,serif\" font-size=\"14.00\">value = 300525.0</text>\n",
       "</g>\n",
       "<!-- 0&#45;&gt;20 -->\n",
       "<g id=\"edge20\" class=\"edge\"><title>0&#45;&gt;20</title>\n",
       "<path fill=\"none\" stroke=\"black\" d=\"M189.685,-254.915C216.326,-249.032 245.182,-242.66 270.48,-237.073\"/>\n",
       "<polygon fill=\"black\" stroke=\"black\" points=\"271.343,-240.467 280.353,-234.893 269.834,-233.632 271.343,-240.467\"/>\n",
       "<text text-anchor=\"middle\" x=\"259.279\" y=\"-217.743\" font-family=\"Times,serif\" font-size=\"14.00\">False</text>\n",
       "</g>\n",
       "<!-- 2 -->\n",
       "<g id=\"node3\" class=\"node\"><title>2</title>\n",
       "<polygon fill=\"#e58139\" fill-opacity=\"0.184314\" stroke=\"black\" points=\"631,-494.5 491,-494.5 491,-426.5 631,-426.5 631,-494.5\"/>\n",
       "<text text-anchor=\"start\" x=\"499\" y=\"-479.3\" font-family=\"Times,serif\" font-size=\"14.00\">TotRmsAbvGrd ≤ 6.0</text>\n",
       "<text text-anchor=\"start\" x=\"504\" y=\"-464.3\" font-family=\"Times,serif\" font-size=\"14.00\">mse = 2705169323.0</text>\n",
       "<text text-anchor=\"start\" x=\"525\" y=\"-449.3\" font-family=\"Times,serif\" font-size=\"14.00\">samples = 59</text>\n",
       "<text text-anchor=\"start\" x=\"514\" y=\"-434.3\" font-family=\"Times,serif\" font-size=\"14.00\">value = 161755.0</text>\n",
       "</g>\n",
       "<!-- 1&#45;&gt;2 -->\n",
       "<g id=\"edge2\" class=\"edge\"><title>1&#45;&gt;2</title>\n",
       "<path fill=\"none\" stroke=\"black\" d=\"M398.601,-361.578C428.215,-379.729 464.79,-402.145 495.631,-421.048\"/>\n",
       "<polygon fill=\"black\" stroke=\"black\" points=\"493.812,-424.038 504.167,-426.28 497.47,-418.07 493.812,-424.038\"/>\n",
       "</g>\n",
       "<!-- 17 -->\n",
       "<g id=\"node18\" class=\"node\"><title>17</title>\n",
       "<polygon fill=\"#e58139\" fill-opacity=\"0.815686\" stroke=\"black\" points=\"626,-361.5 496,-361.5 496,-293.5 626,-293.5 626,-361.5\"/>\n",
       "<text text-anchor=\"start\" x=\"516\" y=\"-346.3\" font-family=\"Times,serif\" font-size=\"14.00\">YrSold ≤ 2006.0</text>\n",
       "<text text-anchor=\"start\" x=\"504\" y=\"-331.3\" font-family=\"Times,serif\" font-size=\"14.00\">mse = 7764796875.0</text>\n",
       "<text text-anchor=\"start\" x=\"528.5\" y=\"-316.3\" font-family=\"Times,serif\" font-size=\"14.00\">samples = 2</text>\n",
       "<text text-anchor=\"start\" x=\"514\" y=\"-301.3\" font-family=\"Times,serif\" font-size=\"14.00\">value = 334125.0</text>\n",
       "</g>\n",
       "<!-- 1&#45;&gt;17 -->\n",
       "<g id=\"edge17\" class=\"edge\"><title>1&#45;&gt;17</title>\n",
       "<path fill=\"none\" stroke=\"black\" d=\"M432.202,-327.5C449.82,-327.5 468.14,-327.5 485.222,-327.5\"/>\n",
       "<polygon fill=\"black\" stroke=\"black\" points=\"485.681,-331 495.681,-327.5 485.681,-324 485.681,-331\"/>\n",
       "</g>\n",
       "<!-- 3 -->\n",
       "<g id=\"node4\" class=\"node\"><title>3</title>\n",
       "<polygon fill=\"#e58139\" fill-opacity=\"0.125490\" stroke=\"black\" points=\"872,-600.5 696,-600.5 696,-532.5 872,-532.5 872,-600.5\"/>\n",
       "<text text-anchor=\"start\" x=\"704\" y=\"-585.3\" font-family=\"Times,serif\" font-size=\"14.00\">Neighborhood_Mitchel ≤ 0.0</text>\n",
       "<text text-anchor=\"start\" x=\"727\" y=\"-570.3\" font-family=\"Times,serif\" font-size=\"14.00\">mse = 1499025872.0</text>\n",
       "<text text-anchor=\"start\" x=\"748\" y=\"-555.3\" font-family=\"Times,serif\" font-size=\"14.00\">samples = 42</text>\n",
       "<text text-anchor=\"start\" x=\"737\" y=\"-540.3\" font-family=\"Times,serif\" font-size=\"14.00\">value = 145617.0</text>\n",
       "</g>\n",
       "<!-- 2&#45;&gt;3 -->\n",
       "<g id=\"edge3\" class=\"edge\"><title>2&#45;&gt;3</title>\n",
       "<path fill=\"none\" stroke=\"black\" d=\"M631.017,-493.603C653.713,-504.489 679.142,-516.686 702.609,-527.941\"/>\n",
       "<polygon fill=\"black\" stroke=\"black\" points=\"701.309,-531.2 711.839,-532.369 704.336,-524.888 701.309,-531.2\"/>\n",
       "</g>\n",
       "<!-- 10 -->\n",
       "<g id=\"node11\" class=\"node\"><title>10</title>\n",
       "<polygon fill=\"#e58139\" fill-opacity=\"0.301961\" stroke=\"black\" points=\"877,-494.5 691,-494.5 691,-426.5 877,-426.5 877,-494.5\"/>\n",
       "<text text-anchor=\"start\" x=\"699\" y=\"-479.3\" font-family=\"Times,serif\" font-size=\"14.00\">Neighborhood_OldTown ≤ 0.0</text>\n",
       "<text text-anchor=\"start\" x=\"727\" y=\"-464.3\" font-family=\"Times,serif\" font-size=\"14.00\">mse = 3551200975.0</text>\n",
       "<text text-anchor=\"start\" x=\"748\" y=\"-449.3\" font-family=\"Times,serif\" font-size=\"14.00\">samples = 17</text>\n",
       "<text text-anchor=\"start\" x=\"737\" y=\"-434.3\" font-family=\"Times,serif\" font-size=\"14.00\">value = 194588.0</text>\n",
       "</g>\n",
       "<!-- 2&#45;&gt;10 -->\n",
       "<g id=\"edge10\" class=\"edge\"><title>2&#45;&gt;10</title>\n",
       "<path fill=\"none\" stroke=\"black\" d=\"M631.017,-460.5C646.749,-460.5 663.793,-460.5 680.587,-460.5\"/>\n",
       "<polygon fill=\"black\" stroke=\"black\" points=\"680.998,-464 690.998,-460.5 680.998,-457 680.998,-464\"/>\n",
       "</g>\n",
       "<!-- 4 -->\n",
       "<g id=\"node5\" class=\"node\"><title>4</title>\n",
       "<polygon fill=\"#e58139\" fill-opacity=\"0.105882\" stroke=\"black\" points=\"1118.5,-725.5 939.5,-725.5 939.5,-657.5 1118.5,-657.5 1118.5,-725.5\"/>\n",
       "<text text-anchor=\"start\" x=\"947.5\" y=\"-710.3\" font-family=\"Times,serif\" font-size=\"14.00\">Neighborhood_Somerst ≤ 0.0</text>\n",
       "<text text-anchor=\"start\" x=\"972\" y=\"-695.3\" font-family=\"Times,serif\" font-size=\"14.00\">mse = 1114513430.0</text>\n",
       "<text text-anchor=\"start\" x=\"993\" y=\"-680.3\" font-family=\"Times,serif\" font-size=\"14.00\">samples = 39</text>\n",
       "<text text-anchor=\"start\" x=\"982\" y=\"-665.3\" font-family=\"Times,serif\" font-size=\"14.00\">value = 140544.0</text>\n",
       "</g>\n",
       "<!-- 3&#45;&gt;4 -->\n",
       "<g id=\"edge4\" class=\"edge\"><title>3&#45;&gt;4</title>\n",
       "<path fill=\"none\" stroke=\"black\" d=\"M851.401,-600.657C882.742,-616.779 920.289,-636.093 952.687,-652.759\"/>\n",
       "<polygon fill=\"black\" stroke=\"black\" points=\"951.186,-655.923 961.679,-657.384 954.388,-649.698 951.186,-655.923\"/>\n",
       "</g>\n",
       "<!-- 7 -->\n",
       "<g id=\"node8\" class=\"node\"><title>7</title>\n",
       "<polygon fill=\"#e58139\" fill-opacity=\"0.325490\" stroke=\"black\" points=\"1094,-600.5 964,-600.5 964,-532.5 1094,-532.5 1094,-600.5\"/>\n",
       "<text text-anchor=\"start\" x=\"984\" y=\"-585.3\" font-family=\"Times,serif\" font-size=\"14.00\">YrSold ≤ 2008.0</text>\n",
       "<text text-anchor=\"start\" x=\"972\" y=\"-570.3\" font-family=\"Times,serif\" font-size=\"14.00\">mse = 2371317743.0</text>\n",
       "<text text-anchor=\"start\" x=\"996.5\" y=\"-555.3\" font-family=\"Times,serif\" font-size=\"14.00\">samples = 3</text>\n",
       "<text text-anchor=\"start\" x=\"982\" y=\"-540.3\" font-family=\"Times,serif\" font-size=\"14.00\">value = 200412.0</text>\n",
       "</g>\n",
       "<!-- 3&#45;&gt;7 -->\n",
       "<g id=\"edge7\" class=\"edge\"><title>3&#45;&gt;7</title>\n",
       "<path fill=\"none\" stroke=\"black\" d=\"M872.042,-566.5C898.732,-566.5 927.841,-566.5 953.605,-566.5\"/>\n",
       "<polygon fill=\"black\" stroke=\"black\" points=\"953.675,-570 963.675,-566.5 953.675,-563 953.675,-570\"/>\n",
       "</g>\n",
       "<!-- 5 -->\n",
       "<g id=\"node6\" class=\"node\"><title>5</title>\n",
       "<polygon fill=\"#e58139\" fill-opacity=\"0.098039\" stroke=\"black\" points=\"1303.5,-789 1180.5,-789 1180.5,-736 1303.5,-736 1303.5,-789\"/>\n",
       "<text text-anchor=\"start\" x=\"1188.5\" y=\"-773.8\" font-family=\"Times,serif\" font-size=\"14.00\">mse = 925786752.0</text>\n",
       "<text text-anchor=\"start\" x=\"1206\" y=\"-758.8\" font-family=\"Times,serif\" font-size=\"14.00\">samples = 38</text>\n",
       "<text text-anchor=\"start\" x=\"1195\" y=\"-743.8\" font-family=\"Times,serif\" font-size=\"14.00\">value = 138573.0</text>\n",
       "</g>\n",
       "<!-- 4&#45;&gt;5 -->\n",
       "<g id=\"edge5\" class=\"edge\"><title>4&#45;&gt;5</title>\n",
       "<path fill=\"none\" stroke=\"black\" d=\"M1118.57,-721.302C1136.01,-727.171 1154.08,-733.253 1170.82,-738.884\"/>\n",
       "<polygon fill=\"black\" stroke=\"black\" points=\"1169.91,-742.27 1180.5,-742.142 1172.14,-735.636 1169.91,-742.27\"/>\n",
       "</g>\n",
       "<!-- 6 -->\n",
       "<g id=\"node7\" class=\"node\"><title>6</title>\n",
       "<polygon fill=\"#e58139\" fill-opacity=\"0.486275\" stroke=\"black\" points=\"1297,-718 1187,-718 1187,-665 1297,-665 1297,-718\"/>\n",
       "<text text-anchor=\"start\" x=\"1215.5\" y=\"-702.8\" font-family=\"Times,serif\" font-size=\"14.00\">mse = 0.0</text>\n",
       "<text text-anchor=\"start\" x=\"1209.5\" y=\"-687.8\" font-family=\"Times,serif\" font-size=\"14.00\">samples = 1</text>\n",
       "<text text-anchor=\"start\" x=\"1195\" y=\"-672.8\" font-family=\"Times,serif\" font-size=\"14.00\">value = 245000.0</text>\n",
       "</g>\n",
       "<!-- 4&#45;&gt;6 -->\n",
       "<g id=\"edge6\" class=\"edge\"><title>4&#45;&gt;6</title>\n",
       "<path fill=\"none\" stroke=\"black\" d=\"M1118.57,-691.5C1138.08,-691.5 1158.38,-691.5 1176.72,-691.5\"/>\n",
       "<polygon fill=\"black\" stroke=\"black\" points=\"1176.97,-695 1186.97,-691.5 1176.97,-688 1176.97,-695\"/>\n",
       "</g>\n",
       "<!-- 8 -->\n",
       "<g id=\"node9\" class=\"node\"><title>8</title>\n",
       "<polygon fill=\"#e58139\" fill-opacity=\"0.109804\" stroke=\"black\" points=\"1303.5,-647 1180.5,-647 1180.5,-594 1303.5,-594 1303.5,-647\"/>\n",
       "<text text-anchor=\"start\" x=\"1188.5\" y=\"-631.8\" font-family=\"Times,serif\" font-size=\"14.00\">mse = 144000000.0</text>\n",
       "<text text-anchor=\"start\" x=\"1209.5\" y=\"-616.8\" font-family=\"Times,serif\" font-size=\"14.00\">samples = 2</text>\n",
       "<text text-anchor=\"start\" x=\"1195\" y=\"-601.8\" font-family=\"Times,serif\" font-size=\"14.00\">value = 141500.0</text>\n",
       "</g>\n",
       "<!-- 7&#45;&gt;8 -->\n",
       "<g id=\"edge8\" class=\"edge\"><title>7&#45;&gt;8</title>\n",
       "<path fill=\"none\" stroke=\"black\" d=\"M1094.17,-582.922C1118.25,-589.085 1145.75,-596.122 1170.38,-602.427\"/>\n",
       "<polygon fill=\"black\" stroke=\"black\" points=\"1169.83,-605.899 1180.39,-604.988 1171.57,-599.117 1169.83,-605.899\"/>\n",
       "</g>\n",
       "<!-- 9 -->\n",
       "<g id=\"node10\" class=\"node\"><title>9</title>\n",
       "<polygon fill=\"#e58139\" fill-opacity=\"0.466667\" stroke=\"black\" points=\"1297,-576 1187,-576 1187,-523 1297,-523 1297,-576\"/>\n",
       "<text text-anchor=\"start\" x=\"1215.5\" y=\"-560.8\" font-family=\"Times,serif\" font-size=\"14.00\">mse = 0.0</text>\n",
       "<text text-anchor=\"start\" x=\"1209.5\" y=\"-545.8\" font-family=\"Times,serif\" font-size=\"14.00\">samples = 1</text>\n",
       "<text text-anchor=\"start\" x=\"1195\" y=\"-530.8\" font-family=\"Times,serif\" font-size=\"14.00\">value = 239686.0</text>\n",
       "</g>\n",
       "<!-- 7&#45;&gt;9 -->\n",
       "<g id=\"edge9\" class=\"edge\"><title>7&#45;&gt;9</title>\n",
       "<path fill=\"none\" stroke=\"black\" d=\"M1094.17,-561.33C1120.28,-559.226 1150.41,-556.798 1176.56,-554.692\"/>\n",
       "<polygon fill=\"black\" stroke=\"black\" points=\"1177.05,-558.163 1186.74,-553.872 1176.49,-551.186 1177.05,-558.163\"/>\n",
       "</g>\n",
       "<!-- 11 -->\n",
       "<g id=\"node12\" class=\"node\"><title>11</title>\n",
       "<polygon fill=\"#e58139\" fill-opacity=\"0.376471\" stroke=\"black\" points=\"1115.5,-494.5 942.5,-494.5 942.5,-426.5 1115.5,-426.5 1115.5,-494.5\"/>\n",
       "<text text-anchor=\"start\" x=\"950.5\" y=\"-479.3\" font-family=\"Times,serif\" font-size=\"14.00\">Neighborhood_Sawyer ≤ 0.0</text>\n",
       "<text text-anchor=\"start\" x=\"972\" y=\"-464.3\" font-family=\"Times,serif\" font-size=\"14.00\">mse = 2611054698.0</text>\n",
       "<text text-anchor=\"start\" x=\"993\" y=\"-449.3\" font-family=\"Times,serif\" font-size=\"14.00\">samples = 13</text>\n",
       "<text text-anchor=\"start\" x=\"982\" y=\"-434.3\" font-family=\"Times,serif\" font-size=\"14.00\">value = 214033.0</text>\n",
       "</g>\n",
       "<!-- 10&#45;&gt;11 -->\n",
       "<g id=\"edge11\" class=\"edge\"><title>10&#45;&gt;11</title>\n",
       "<path fill=\"none\" stroke=\"black\" d=\"M877.214,-460.5C895.143,-460.5 913.977,-460.5 932.024,-460.5\"/>\n",
       "<polygon fill=\"black\" stroke=\"black\" points=\"932.251,-464 942.251,-460.5 932.25,-457 932.251,-464\"/>\n",
       "</g>\n",
       "<!-- 14 -->\n",
       "<g id=\"node15\" class=\"node\"><title>14</title>\n",
       "<polygon fill=\"#e58139\" fill-opacity=\"0.031373\" stroke=\"black\" points=\"1099,-370.5 959,-370.5 959,-302.5 1099,-302.5 1099,-370.5\"/>\n",
       "<text text-anchor=\"start\" x=\"967\" y=\"-355.3\" font-family=\"Times,serif\" font-size=\"14.00\">TotRmsAbvGrd ≤ 8.0</text>\n",
       "<text text-anchor=\"start\" x=\"975.5\" y=\"-340.3\" font-family=\"Times,serif\" font-size=\"14.00\">mse = 149825833.0</text>\n",
       "<text text-anchor=\"start\" x=\"996.5\" y=\"-325.3\" font-family=\"Times,serif\" font-size=\"14.00\">samples = 4</text>\n",
       "<text text-anchor=\"start\" x=\"982\" y=\"-310.3\" font-family=\"Times,serif\" font-size=\"14.00\">value = 120050.0</text>\n",
       "</g>\n",
       "<!-- 10&#45;&gt;14 -->\n",
       "<g id=\"edge14\" class=\"edge\"><title>10&#45;&gt;14</title>\n",
       "<path fill=\"none\" stroke=\"black\" d=\"M856.959,-426.435C863.751,-423.114 870.517,-419.766 877,-416.5 902.957,-403.424 931.161,-388.64 956.091,-375.37\"/>\n",
       "<polygon fill=\"black\" stroke=\"black\" points=\"957.941,-378.35 965.118,-370.556 954.647,-372.174 957.941,-378.35\"/>\n",
       "</g>\n",
       "<!-- 12 -->\n",
       "<g id=\"node13\" class=\"node\"><title>12</title>\n",
       "<polygon fill=\"#e58139\" fill-opacity=\"0.400000\" stroke=\"black\" points=\"1307,-505 1177,-505 1177,-452 1307,-452 1307,-505\"/>\n",
       "<text text-anchor=\"start\" x=\"1185\" y=\"-489.8\" font-family=\"Times,serif\" font-size=\"14.00\">mse = 2232696984.0</text>\n",
       "<text text-anchor=\"start\" x=\"1206\" y=\"-474.8\" font-family=\"Times,serif\" font-size=\"14.00\">samples = 12</text>\n",
       "<text text-anchor=\"start\" x=\"1195\" y=\"-459.8\" font-family=\"Times,serif\" font-size=\"14.00\">value = 221417.0</text>\n",
       "</g>\n",
       "<!-- 11&#45;&gt;12 -->\n",
       "<g id=\"edge12\" class=\"edge\"><title>11&#45;&gt;12</title>\n",
       "<path fill=\"none\" stroke=\"black\" d=\"M1115.52,-467.795C1132.45,-469.24 1150.1,-470.745 1166.63,-472.155\"/>\n",
       "<polygon fill=\"black\" stroke=\"black\" points=\"1166.49,-475.657 1176.75,-473.019 1167.09,-468.682 1166.49,-475.657\"/>\n",
       "</g>\n",
       "<!-- 13 -->\n",
       "<g id=\"node14\" class=\"node\"><title>13</title>\n",
       "<polygon fill=\"#e58139\" fill-opacity=\"0.090196\" stroke=\"black\" points=\"1297,-434 1187,-434 1187,-381 1297,-381 1297,-434\"/>\n",
       "<text text-anchor=\"start\" x=\"1215.5\" y=\"-418.8\" font-family=\"Times,serif\" font-size=\"14.00\">mse = 0.0</text>\n",
       "<text text-anchor=\"start\" x=\"1209.5\" y=\"-403.8\" font-family=\"Times,serif\" font-size=\"14.00\">samples = 1</text>\n",
       "<text text-anchor=\"start\" x=\"1195\" y=\"-388.8\" font-family=\"Times,serif\" font-size=\"14.00\">value = 136500.0</text>\n",
       "</g>\n",
       "<!-- 11&#45;&gt;13 -->\n",
       "<g id=\"edge13\" class=\"edge\"><title>11&#45;&gt;13</title>\n",
       "<path fill=\"none\" stroke=\"black\" d=\"M1115.52,-439.019C1136.04,-433.863 1157.62,-428.445 1176.97,-423.582\"/>\n",
       "<polygon fill=\"black\" stroke=\"black\" points=\"1178.03,-426.925 1186.88,-421.095 1176.33,-420.136 1178.03,-426.925\"/>\n",
       "</g>\n",
       "<!-- 15 -->\n",
       "<g id=\"node16\" class=\"node\"><title>15</title>\n",
       "<polygon fill=\"none\" stroke=\"black\" points=\"1297,-363 1187,-363 1187,-310 1297,-310 1297,-363\"/>\n",
       "<text text-anchor=\"start\" x=\"1195\" y=\"-347.8\" font-family=\"Times,serif\" font-size=\"14.00\">mse = 5880000.0</text>\n",
       "<text text-anchor=\"start\" x=\"1209.5\" y=\"-332.8\" font-family=\"Times,serif\" font-size=\"14.00\">samples = 2</text>\n",
       "<text text-anchor=\"start\" x=\"1195\" y=\"-317.8\" font-family=\"Times,serif\" font-size=\"14.00\">value = 111600.0</text>\n",
       "</g>\n",
       "<!-- 14&#45;&gt;15 -->\n",
       "<g id=\"edge15\" class=\"edge\"><title>14&#45;&gt;15</title>\n",
       "<path fill=\"none\" stroke=\"black\" d=\"M1099.09,-336.5C1124.01,-336.5 1152.03,-336.5 1176.54,-336.5\"/>\n",
       "<polygon fill=\"black\" stroke=\"black\" points=\"1176.81,-340 1186.81,-336.5 1176.81,-333 1176.81,-340\"/>\n",
       "</g>\n",
       "<!-- 16 -->\n",
       "<g id=\"node17\" class=\"node\"><title>16</title>\n",
       "<polygon fill=\"#e58139\" fill-opacity=\"0.094118\" stroke=\"black\" points=\"1297,-292 1187,-292 1187,-239 1297,-239 1297,-292\"/>\n",
       "<text text-anchor=\"start\" x=\"1195\" y=\"-276.8\" font-family=\"Times,serif\" font-size=\"14.00\">mse = 9302500.0</text>\n",
       "<text text-anchor=\"start\" x=\"1209.5\" y=\"-261.8\" font-family=\"Times,serif\" font-size=\"14.00\">samples = 2</text>\n",
       "<text text-anchor=\"start\" x=\"1195\" y=\"-246.8\" font-family=\"Times,serif\" font-size=\"14.00\">value = 136950.0</text>\n",
       "</g>\n",
       "<!-- 14&#45;&gt;16 -->\n",
       "<g id=\"edge16\" class=\"edge\"><title>14&#45;&gt;16</title>\n",
       "<path fill=\"none\" stroke=\"black\" d=\"M1099.09,-313.252C1124.24,-304.79 1152.53,-295.27 1177.2,-286.97\"/>\n",
       "<polygon fill=\"black\" stroke=\"black\" points=\"1178.45,-290.24 1186.81,-283.734 1176.22,-283.606 1178.45,-290.24\"/>\n",
       "</g>\n",
       "<!-- 18 -->\n",
       "<g id=\"node19\" class=\"node\"><title>18</title>\n",
       "<polygon fill=\"#e58139\" stroke=\"black\" points=\"839,-408 729,-408 729,-355 839,-355 839,-408\"/>\n",
       "<text text-anchor=\"start\" x=\"757.5\" y=\"-392.8\" font-family=\"Times,serif\" font-size=\"14.00\">mse = 0.0</text>\n",
       "<text text-anchor=\"start\" x=\"751.5\" y=\"-377.8\" font-family=\"Times,serif\" font-size=\"14.00\">samples = 1</text>\n",
       "<text text-anchor=\"start\" x=\"737\" y=\"-362.8\" font-family=\"Times,serif\" font-size=\"14.00\">value = 385000.0</text>\n",
       "</g>\n",
       "<!-- 17&#45;&gt;18 -->\n",
       "<g id=\"edge18\" class=\"edge\"><title>17&#45;&gt;18</title>\n",
       "<path fill=\"none\" stroke=\"black\" d=\"M626.219,-343.192C655.29,-350.295 689.576,-358.672 718.661,-365.779\"/>\n",
       "<polygon fill=\"black\" stroke=\"black\" points=\"718.17,-369.262 728.715,-368.236 719.831,-362.462 718.17,-369.262\"/>\n",
       "</g>\n",
       "<!-- 19 -->\n",
       "<g id=\"node20\" class=\"node\"><title>19</title>\n",
       "<polygon fill=\"#e58139\" fill-opacity=\"0.254902\" stroke=\"black\" points=\"839,-337 729,-337 729,-284 839,-284 839,-337\"/>\n",
       "<text text-anchor=\"start\" x=\"757.5\" y=\"-321.8\" font-family=\"Times,serif\" font-size=\"14.00\">mse = 0.0</text>\n",
       "<text text-anchor=\"start\" x=\"751.5\" y=\"-306.8\" font-family=\"Times,serif\" font-size=\"14.00\">samples = 1</text>\n",
       "<text text-anchor=\"start\" x=\"737\" y=\"-291.8\" font-family=\"Times,serif\" font-size=\"14.00\">value = 181500.0</text>\n",
       "</g>\n",
       "<!-- 17&#45;&gt;19 -->\n",
       "<g id=\"edge19\" class=\"edge\"><title>17&#45;&gt;19</title>\n",
       "<path fill=\"none\" stroke=\"black\" d=\"M626.219,-322.56C655.29,-320.324 689.576,-317.686 718.661,-315.449\"/>\n",
       "<polygon fill=\"black\" stroke=\"black\" points=\"719.012,-318.933 728.715,-314.676 718.476,-311.953 719.012,-318.933\"/>\n",
       "</g>\n",
       "<!-- 21 -->\n",
       "<g id=\"node22\" class=\"node\"><title>21</title>\n",
       "<polygon fill=\"#e58139\" fill-opacity=\"0.752941\" stroke=\"black\" points=\"619,-255.5 503,-255.5 503,-187.5 619,-187.5 619,-255.5\"/>\n",
       "<text text-anchor=\"start\" x=\"516\" y=\"-240.3\" font-family=\"Times,serif\" font-size=\"14.00\">YrSold ≤ 2006.0</text>\n",
       "<text text-anchor=\"start\" x=\"511\" y=\"-225.3\" font-family=\"Times,serif\" font-size=\"14.00\">mse = 53141600.0</text>\n",
       "<text text-anchor=\"start\" x=\"528.5\" y=\"-210.3\" font-family=\"Times,serif\" font-size=\"14.00\">samples = 3</text>\n",
       "<text text-anchor=\"start\" x=\"514\" y=\"-195.3\" font-family=\"Times,serif\" font-size=\"14.00\">value = 317120.0</text>\n",
       "</g>\n",
       "<!-- 20&#45;&gt;21 -->\n",
       "<g id=\"edge21\" class=\"edge\"><title>20&#45;&gt;21</title>\n",
       "<path fill=\"none\" stroke=\"black\" d=\"M403.735,-221.5C431.318,-221.5 464.045,-221.5 492.405,-221.5\"/>\n",
       "<polygon fill=\"black\" stroke=\"black\" points=\"492.638,-225 502.638,-221.5 492.638,-218 492.638,-225\"/>\n",
       "</g>\n",
       "<!-- 24 -->\n",
       "<g id=\"node25\" class=\"node\"><title>24</title>\n",
       "<polygon fill=\"#e58139\" fill-opacity=\"0.588235\" stroke=\"black\" points=\"622.5,-131.5 499.5,-131.5 499.5,-63.5 622.5,-63.5 622.5,-131.5\"/>\n",
       "<text text-anchor=\"start\" x=\"516\" y=\"-116.3\" font-family=\"Times,serif\" font-size=\"14.00\">YrSold ≤ 2010.0</text>\n",
       "<text text-anchor=\"start\" x=\"507.5\" y=\"-101.3\" font-family=\"Times,serif\" font-size=\"14.00\">mse = 548908889.0</text>\n",
       "<text text-anchor=\"start\" x=\"528.5\" y=\"-86.3\" font-family=\"Times,serif\" font-size=\"14.00\">samples = 2</text>\n",
       "<text text-anchor=\"start\" x=\"514\" y=\"-71.3\" font-family=\"Times,serif\" font-size=\"14.00\">value = 272867.0</text>\n",
       "</g>\n",
       "<!-- 20&#45;&gt;24 -->\n",
       "<g id=\"edge24\" class=\"edge\"><title>20&#45;&gt;24</title>\n",
       "<path fill=\"none\" stroke=\"black\" d=\"M402.583,-187.452C430.1,-171.728 462.927,-152.971 491.465,-136.663\"/>\n",
       "<polygon fill=\"black\" stroke=\"black\" points=\"493.227,-139.687 500.173,-131.687 489.754,-133.609 493.227,-139.687\"/>\n",
       "</g>\n",
       "<!-- 22 -->\n",
       "<g id=\"node23\" class=\"node\"><title>22</title>\n",
       "<polygon fill=\"#e58139\" fill-opacity=\"0.752941\" stroke=\"black\" points=\"842,-266 726,-266 726,-213 842,-213 842,-266\"/>\n",
       "<text text-anchor=\"start\" x=\"734\" y=\"-250.8\" font-family=\"Times,serif\" font-size=\"14.00\">mse = 66422500.0</text>\n",
       "<text text-anchor=\"start\" x=\"751.5\" y=\"-235.8\" font-family=\"Times,serif\" font-size=\"14.00\">samples = 2</text>\n",
       "<text text-anchor=\"start\" x=\"737\" y=\"-220.8\" font-family=\"Times,serif\" font-size=\"14.00\">value = 317150.0</text>\n",
       "</g>\n",
       "<!-- 21&#45;&gt;22 -->\n",
       "<g id=\"edge22\" class=\"edge\"><title>21&#45;&gt;22</title>\n",
       "<path fill=\"none\" stroke=\"black\" d=\"M619.2,-226.159C648.616,-228.555 684.658,-231.49 715.437,-233.997\"/>\n",
       "<polygon fill=\"black\" stroke=\"black\" points=\"715.405,-237.506 725.656,-234.829 715.973,-230.529 715.405,-237.506\"/>\n",
       "</g>\n",
       "<!-- 23 -->\n",
       "<g id=\"node24\" class=\"node\"><title>23</title>\n",
       "<polygon fill=\"#e58139\" fill-opacity=\"0.752941\" stroke=\"black\" points=\"839,-195 729,-195 729,-142 839,-142 839,-195\"/>\n",
       "<text text-anchor=\"start\" x=\"757.5\" y=\"-179.8\" font-family=\"Times,serif\" font-size=\"14.00\">mse = 0.0</text>\n",
       "<text text-anchor=\"start\" x=\"751.5\" y=\"-164.8\" font-family=\"Times,serif\" font-size=\"14.00\">samples = 1</text>\n",
       "<text text-anchor=\"start\" x=\"737\" y=\"-149.8\" font-family=\"Times,serif\" font-size=\"14.00\">value = 317000.0</text>\n",
       "</g>\n",
       "<!-- 21&#45;&gt;23 -->\n",
       "<g id=\"edge23\" class=\"edge\"><title>21&#45;&gt;23</title>\n",
       "<path fill=\"none\" stroke=\"black\" d=\"M619.2,-207.782C649.667,-200.476 687.242,-191.465 718.715,-183.917\"/>\n",
       "<polygon fill=\"black\" stroke=\"black\" points=\"719.795,-187.257 728.703,-181.521 718.162,-180.45 719.795,-187.257\"/>\n",
       "</g>\n",
       "<!-- 25 -->\n",
       "<g id=\"node26\" class=\"node\"><title>25</title>\n",
       "<polygon fill=\"#e58139\" fill-opacity=\"0.529412\" stroke=\"black\" points=\"839,-124 729,-124 729,-71 839,-71 839,-124\"/>\n",
       "<text text-anchor=\"start\" x=\"757.5\" y=\"-108.8\" font-family=\"Times,serif\" font-size=\"14.00\">mse = 0.0</text>\n",
       "<text text-anchor=\"start\" x=\"751.5\" y=\"-93.8\" font-family=\"Times,serif\" font-size=\"14.00\">samples = 1</text>\n",
       "<text text-anchor=\"start\" x=\"737\" y=\"-78.8\" font-family=\"Times,serif\" font-size=\"14.00\">value = 256300.0</text>\n",
       "</g>\n",
       "<!-- 24&#45;&gt;25 -->\n",
       "<g id=\"edge25\" class=\"edge\"><title>24&#45;&gt;25</title>\n",
       "<path fill=\"none\" stroke=\"black\" d=\"M622.682,-97.5C652.531,-97.5 688.514,-97.5 718.821,-97.5\"/>\n",
       "<polygon fill=\"black\" stroke=\"black\" points=\"718.864,-101 728.864,-97.5 718.864,-94.0001 718.864,-101\"/>\n",
       "</g>\n",
       "<!-- 26 -->\n",
       "<g id=\"node27\" class=\"node\"><title>26</title>\n",
       "<polygon fill=\"#e58139\" fill-opacity=\"0.709804\" stroke=\"black\" points=\"839,-53 729,-53 729,-3.55271e-15 839,-3.55271e-15 839,-53\"/>\n",
       "<text text-anchor=\"start\" x=\"757.5\" y=\"-37.8\" font-family=\"Times,serif\" font-size=\"14.00\">mse = 0.0</text>\n",
       "<text text-anchor=\"start\" x=\"751.5\" y=\"-22.8\" font-family=\"Times,serif\" font-size=\"14.00\">samples = 1</text>\n",
       "<text text-anchor=\"start\" x=\"737\" y=\"-7.8\" font-family=\"Times,serif\" font-size=\"14.00\">value = 306000.0</text>\n",
       "</g>\n",
       "<!-- 24&#45;&gt;26 -->\n",
       "<g id=\"edge26\" class=\"edge\"><title>24&#45;&gt;26</title>\n",
       "<path fill=\"none\" stroke=\"black\" d=\"M622.682,-78.005C652.661,-68.3738 688.827,-56.7546 719.216,-46.9917\"/>\n",
       "<polygon fill=\"black\" stroke=\"black\" points=\"720.414,-50.283 728.864,-43.892 718.273,-43.6185 720.414,-50.283\"/>\n",
       "</g>\n",
       "</g>\n",
       "</svg>\n"
      ],
      "text/plain": [
       "<graphviz.files.Source at 0x7fc530d56438>"
      ]
     },
     "metadata": {},
     "output_type": "display_data"
    }
   ],
   "source": [
    "draw_tree(single_tree, X_matrix)"
   ]
  },
  {
   "cell_type": "code",
   "execution_count": 60,
   "metadata": {
    "_cell_guid": "c9f95980-612b-4283-901f-3b2229b1d812",
    "_kg_hide-input": true,
    "_kg_hide-output": true,
    "_uuid": "3b2777cc51b198b7c5ea3fb254bc28d076a6b405"
   },
   "outputs": [],
   "source": [
    "import numpy as np\n",
    "import sklearn\n",
    "\n",
    "from sklearn.ensemble.forest import ForestClassifier, ForestRegressor\n",
    "from sklearn.tree import DecisionTreeRegressor, DecisionTreeClassifier, _tree\n",
    "from distutils.version import LooseVersion\n",
    "if LooseVersion(sklearn.__version__) < LooseVersion(\"0.17\"):\n",
    "    raise Exception(\"treeinterpreter requires scikit-learn 0.17 or later\")\n",
    "\n",
    "\n",
    "def _get_tree_paths(tree, node_id, depth=0):\n",
    "    \"\"\"\n",
    "    Returns all paths through the tree as list of node_ids\n",
    "    \"\"\"\n",
    "    if node_id == _tree.TREE_LEAF:\n",
    "        raise ValueError(\"Invalid node_id %s\" % _tree.TREE_LEAF)\n",
    "\n",
    "    left_child = tree.children_left[node_id]\n",
    "    right_child = tree.children_right[node_id]\n",
    "\n",
    "    if left_child != _tree.TREE_LEAF:\n",
    "        left_paths = _get_tree_paths(tree, left_child, depth=depth + 1)\n",
    "        right_paths = _get_tree_paths(tree, right_child, depth=depth + 1)\n",
    "\n",
    "        for path in left_paths:\n",
    "            path.append(node_id)\n",
    "        for path in right_paths:\n",
    "            path.append(node_id)\n",
    "        paths = left_paths + right_paths\n",
    "    else:\n",
    "        paths = [[node_id]]\n",
    "    return paths\n",
    "\n",
    "\n",
    "def _predict_tree(model, X, joint_contribution=False):\n",
    "    \"\"\"\n",
    "    For a given DecisionTreeRegressor, DecisionTreeClassifier,\n",
    "    ExtraTreeRegressor, or ExtraTreeClassifier,\n",
    "    returns a triple of [prediction, bias and feature_contributions], such\n",
    "    that prediction ≈ bias + feature_contributions.\n",
    "    \"\"\"\n",
    "    leaves = model.apply(X)\n",
    "    paths = _get_tree_paths(model.tree_, 0)\n",
    "\n",
    "    for path in paths:\n",
    "        path.reverse()\n",
    "\n",
    "    leaf_to_path = {}\n",
    "    #map leaves to paths\n",
    "    for path in paths:\n",
    "        leaf_to_path[path[-1]] = path         \n",
    "    \n",
    "    # remove the single-dimensional inner arrays\n",
    "    values = model.tree_.value.squeeze()\n",
    "    # reshape if squeezed into a single float\n",
    "    if len(values.shape) == 0:\n",
    "        values = np.array([values])\n",
    "    if isinstance(model, DecisionTreeRegressor):\n",
    "        biases = np.full(X.shape[0], values[paths[0][0]])\n",
    "        line_shape = X.shape[1]\n",
    "    elif isinstance(model, DecisionTreeClassifier):\n",
    "        # scikit stores category counts, we turn them into probabilities\n",
    "        normalizer = values.sum(axis=1)[:, np.newaxis]\n",
    "        normalizer[normalizer == 0.0] = 1.0\n",
    "        values /= normalizer\n",
    "\n",
    "        biases = np.tile(values[paths[0][0]], (X.shape[0], 1))\n",
    "        line_shape = (X.shape[1], model.n_classes_)\n",
    "    direct_prediction = values[leaves]\n",
    "    \n",
    "    \n",
    "    #make into python list, accessing values will be faster\n",
    "    values_list = list(values)\n",
    "    feature_index = list(model.tree_.feature)\n",
    "    \n",
    "    contributions = []\n",
    "    if joint_contribution:\n",
    "        for row, leaf in enumerate(leaves):\n",
    "            path = leaf_to_path[leaf]\n",
    "            \n",
    "            \n",
    "            path_features = set()\n",
    "            contributions.append({})\n",
    "            for i in range(len(path) - 1):\n",
    "                path_features.add(feature_index[path[i]])\n",
    "                contrib = values_list[path[i+1]] - \\\n",
    "                         values_list[path[i]]\n",
    "                #path_features.sort()\n",
    "                contributions[row][tuple(sorted(path_features))] = \\\n",
    "                    contributions[row].get(tuple(sorted(path_features)), 0) + contrib\n",
    "        return direct_prediction, biases, contributions\n",
    "        \n",
    "    else:\n",
    "\n",
    "        for row, leaf in enumerate(leaves):\n",
    "            for path in paths:\n",
    "                if leaf == path[-1]:\n",
    "                    break\n",
    "            \n",
    "            contribs = np.zeros(line_shape)\n",
    "            for i in range(len(path) - 1):\n",
    "                \n",
    "                contrib = values_list[path[i+1]] - \\\n",
    "                         values_list[path[i]]\n",
    "                contribs[feature_index[path[i]]] += contrib\n",
    "            contributions.append(contribs)\n",
    "    \n",
    "        return direct_prediction, biases, np.array(contributions)\n",
    "\n",
    "\n",
    "def _predict_forest(model, X, joint_contribution=False):\n",
    "    \"\"\"\n",
    "    For a given RandomForestRegressor, RandomForestClassifier,\n",
    "    ExtraTreesRegressor, or ExtraTreesClassifier returns a triple of\n",
    "    [prediction, bias and feature_contributions], such that prediction ≈ bias +\n",
    "    feature_contributions.\n",
    "    \"\"\"\n",
    "    biases = []\n",
    "    contributions = []\n",
    "    predictions = []\n",
    "\n",
    "    \n",
    "    if joint_contribution:\n",
    "        \n",
    "        for tree in model.estimators_:\n",
    "            pred, bias, contribution = _predict_tree(tree, X, joint_contribution=joint_contribution)\n",
    "\n",
    "            biases.append(bias)\n",
    "            contributions.append(contribution)\n",
    "            predictions.append(pred)\n",
    "        \n",
    "        \n",
    "        total_contributions = []\n",
    "        \n",
    "        for i in range(len(X)):\n",
    "            contr = {}\n",
    "            for j, dct in enumerate(contributions):\n",
    "                for k in set(dct[i]).union(set(contr.keys())):\n",
    "                    contr[k] = (contr.get(k, 0)*j + dct[i].get(k,0) ) / (j+1)\n",
    "\n",
    "            total_contributions.append(contr)    \n",
    "            \n",
    "        for i, item in enumerate(contribution):\n",
    "            total_contributions[i]\n",
    "            sm = sum([v for v in contribution[i].values()])\n",
    "                \n",
    "\n",
    "        \n",
    "        return (np.mean(predictions, axis=0), np.mean(biases, axis=0),\n",
    "            total_contributions)\n",
    "    else:\n",
    "        for tree in model.estimators_:\n",
    "            pred, bias, contribution = _predict_tree(tree, X)\n",
    "\n",
    "            biases.append(bias)\n",
    "            contributions.append(contribution)\n",
    "            predictions.append(pred)\n",
    "        \n",
    "        \n",
    "        return (np.mean(predictions, axis=0), np.mean(biases, axis=0),\n",
    "            np.mean(contributions, axis=0))\n",
    "\n",
    "\n",
    "def predict(model, X, joint_contribution=False):\n",
    "    \"\"\" Returns a triple (prediction, bias, feature_contributions), such\n",
    "    that prediction ≈ bias + feature_contributions.\n",
    "    Parameters\n",
    "    ----------\n",
    "    model : DecisionTreeRegressor, DecisionTreeClassifier,\n",
    "        ExtraTreeRegressor, ExtraTreeClassifier,\n",
    "        RandomForestRegressor, RandomForestClassifier,\n",
    "        ExtraTreesRegressor, ExtraTreesClassifier\n",
    "    Scikit-learn model on which the prediction should be decomposed.\n",
    "    X : array-like, shape = (n_samples, n_features)\n",
    "    Test samples.\n",
    "    \n",
    "    joint_contribution : boolean\n",
    "    Specifies if contributions are given individually from each feature,\n",
    "    or jointly over them\n",
    "    Returns\n",
    "    -------\n",
    "    decomposed prediction : triple of\n",
    "    * prediction, shape = (n_samples) for regression and (n_samples, n_classes)\n",
    "        for classification\n",
    "    * bias, shape = (n_samples) for regression and (n_samples, n_classes) for\n",
    "        classification\n",
    "    * contributions, If joint_contribution is False then returns and  array of \n",
    "        shape = (n_samples, n_features) for regression or\n",
    "        shape = (n_samples, n_features, n_classes) for classification, denoting\n",
    "        contribution from each feature.\n",
    "        If joint_contribution is True, then shape is array of size n_samples,\n",
    "        where each array element is a dict from a tuple of feature indices to\n",
    "        to a value denoting the contribution from that feature tuple.\n",
    "    \"\"\"\n",
    "    # Only single out response variable supported,\n",
    "    if model.n_outputs_ > 1:\n",
    "        raise ValueError(\"Multilabel classification trees not supported\")\n",
    "\n",
    "    if (isinstance(model, DecisionTreeClassifier) or\n",
    "        isinstance(model, DecisionTreeRegressor)):\n",
    "        return _predict_tree(model, X, joint_contribution=joint_contribution)\n",
    "    elif (isinstance(model, ForestClassifier) or\n",
    "          isinstance(model, ForestRegressor)):\n",
    "        return _predict_forest(model, X, joint_contribution=joint_contribution)\n",
    "    else:\n",
    "        raise ValueError(\"Wrong model type. Base learner needs to be a \"\n",
    "                         \"DecisionTreeClassifier or DecisionTreeRegressor.\")"
   ]
  },
  {
   "cell_type": "markdown",
   "metadata": {
    "_cell_guid": "138f1045-6e53-4c86-bd11-ae64440a2a8c",
    "_uuid": "f3d0db3bf491354efe4b96586e661450b2925f87"
   },
   "source": [
    "## **Below i'm using the `predict` function from the tree interpreter package.**\n",
    "https://github.com/andosa/treeinterpreter\n",
    "This great package decomposes the tree into a number of components"
   ]
  },
  {
   "cell_type": "code",
   "execution_count": 61,
   "metadata": {
    "_cell_guid": "cab883ad-4e23-48c8-ab9c-38a99c5e3818",
    "_uuid": "859f2fc1c5524ce4b1e026cf1debf5b72631163f"
   },
   "outputs": [],
   "source": [
    "prediction, bias, contributions = predict(single_tree, X_matrix)"
   ]
  },
  {
   "cell_type": "markdown",
   "metadata": {
    "_cell_guid": "fdb58424-fb8d-4702-bd69-09a687dced98",
    "_uuid": "f856649c0d970d031df707d806f82644895e8237"
   },
   "source": [
    "### ** We now have a table of contributions. Each row is a sample, and every column is a field and the $ contribution to the predicted sale price**"
   ]
  },
  {
   "cell_type": "code",
   "execution_count": 62,
   "metadata": {
    "_cell_guid": "32497ec6-8312-4a75-be13-39ad4992f148",
    "_uuid": "97e8a1e9b4cb48439a7c691441f585d574064276"
   },
   "outputs": [
    {
     "data": {
      "text/html": [
       "<div>\n",
       "<style scoped>\n",
       "    .dataframe tbody tr th:only-of-type {\n",
       "        vertical-align: middle;\n",
       "    }\n",
       "\n",
       "    .dataframe tbody tr th {\n",
       "        vertical-align: top;\n",
       "    }\n",
       "\n",
       "    .dataframe thead th {\n",
       "        text-align: right;\n",
       "    }\n",
       "</style>\n",
       "<table border=\"1\" class=\"dataframe\">\n",
       "  <thead>\n",
       "    <tr style=\"text-align: right;\">\n",
       "      <th></th>\n",
       "      <th>YrSold</th>\n",
       "      <th>TotRmsAbvGrd</th>\n",
       "      <th>Neighborhood_Mitchel</th>\n",
       "      <th>Neighborhood_NridgHt</th>\n",
       "      <th>Neighborhood_OldTown</th>\n",
       "      <th>Neighborhood_Sawyer</th>\n",
       "      <th>Neighborhood_Somerst</th>\n",
       "      <th>Neighborhood_Veenker</th>\n",
       "      <th>bias</th>\n",
       "    </tr>\n",
       "  </thead>\n",
       "  <tbody>\n",
       "    <tr>\n",
       "      <th>0</th>\n",
       "      <td>0.0</td>\n",
       "      <td>32832.726489</td>\n",
       "      <td>0.000000</td>\n",
       "      <td>-10502.036522</td>\n",
       "      <td>19444.677661</td>\n",
       "      <td>7384.057971</td>\n",
       "      <td>0.000000</td>\n",
       "      <td>-7494.338933</td>\n",
       "      <td>179751.58</td>\n",
       "    </tr>\n",
       "    <tr>\n",
       "      <th>1</th>\n",
       "      <td>-152625.0</td>\n",
       "      <td>0.000000</td>\n",
       "      <td>0.000000</td>\n",
       "      <td>-10502.036522</td>\n",
       "      <td>0.000000</td>\n",
       "      <td>0.000000</td>\n",
       "      <td>0.000000</td>\n",
       "      <td>164875.456522</td>\n",
       "      <td>179751.58</td>\n",
       "    </tr>\n",
       "    <tr>\n",
       "      <th>2</th>\n",
       "      <td>0.0</td>\n",
       "      <td>-16138.119800</td>\n",
       "      <td>-5073.566227</td>\n",
       "      <td>-10502.036522</td>\n",
       "      <td>0.000000</td>\n",
       "      <td>0.000000</td>\n",
       "      <td>-1970.877009</td>\n",
       "      <td>-7494.338933</td>\n",
       "      <td>179751.58</td>\n",
       "    </tr>\n",
       "    <tr>\n",
       "      <th>3</th>\n",
       "      <td>0.0</td>\n",
       "      <td>32832.726489</td>\n",
       "      <td>0.000000</td>\n",
       "      <td>-10502.036522</td>\n",
       "      <td>19444.677661</td>\n",
       "      <td>7384.057971</td>\n",
       "      <td>0.000000</td>\n",
       "      <td>-7494.338933</td>\n",
       "      <td>179751.58</td>\n",
       "    </tr>\n",
       "    <tr>\n",
       "      <th>4</th>\n",
       "      <td>0.0</td>\n",
       "      <td>32832.726489</td>\n",
       "      <td>0.000000</td>\n",
       "      <td>-10502.036522</td>\n",
       "      <td>19444.677661</td>\n",
       "      <td>7384.057971</td>\n",
       "      <td>0.000000</td>\n",
       "      <td>-7494.338933</td>\n",
       "      <td>179751.58</td>\n",
       "    </tr>\n",
       "  </tbody>\n",
       "</table>\n",
       "</div>"
      ],
      "text/plain": [
       "     YrSold  TotRmsAbvGrd  Neighborhood_Mitchel  Neighborhood_NridgHt  \\\n",
       "0       0.0  32832.726489              0.000000         -10502.036522   \n",
       "1 -152625.0      0.000000              0.000000         -10502.036522   \n",
       "2       0.0 -16138.119800          -5073.566227         -10502.036522   \n",
       "3       0.0  32832.726489              0.000000         -10502.036522   \n",
       "4       0.0  32832.726489              0.000000         -10502.036522   \n",
       "\n",
       "   Neighborhood_OldTown  Neighborhood_Sawyer  Neighborhood_Somerst  \\\n",
       "0          19444.677661          7384.057971              0.000000   \n",
       "1              0.000000             0.000000              0.000000   \n",
       "2              0.000000             0.000000          -1970.877009   \n",
       "3          19444.677661          7384.057971              0.000000   \n",
       "4          19444.677661          7384.057971              0.000000   \n",
       "\n",
       "   Neighborhood_Veenker       bias  \n",
       "0          -7494.338933  179751.58  \n",
       "1         164875.456522  179751.58  \n",
       "2          -7494.338933  179751.58  \n",
       "3          -7494.338933  179751.58  \n",
       "4          -7494.338933  179751.58  "
      ]
     },
     "execution_count": 62,
     "metadata": {},
     "output_type": "execute_result"
    }
   ],
   "source": [
    "contribution_matrix =  pd.DataFrame(contributions, columns=X_matrix.columns)\n",
    "contribution_matrix['bias'] = bias\n",
    "\n",
    "tmp_sums = contribution_matrix.sum()\n",
    "nonzero_cols = tmp_sums[tmp_sums!=0].index\n",
    "\n",
    "contribution_matrix[nonzero_cols].head(5)"
   ]
  },
  {
   "cell_type": "markdown",
   "metadata": {
    "_cell_guid": "d9a51052-f96f-416c-bd48-f3f480ae73c0",
    "_uuid": "97d85a5f299903bb8545f8d58d46f04cc2e55a68"
   },
   "source": [
    "## **Let's Check to make sure the addition of the components equal the prediction below**"
   ]
  },
  {
   "cell_type": "code",
   "execution_count": 63,
   "metadata": {
    "_cell_guid": "c494138c-bab5-43a0-b983-55ac1be1b109",
    "_uuid": "1cf818b7498847d43ef5d66bb7e0a4e4de6a1edc"
   },
   "outputs": [
    {
     "data": {
      "text/plain": [
       "0    221416.666667\n",
       "1    181500.000000\n",
       "2    138572.641509\n",
       "3    221416.666667\n",
       "dtype: float64"
      ]
     },
     "execution_count": 63,
     "metadata": {},
     "output_type": "execute_result"
    }
   ],
   "source": [
    "contribution_matrix[nonzero_cols].head(4).sum(axis=1)"
   ]
  },
  {
   "cell_type": "code",
   "execution_count": 64,
   "metadata": {
    "_cell_guid": "8a17dcfc-5f7b-40f6-b83f-98ee4c2fd80c",
    "_uuid": "020483cf3685e1d6a5ecc688927403efa4ae8089"
   },
   "outputs": [
    {
     "data": {
      "text/plain": [
       "array([221416.66666667, 181500.        , 138572.64150943, 221416.66666667,\n",
       "       221416.66666667])"
      ]
     },
     "execution_count": 64,
     "metadata": {},
     "output_type": "execute_result"
    }
   ],
   "source": [
    "prediction[[0,1,2,3,4]]"
   ]
  }
 ],
 "metadata": {
  "kernelspec": {
   "display_name": "Python 3",
   "language": "python",
   "name": "python3"
  },
  "language_info": {
   "codemirror_mode": {
    "name": "ipython",
    "version": 3
   },
   "file_extension": ".py",
   "mimetype": "text/x-python",
   "name": "python",
   "nbconvert_exporter": "python",
   "pygments_lexer": "ipython3",
   "version": "3.6.4"
  }
 },
 "nbformat": 4,
 "nbformat_minor": 1
}
