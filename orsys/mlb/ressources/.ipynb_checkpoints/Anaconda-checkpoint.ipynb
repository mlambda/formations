{
 "cells": [
  {
   "cell_type": "markdown",
   "metadata": {
    "colab_type": "text",
    "id": "8Ywqu85h3fVZ"
   },
   "source": [
    "#Ceci est une cellule de Texte\n",
    "C'est très utile pour commenter du code"
   ]
  },
  {
   "cell_type": "code",
   "execution_count": 2,
   "metadata": {
    "colab": {},
    "colab_type": "code",
    "id": "VnmAdesn3tx-"
   },
   "outputs": [
    {
     "name": "stdout",
     "output_type": "stream",
     "text": [
      "a= 8 ; b= une chaine de caractère\n"
     ]
    }
   ],
   "source": [
    "a=\"une chaine de caractère\"\n",
    "b=a\n",
    "a=8\n",
    "\n",
    "if a > 5:\n",
    "    print('a=',a,'; b=',b)\n",
    "else:\n",
    "    print(\"c'est étrange\")"
   ]
  },
  {
   "cell_type": "markdown",
   "metadata": {
    "colab_type": "text",
    "id": "HR8XNxgb33eZ"
   },
   "source": [
    "#Encore une autre cellule de Texte\n",
    "une liste de points :\n",
    "- mon premier est un nombre irrationnel\n",
    "- mon second est un gros poisson\n",
    "- mon tout va nous servir cette semaine"
   ]
  },
  {
   "cell_type": "markdown",
   "metadata": {
    "colab_type": "text",
    "id": "ShGVXJSb4fDy"
   },
   "source": [
    "## Réponse cachée :"
   ]
  },
  {
   "cell_type": "markdown",
   "metadata": {
    "colab_type": "text",
    "id": "4KkN6bW64j12"
   },
   "source": [
    "**Python**"
   ]
  },
  {
   "cell_type": "markdown",
   "metadata": {
    "colab_type": "text",
    "id": "pv-Tj8RR4s0N"
   },
   "source": [
    "#Quelques éléments de syntaxe"
   ]
  },
  {
   "cell_type": "code",
   "execution_count": 3,
   "metadata": {
    "colab": {},
    "colab_type": "code",
    "id": "Rqhyjg-n3oYh"
   },
   "outputs": [],
   "source": [
    "data = [ 1.0 , 2.5 , 3.6]"
   ]
  },
  {
   "cell_type": "code",
   "execution_count": 4,
   "metadata": {
    "colab": {},
    "colab_type": "code",
    "id": "uRFNU8UW6aQK"
   },
   "outputs": [
    {
     "name": "stdout",
     "output_type": "stream",
     "text": [
      "valeur dans data supérieur à 1 :  2.5\n",
      "valeur dans data supérieur à 1 :  3.6\n"
     ]
    }
   ],
   "source": [
    "for val in data:\n",
    "  if val > 1:\n",
    "    print(\"valeur dans data supérieur à 1 : \",val)"
   ]
  },
  {
   "cell_type": "code",
   "execution_count": null,
   "metadata": {
    "colab": {},
    "colab_type": "code",
    "id": "_4F0o96S6BEH"
   },
   "outputs": [],
   "source": [
    "for i,val in enumerate(data):\n",
    "  if i > 1:\n",
    "    print(\"valeur dans data d'indice supérieur à 1 : \",val)"
   ]
  },
  {
   "cell_type": "code",
   "execution_count": 6,
   "metadata": {
    "colab": {},
    "colab_type": "code",
    "id": "EvJ8MpZ96R75"
   },
   "outputs": [],
   "source": [
    "data = [ 3 , 5 , 9 , 1/2 , \"8\" ]"
   ]
  }
 ],
 "metadata": {
  "colab": {
   "collapsed_sections": [
    "ShGVXJSb4fDy"
   ],
   "name": "Jupyter Notebook Demo.ipynb",
   "private_outputs": true,
   "provenance": [
    {
     "file_id": "1aM4p0VGPayPvpVDK8HarZDfgaoP_KB55",
     "timestamp": 1571922126932
    }
   ]
  },
  "kernelspec": {
   "display_name": "Python 3",
   "language": "python",
   "name": "python3"
  },
  "language_info": {
   "codemirror_mode": {
    "name": "ipython",
    "version": 3
   },
   "file_extension": ".py",
   "mimetype": "text/x-python",
   "name": "python",
   "nbconvert_exporter": "python",
   "pygments_lexer": "ipython3",
   "version": "3.7.4"
  }
 },
 "nbformat": 4,
 "nbformat_minor": 1
}
